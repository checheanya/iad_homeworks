{
 "cells": [
  {
   "cell_type": "markdown",
   "metadata": {
    "id": "Dfg8XBsW06yp"
   },
   "source": [
    "# Трансформеры\n",
    "В этом домашнем задании мы рассмотим использование трансформеров в библиотеке PyTorch. Рассмотрим задачу языкового моделирования. Попробуем генерировать текст нейронной сетью. "
   ]
  },
  {
   "cell_type": "markdown",
   "metadata": {
    "id": "FjKURg2J06yx"
   },
   "source": [
    "Ссылка на данные - https://drive.google.com/drive/folders/1x1A4ElliUGBPnHladGMwPxPuGxI8Vnpu?usp=sharing"
   ]
  },
  {
   "cell_type": "code",
   "execution_count": 2,
   "metadata": {
    "execution": {
     "iopub.execute_input": "2021-12-20T15:39:17.651017Z",
     "iopub.status.busy": "2021-12-20T15:39:17.650638Z",
     "iopub.status.idle": "2021-12-20T15:39:19.042936Z",
     "shell.execute_reply": "2021-12-20T15:39:19.042251Z",
     "shell.execute_reply.started": "2021-12-20T15:39:17.650912Z"
    },
    "id": "Rl5ajNwX06y0"
   },
   "outputs": [],
   "source": [
    "# хороший тон, импортировать все необходимые библиотеки в одной ячейке ;)\n",
    "\n",
    "import torch\n",
    "from torch import nn\n",
    "from torch.utils.data import DataLoader\n",
    "\n",
    "import numpy as np\n",
    "import time\n",
    "import math"
   ]
  },
  {
   "cell_type": "markdown",
   "metadata": {
    "id": "2L5w3RM706y2"
   },
   "source": [
    "Что такое языковое моделирование? Это предсказание вероятности следующего токена (слова или буквы) на основе предыдущих токенов. Математически это можно описать так:\n",
    "\n",
    "$$P(x_i|x_1, x_2 , ... , x_{i-1})$$ \n",
    "\n",
    "Последовательность $$ x_1, x_2, ... x_{i-1} $$ называют контекстом."
   ]
  },
  {
   "cell_type": "markdown",
   "metadata": {
    "id": "vYziybR006y3"
   },
   "source": [
    "## Задание 0 (0 баллов, но сделать нужно)\n",
    "Проставьте знаки неравенств, исходя из вашего опыта:\n",
    "$$ P(раму | мама, мыла) > P(папу | мама, мыла) $$\n",
    "-- устойчивая фраза\n",
    "\n",
    "$$ P(столу | дорога, ложка, к) < P(обеду | дорога, ложка, к) $$\n",
    "-- устойчивая фраза - пословица\n",
    "\n",
    "$$ P(Евпатий | меня, зовут) < P(Ваня | меня, зовут) $$\n",
    "-- Ваня более часто встречающееся имя\n",
    "\n",
    "$$ P(журналы | я, часто ,читаю) > P(комиксы | я, часто ,читаю)\n",
    "$$\n",
    "-- смотря какую аудиторию мы рассматриваем, но мне кажется, что журналы в сумме популярнее"
   ]
  },
  {
   "cell_type": "markdown",
   "metadata": {
    "id": "FkZUVbBM06y4"
   },
   "source": [
    "Ответ : "
   ]
  },
  {
   "cell_type": "markdown",
   "metadata": {
    "id": "MLUIsW3t06y4"
   },
   "source": [
    "Если для некоторых из примеров проставить знаки достаточно просто, то на некоторые сложно сказать, какой овтет верный. Мы принимаем решение для данного задания исходя их опыта использования русского языка. Мы много читали на русском и слушали огромное количество русской речи. Обучение языковых моделей происходит по схожему принципу. \n",
    "\n",
    "Мы хотим показать модели столько текстов, сколько можем и надеемся, что она наберется достаточно опыта, чтобы расставлять такие знаки неравества максимально схоже с человеком."
   ]
  },
  {
   "cell_type": "markdown",
   "metadata": {
    "id": "e_5U7NQY06y5"
   },
   "source": [
    "## Задание 1 (0.5 балла)\n",
    "Мы будем обучать языковую модель для предсказания следущей буквы. Такие языковые модели применяются в распозновании речи, так как предоставляют дополнительную информацию акустической модели при выборе следующего символа. Для начала, откройте файл с данными, посмотрите, какие символы входят в тексты, сколько их. Уберите из текста все символы переноса на новую строку и табуляцию."
   ]
  },
  {
   "cell_type": "code",
   "execution_count": 3,
   "metadata": {
    "colab": {
     "base_uri": "https://localhost:8080/"
    },
    "id": "ndRmqMeX9sD8",
    "outputId": "028ec399-f546-4842-bb05-226c212ab5e0"
   },
   "outputs": [
    {
     "name": "stdout",
     "output_type": "stream",
     "text": [
      "--2021-12-20 20:27:59--  https://docs.google.com/uc?export=download&id=1ijpKzdj4d1b0zYKot3_380OWtiI-2UJX\n",
      "Resolving docs.google.com (docs.google.com)... 64.233.189.102, 64.233.189.100, 64.233.189.138, ...\n",
      "Connecting to docs.google.com (docs.google.com)|64.233.189.102|:443... connected.\n",
      "HTTP request sent, awaiting response... 302 Moved Temporarily\n",
      "Location: https://doc-0s-54-docs.googleusercontent.com/docs/securesc/ha0ro937gcuc7l7deffksulhg5h7mbp1/fnhd5jnbvq8hp3kdvs87uf49nl32n0v4/1640032050000/09709797766287458306/*/1ijpKzdj4d1b0zYKot3_380OWtiI-2UJX?e=download [following]\n",
      "Warning: wildcards not supported in HTTP.\n",
      "--2021-12-20 20:28:00--  https://doc-0s-54-docs.googleusercontent.com/docs/securesc/ha0ro937gcuc7l7deffksulhg5h7mbp1/fnhd5jnbvq8hp3kdvs87uf49nl32n0v4/1640032050000/09709797766287458306/*/1ijpKzdj4d1b0zYKot3_380OWtiI-2UJX?e=download\n",
      "Resolving doc-0s-54-docs.googleusercontent.com (doc-0s-54-docs.googleusercontent.com)... 108.177.125.132, 2404:6800:4008:c01::84\n",
      "Connecting to doc-0s-54-docs.googleusercontent.com (doc-0s-54-docs.googleusercontent.com)|108.177.125.132|:443... connected.\n",
      "HTTP request sent, awaiting response... 200 OK\n",
      "Length: 56028286 (53M) [text/plain]\n",
      "Saving to: ‘data.txt’\n",
      "\n",
      "data.txt            100%[===================>]  53.43M   126MB/s    in 0.4s    \n",
      "\n",
      "2021-12-20 20:28:01 (126 MB/s) - ‘data.txt’ saved [56028286/56028286]\n",
      "\n"
     ]
    }
   ],
   "source": [
    "!wget --no-check-certificate 'https://docs.google.com/uc?export=download&id=1ijpKzdj4d1b0zYKot3_380OWtiI-2UJX' -O data.txt"
   ]
  },
  {
   "cell_type": "code",
   "execution_count": 4,
   "metadata": {
    "colab": {
     "base_uri": "https://localhost:8080/"
    },
    "execution": {
     "iopub.execute_input": "2021-12-20T15:39:20.575935Z",
     "iopub.status.busy": "2021-12-20T15:39:20.575683Z",
     "iopub.status.idle": "2021-12-20T15:39:21.666034Z",
     "shell.execute_reply": "2021-12-20T15:39:21.665163Z",
     "shell.execute_reply.started": "2021-12-20T15:39:20.575905Z"
    },
    "id": "sBVvDoZ-06y6",
    "outputId": "234f02ab-6131-4ffc-da7b-66783c93506b"
   },
   "outputs": [
    {
     "data": {
      "text/plain": [
       "700000"
      ]
     },
     "execution_count": 4,
     "metadata": {},
     "output_type": "execute_result"
    }
   ],
   "source": [
    "file = open('data.txt', 'r')\n",
    "data = file.readlines()\n",
    "file.close()\n",
    "len(data)"
   ]
  },
  {
   "cell_type": "code",
   "execution_count": 5,
   "metadata": {
    "colab": {
     "base_uri": "https://localhost:8080/"
    },
    "id": "Lnhd8nkM6q7_",
    "outputId": "602c66c6-806c-4247-b87d-6a477160f6b4"
   },
   "outputs": [
    {
     "data": {
      "text/plain": [
       "['добро\\n',\n",
       " 'кого\\n',\n",
       " 'капитан\\n',\n",
       " 'нет\\n',\n",
       " 'зачем\\n',\n",
       " 'что происходит\\n',\n",
       " 'что такое\\n',\n",
       " 'рассказ\\n',\n",
       " 'никому\\n',\n",
       " 'ну что\\n']"
      ]
     },
     "execution_count": 5,
     "metadata": {},
     "output_type": "execute_result"
    }
   ],
   "source": [
    "data[:10]"
   ]
  },
  {
   "cell_type": "code",
   "execution_count": 6,
   "metadata": {
    "execution": {
     "iopub.execute_input": "2021-12-20T15:39:22.257744Z",
     "iopub.status.busy": "2021-12-20T15:39:22.257221Z",
     "iopub.status.idle": "2021-12-20T15:39:22.665665Z",
     "shell.execute_reply": "2021-12-20T15:39:22.664917Z",
     "shell.execute_reply.started": "2021-12-20T15:39:22.257709Z"
    },
    "id": "0emDNilk06y7"
   },
   "outputs": [],
   "source": [
    "# убираем переносы и табуляцию\n",
    "data = [i.replace('\\n','') for i in data]\n",
    "data = [i.replace('\\t','') for i in data]"
   ]
  },
  {
   "cell_type": "code",
   "execution_count": 7,
   "metadata": {
    "colab": {
     "base_uri": "https://localhost:8080/"
    },
    "execution": {
     "iopub.execute_input": "2021-12-20T12:46:53.475268Z",
     "iopub.status.busy": "2021-12-20T12:46:53.474964Z",
     "iopub.status.idle": "2021-12-20T12:46:55.561018Z",
     "shell.execute_reply": "2021-12-20T12:46:55.559921Z",
     "shell.execute_reply.started": "2021-12-20T12:46:53.475240Z"
    },
    "id": "VJ-e4q9E06y7",
    "outputId": "8d808bbc-0a65-4576-8a11-b893e2de7a7f"
   },
   "outputs": [
    {
     "name": "stdout",
     "output_type": "stream",
     "text": [
      "35\n",
      "{'ч', 'ё', 'ц', 'з', 'ш', 'е', 'к', 'ж', 'щ', 'я', ' ', 'м', 'и', 'г', '-', 'ъ', 'п', 'д', 'х', 'э', 'л', 'р', 'т', 'н', 'ю', 'о', 'ф', 'ь', 'й', 'а', 'с', 'в', 'ы', 'у', 'б'}\n"
     ]
    }
   ],
   "source": [
    "datastr = ''.join(data)\n",
    "simbs = set(datastr) # сет разных символов\n",
    "print(len(simbs))\n",
    "print(simbs)"
   ]
  },
  {
   "cell_type": "markdown",
   "metadata": {
    "id": "r6_WBmLD06y8"
   },
   "source": [
    "## Задание 2 (0.5 балла)\n",
    "Для обучения модели требуется сначала подготовить текст в подходящий для нейросети вид. Важно также отметить, что нужно добавить два токена start и end, которые отвечают за начало и конец текста. Используйте [ и ] для этой задачи. Также нам нужен токен pad, чтобы заполнять им текст до требуемой длинны для формирования батча.\n",
    "\n",
    "Реализуйте метод preprocess класса Preprocessor. Он должен принимать на вход текст и длинну текста, которую мы ожидаем получить на выходе. Текст должен быть переведен в нижний регистр, в конец текста добавляется требуемое число pad токенов, далее текст векторизуется (каждому символу ставится свое число). Вернуть требуется два вектора. Полученный результат без последнего токена (на нем будем обучаться) и полученный результат без первого токена (целевые метки при обучении)."
   ]
  },
  {
   "cell_type": "code",
   "execution_count": 8,
   "metadata": {
    "execution": {
     "iopub.execute_input": "2021-12-20T15:39:30.023468Z",
     "iopub.status.busy": "2021-12-20T15:39:30.022775Z",
     "iopub.status.idle": "2021-12-20T15:39:30.051097Z",
     "shell.execute_reply": "2021-12-20T15:39:30.050374Z",
     "shell.execute_reply.started": "2021-12-20T15:39:30.023428Z"
    },
    "id": "U7jQySOE06y9"
   },
   "outputs": [],
   "source": [
    "class Preprocessor:\n",
    "    def __init__(self):\n",
    "\n",
    "        self.alphabet = '_добсркгаупитнезчм яжлйвцыэь-шхющёъф][ ' # добавила букву Ф\n",
    "        self.token2ind = {}\n",
    "        self.ind2token = {}\n",
    "        self.starttoken = '[и]' # добавляем старт и стоп токены\n",
    "        self.stoptoken = '[и]'\n",
    "        self.paddtoken = '_'   # пад токен\n",
    "        \n",
    "        for i in range(len(self.alphabet)):\n",
    "            self.token2ind[self.alphabet[i]] = i\n",
    "            self.ind2token[i] = self.alphabet[i]\n",
    "        \n",
    "    def preprocess(self, text, window_size):\n",
    "        \n",
    "        text = list(text.lower())\n",
    "        n_padds = window_size - len(text)\n",
    "        text_pads = np.hstack([text, [self.paddtoken] * n_padds])\n",
    "        vec = torch.tensor([self.token2ind[i] for i in text_pads], dtype = torch.int64)\n",
    "      \n",
    "        return vec[:-1], vec[1:]\n"
   ]
  },
  {
   "cell_type": "code",
   "execution_count": 9,
   "metadata": {
    "colab": {
     "base_uri": "https://localhost:8080/"
    },
    "execution": {
     "iopub.execute_input": "2021-12-20T12:47:14.834196Z",
     "iopub.status.busy": "2021-12-20T12:47:14.833332Z",
     "iopub.status.idle": "2021-12-20T12:47:14.870828Z",
     "shell.execute_reply": "2021-12-20T12:47:14.870253Z",
     "shell.execute_reply.started": "2021-12-20T12:47:14.834155Z"
    },
    "id": "7H5wUIm806y-",
    "outputId": "9a60a1ef-2b83-4167-dd12-3196a01b2afe"
   },
   "outputs": [
    {
     "name": "stdout",
     "output_type": "stream",
     "text": [
      "11\n"
     ]
    },
    {
     "data": {
      "text/plain": [
       "(tensor([8, 3, 5, 8, 6, 8, 1, 8, 3, 5, 8, 0, 0, 0]),\n",
       " tensor([3, 5, 8, 6, 8, 1, 8, 3, 5, 8, 0, 0, 0, 0]))"
      ]
     },
     "execution_count": 9,
     "metadata": {},
     "output_type": "execute_result"
    }
   ],
   "source": [
    "text = 'абракадабра' # проверка\n",
    "print(len(text))\n",
    "Preprocessor().preprocess(text, 15)"
   ]
  },
  {
   "cell_type": "markdown",
   "metadata": {
    "id": "vBIjNk-S06y_"
   },
   "source": [
    "## Задание 3 (0.5 балла)\n",
    "Так как мы решили, что текст будет начинаться токеном [ и заканчиваться токеном ], данные нужно поправить. Реализуйте эту идею, добавьте данные токены в ваши тексты."
   ]
  },
  {
   "cell_type": "code",
   "execution_count": 10,
   "metadata": {
    "colab": {
     "base_uri": "https://localhost:8080/"
    },
    "execution": {
     "iopub.execute_input": "2021-12-20T15:39:32.386410Z",
     "iopub.status.busy": "2021-12-20T15:39:32.386143Z",
     "iopub.status.idle": "2021-12-20T15:39:39.317802Z",
     "shell.execute_reply": "2021-12-20T15:39:39.317132Z",
     "shell.execute_reply.started": "2021-12-20T15:39:32.386380Z"
    },
    "id": "ZumrLZH306y_",
    "outputId": "d1ae5a76-227b-4784-f0f5-6340d3110415"
   },
   "outputs": [
    {
     "data": {
      "text/plain": [
       "array(['[добро]', '[кого]', '[капитан]', ...,\n",
       "       '[хорошо хорошо спасибо всего доброго]',\n",
       "       '[а если вот это клиника наша]',\n",
       "       '[это в отделении позвоните или напишите]'], dtype='<U542')"
      ]
     },
     "execution_count": 10,
     "metadata": {},
     "output_type": "execute_result"
    }
   ],
   "source": [
    "data_tok = np.char.add(['['], data)\n",
    "data_tok = np.char.add(data_tok, [']'])\n",
    "data_tok"
   ]
  },
  {
   "cell_type": "markdown",
   "metadata": {
    "id": "9tQDx2w406zA"
   },
   "source": [
    "## Задание 4 (0.5 балла)\n",
    "Так как мы не располагаем большими мощностями, то давайте ограничим максимальную длинну текста. Вы можете менять этот порог и тем самым уменьшать кол-во текстов в вашей выборке и увеличивая тем самым скорость обучения. Начнем же мы с 128. \n",
    "Выберите порог и оставьте только те тексты, длина которых не превосходит данный порог.\n",
    "\n",
    "Далее разбейте тексты на train и test, перемешайте тексты при разбиении, размер тестовой выборки должен быть 15% от общего числа текстов. "
   ]
  },
  {
   "cell_type": "code",
   "execution_count": 11,
   "metadata": {
    "colab": {
     "base_uri": "https://localhost:8080/"
    },
    "execution": {
     "iopub.execute_input": "2021-12-20T15:39:43.045507Z",
     "iopub.status.busy": "2021-12-20T15:39:43.044963Z",
     "iopub.status.idle": "2021-12-20T15:39:45.694047Z",
     "shell.execute_reply": "2021-12-20T15:39:45.693312Z",
     "shell.execute_reply.started": "2021-12-20T15:39:43.045471Z"
    },
    "id": "dMSV_zJJ06zB",
    "outputId": "76f3bff9-a343-4eac-a96b-4be34d912aba"
   },
   "outputs": [
    {
     "data": {
      "text/plain": [
       "683438"
      ]
     },
     "execution_count": 11,
     "metadata": {},
     "output_type": "execute_result"
    }
   ],
   "source": [
    "THRESHOLD = 128\n",
    "\n",
    "# оставляем тексты не больше порога\n",
    "data_tok = data_tok[ np.char.str_len(data_tok) <= THRESHOLD]\n",
    "len(data_tok)"
   ]
  },
  {
   "cell_type": "code",
   "execution_count": 12,
   "metadata": {
    "execution": {
     "iopub.execute_input": "2021-12-20T15:39:55.800381Z",
     "iopub.status.busy": "2021-12-20T15:39:55.800110Z",
     "iopub.status.idle": "2021-12-20T15:39:56.320286Z",
     "shell.execute_reply": "2021-12-20T15:39:56.319531Z",
     "shell.execute_reply.started": "2021-12-20T15:39:55.800349Z"
    },
    "id": "MxX9i9jn06zE"
   },
   "outputs": [],
   "source": [
    "np.random.shuffle(data_tok)\n",
    "\n",
    "train, test = data_tok[:int(len(data_tok)*0.85)], data_tok[int(len(data_tok)*0.85):]"
   ]
  },
  {
   "cell_type": "markdown",
   "metadata": {
    "id": "ROG-b6G-06zF"
   },
   "source": [
    "## Задание 5 (2 балла)\n",
    "Напишем датасет. На вход датасету передается набор текстов, объект класса Preprocessor и размер окна, который вы выбрали в прошлом задании.\n",
    "Реализуйте методы __len__ и __getitem__."
   ]
  },
  {
   "cell_type": "code",
   "execution_count": 13,
   "metadata": {
    "execution": {
     "iopub.execute_input": "2021-12-20T15:40:04.006520Z",
     "iopub.status.busy": "2021-12-20T15:40:04.005991Z",
     "iopub.status.idle": "2021-12-20T15:40:04.012162Z",
     "shell.execute_reply": "2021-12-20T15:40:04.011507Z",
     "shell.execute_reply.started": "2021-12-20T15:40:04.006483Z"
    },
    "id": "Q5L91X6S06zG"
   },
   "outputs": [],
   "source": [
    "class TextDataset(torch.utils.data.Dataset):\n",
    "    \n",
    "    def __init__(self, x, preproc, win_size = 128):\n",
    "        \n",
    "        x_prepro = lambda x: preproc.preprocess(x, win_size)\n",
    "        self.data = list(map(x_prepro, test))\n",
    "        \n",
    "    def __len__(self):\n",
    "        return len(self.data)\n",
    "    \n",
    "    def __getitem__(self, idx):\n",
    "        return self.data[idx]"
   ]
  },
  {
   "cell_type": "code",
   "execution_count": 14,
   "metadata": {
    "execution": {
     "iopub.execute_input": "2021-12-20T15:40:05.154133Z",
     "iopub.status.busy": "2021-12-20T15:40:05.153605Z",
     "iopub.status.idle": "2021-12-20T15:40:34.098924Z",
     "shell.execute_reply": "2021-12-20T15:40:34.098230Z",
     "shell.execute_reply.started": "2021-12-20T15:40:05.154090Z"
    },
    "id": "g2RzPWmV06zH"
   },
   "outputs": [],
   "source": [
    "preproc = Preprocessor()\n",
    "train_dataset = TextDataset(train, preproc)\n",
    "test_dataset = TextDataset(test, preproc)"
   ]
  },
  {
   "cell_type": "markdown",
   "metadata": {
    "id": "BDSEnv1H06zH"
   },
   "source": [
    "## Задание 6 (2 балла)\n",
    "Напишем модель. Класс для реализации positional encoding реализован за вас, он нужен, чтобы модель могла после получения эмбедингов понимать, на каком месте какой токен находится.\n",
    "\n",
    "Заполните пропуски в классе модели. Гипперпараметры модели вам предлагается подобрать самостоятельно. Рекомендуется использовать не более 6 слоев в трансформере. В декореде испоьлзуйте две линейных слоя с функцией активации ReLU между ними.\n",
    "\n",
    "## Задание 6_1 (0 баллов, но надо ответить!)\n",
    "При обучении языковой модели на основе трансформеров мы используем маскирование символов (как мы это делаем - уже реализовано). Напишите, почему мы это делаем? Почему это так важно?"
   ]
  },
  {
   "cell_type": "markdown",
   "metadata": {
    "id": "vtMRDmEy06zI"
   },
   "source": [
    "Когда мы используем маскирование, мы запрещаем модели на этапе применения механизма внимания в декодере \"заглядывать в будущее\" - использовать последующие симфолы для предсказания интересующего нас символа. Для этого мы говорим, что последующие позиции = -inf.\n",
    "\n",
    "(thx to https://medium.com/analytics-vidhya/masking-in-transformers-self-attention-mechanism-bad3c9ec235c)"
   ]
  },
  {
   "cell_type": "code",
   "execution_count": 15,
   "metadata": {
    "execution": {
     "iopub.execute_input": "2021-12-20T15:41:03.749820Z",
     "iopub.status.busy": "2021-12-20T15:41:03.749330Z",
     "iopub.status.idle": "2021-12-20T15:41:03.758122Z",
     "shell.execute_reply": "2021-12-20T15:41:03.757357Z",
     "shell.execute_reply.started": "2021-12-20T15:41:03.749785Z"
    },
    "id": "WhubUkaP06zI"
   },
   "outputs": [],
   "source": [
    "class PositionalEncoding(nn.Module):\n",
    "\n",
    "    def __init__(self, d_model, dropout=0.1, max_len=5000):\n",
    "        super(PositionalEncoding, self).__init__()\n",
    "        self.dropout = nn.Dropout(p=dropout)\n",
    "\n",
    "        pe = torch.zeros(max_len, d_model)\n",
    "        position = torch.arange(0, max_len, dtype=torch.float).unsqueeze(1)\n",
    "        div_term = torch.exp(torch.arange(0, d_model, 2).float() * (-math.log(10000.0) / d_model))\n",
    "        pe[:, 0::2] = torch.sin(position * div_term)\n",
    "        pe[:, 1::2] = torch.cos(position * div_term)\n",
    "        pe = pe.unsqueeze(0).transpose(0, 1)\n",
    "        self.register_buffer('pe', pe)\n",
    "\n",
    "    def forward(self, x):\n",
    "        x = x + self.pe[:x.size(0), :]\n",
    "        return self.dropout(x)"
   ]
  },
  {
   "cell_type": "code",
   "execution_count": 16,
   "metadata": {
    "execution": {
     "iopub.execute_input": "2021-12-20T15:53:01.553059Z",
     "iopub.status.busy": "2021-12-20T15:53:01.552803Z",
     "iopub.status.idle": "2021-12-20T15:53:01.562394Z",
     "shell.execute_reply": "2021-12-20T15:53:01.561711Z",
     "shell.execute_reply.started": "2021-12-20T15:53:01.553031Z"
    },
    "id": "Yps1XR6R06zJ"
   },
   "outputs": [],
   "source": [
    "class LanguageModel(nn.Module):\n",
    "    def __init__(self, vocab_size):\n",
    "        super(LanguageModel, self).__init__()\n",
    "        \n",
    "        # гиперпараметры - подбор не приведен, тк был достаточно хаотичный...\n",
    "        d_model = 128\n",
    "        nhead = 4\n",
    "        num_layers = 2\n",
    "        #d_hid = 200\n",
    "\n",
    "        self.vocab_size = vocab_size\n",
    "        self.emb = nn.Embedding(num_embeddings = vocab_size,\n",
    "                                embedding_dim = d_model,  padding_idx = 0)\n",
    "        self.pe = PositionalEncoding(d_model = d_model, dropout = 0.3)\n",
    "\n",
    "        self.transformer_encoder_layer =  nn.TransformerEncoderLayer(d_model = d_model, \n",
    "                                                                     nhead = nhead, dropout = 0.3)\n",
    "                                                                     #dim_feedforward = d_hid )\n",
    "        \n",
    "        self.transformer_encoder = nn.TransformerEncoder(self.transformer_encoder_layer, num_layers = num_layers)\n",
    "        self.decoder = nn.Linear(d_model, vocab_size)\n",
    "    \n",
    "    def forward(self, x, src_mask):\n",
    "        x = self.pe(self.emb(x)) # emb, then pe\n",
    "        x = x.transpose(1, 0)\n",
    "        x = self.transformer_encoder(x, src_mask) # transformer encoder with mask\n",
    "        x = self.decoder(x) # decoder\n",
    "        return x.transpose(1, 0)\n",
    "    \n",
    "    def generate_square_subsequent_mask(self, sz):\n",
    "        # А вот и то самое маскирование\n",
    "        mask = (torch.triu(torch.ones(sz, sz)) == 1).transpose(0, 1)\n",
    "        mask = mask.float().masked_fill(mask == 0, float('-inf')).masked_fill(mask == 1, float(0.0))\n",
    "        return mask"
   ]
  },
  {
   "cell_type": "code",
   "execution_count": 17,
   "metadata": {
    "execution": {
     "iopub.execute_input": "2021-12-20T15:53:01.876317Z",
     "iopub.status.busy": "2021-12-20T15:53:01.876083Z",
     "iopub.status.idle": "2021-12-20T15:53:01.888192Z",
     "shell.execute_reply": "2021-12-20T15:53:01.887555Z",
     "shell.execute_reply.started": "2021-12-20T15:53:01.876274Z"
    },
    "id": "4oZO4b4s06zL"
   },
   "outputs": [],
   "source": [
    "model = LanguageModel(len('_добсркгаупитнезчм яжлйвцыэь-шхющёъ][ф '))"
   ]
  },
  {
   "cell_type": "markdown",
   "metadata": {
    "id": "yvtiApOs06zM"
   },
   "source": [
    "## Задание 7 (2,5 балла)\n",
    "Финишная прямая. Давайте реализуем класс для обучения модели и ее валидации. Следуйте указаниям в коде и заполните недостающие фрагменты в коде."
   ]
  },
  {
   "cell_type": "code",
   "execution_count": 24,
   "metadata": {
    "execution": {
     "iopub.execute_input": "2021-12-20T16:12:35.292208Z",
     "iopub.status.busy": "2021-12-20T16:12:35.291956Z",
     "iopub.status.idle": "2021-12-20T16:12:35.314954Z",
     "shell.execute_reply": "2021-12-20T16:12:35.314238Z",
     "shell.execute_reply.started": "2021-12-20T16:12:35.292180Z"
    },
    "id": "wiwmFhU606zN"
   },
   "outputs": [],
   "source": [
    "class Trainer:\n",
    "    \n",
    "    def __init__(self, model, train_dataset, test_dataset, device = \"cuda:0\"):\n",
    "        \n",
    "        self.model = model\n",
    "        self.train_batch_size = 128\n",
    "        self.test_batch_size = 128\n",
    "        \n",
    "        self.train_dataloader = DataLoader(train_dataset,\n",
    "                                           batch_size = self.train_batch_size,\n",
    "                                           shuffle = True)\n",
    "        \n",
    "        self.test_dataloader = DataLoader(train_dataset,\n",
    "                                           batch_size = self.test_batch_size,\n",
    "                                           shuffle = False)\n",
    "        \n",
    "        self.train_dataloader_size = len(self.train_dataloader)\n",
    "        self.test_dataloader_size = len(self.test_dataloader)\n",
    "        \n",
    "        self.device = device\n",
    "        self.criterion = nn.CrossEntropyLoss(ignore_index = int(0))        \n",
    "        self.optimizer = torch.optim.AdamW(model.parameters(), lr=0.005, eps=1e-08)\n",
    "        \n",
    "        self.steps_to_print = 1000\n",
    "        \n",
    "    def train_one_epoch(self, epoch_number, device = \"cuda:0\"):\n",
    "        step = 0\n",
    "        counted_loss = 0\n",
    "        current_time = time.time()\n",
    "        it = 0\n",
    "        \n",
    "        for batch in self.train_dataloader: # по аналогии с предыдущими дз\n",
    "            \n",
    "            step +=1\n",
    "            it +=1\n",
    "            \n",
    "            x, y = batch\n",
    "            x, y = x.to(device), y.to(device)\n",
    "\n",
    "            batch_size = x.size(1)\n",
    "            \n",
    "            self.src_mask = model.generate_square_subsequent_mask(batch_size).to(device)\n",
    "                \n",
    "            predicted = model(x, self.src_mask).transpose(-1,1)\n",
    "            loss = self.criterion(predicted, y)\n",
    "            \n",
    "            self.optimizer.zero_grad()\n",
    "            loss.backward()\n",
    "            nn.utils.clip_grad_norm_(model.parameters(), 0.5)\n",
    "            self.optimizer.step()\n",
    "            \n",
    "            counted_loss += loss.item()            \n",
    "            \n",
    "            if step%self.steps_to_print == 0:\n",
    "                result = 'Train epoch '+str(epoch_number)+' | '\n",
    "                result += 'Step '+str(step)+'/'+str(self.train_dataloader_size)+' | '\n",
    "                result += 'Counted loss '+str(counted_loss)+' | '\n",
    "                result += 'ppl '+str(math.exp(counted_loss/it))+' | '\n",
    "                result += 'time '+str(time.time() - current_time) + ' | '\n",
    "                print(result)\n",
    "                current_time = time.time()\n",
    "                counted_loss = 0\n",
    "                it = 0\n",
    "    \n",
    "    def validate_one_epoch(self, epoch_number): # по аналогии с предыдущими дз\n",
    "        step = 0\n",
    "        counted_loss = 0\n",
    "        current_time = time.time()\n",
    "        it = 0\n",
    "\n",
    "        for batch in self.test_dataloader:\n",
    "            it +=1\n",
    "            step +=1\n",
    "            x, y = batch\n",
    "            x, y = x.to(torch.int64), y.to(torch.int64)\n",
    "            x, y = x.to(device), y.to(device)\n",
    "            batch_size = x.size(1)\n",
    "            \n",
    "            self.src_mask = model.generate_square_subsequent_mask(batch_size).to(device)\n",
    "                \n",
    "            predicted = model(x, self.src_mask).transpose(-1,1)\n",
    "            loss = self.criterion(predicted, y)\n",
    "            counted_loss += loss.item()\n",
    "            \n",
    "            if step%(self.steps_to_print//2) == 0:\n",
    "                result = 'Validate epoch '+str(epoch_number)+' | '\n",
    "                result += 'Step '+str(step)+'/'+str(self.test_dataloader_size)+' | '\n",
    "                result += 'Counted loss '+str(counted_loss)+' | '\n",
    "                result += 'ppl '+str(math.exp(counted_loss/it))+' | '\n",
    "                result += 'time '+str(time.time() - current_time) + ' | '\n",
    "                print(result)\n",
    "                current_time = time.time()\n",
    "                counted_loss = 0\n",
    "                it = 0\n",
    "        \n",
    "    def train(self, number_of_epochs):\n",
    "        model.to(self.device)\n",
    "        for epoch in range(1, number_of_epochs+1):\n",
    "            model.train()\n",
    "            self.train_one_epoch(epoch)\n",
    "            with torch.no_grad():\n",
    "                model.eval()\n",
    "                self.validate_one_epoch(epoch)\n",
    "            print()"
   ]
  },
  {
   "cell_type": "markdown",
   "metadata": {
    "id": "alREfR9s06zV"
   },
   "source": [
    "Что такое ppl? Перплексия. Ее можно интерпретировать как меру \"удивленности\" модели нужному символу. Чем меньше данная величина, тем лучше, ведь это значит, что модель если и сделала неправильный выбор, то не сильно удивлена своей ошибке.\n",
    "\n",
    "Проведите несколько экспериментов, посмотрите, при каких гипперпараметрах значение перплексии минимально."
   ]
  },
  {
   "cell_type": "markdown",
   "metadata": {
    "id": "3_-drpbV06za"
   },
   "source": [
    "## Задание 8 (0.5 балла)\n",
    "Запустите обучение на нескольких эпохах. Ориентируйтесь на ваши вычислительные мощности и время работы. Вы всегда можете посчитать, сколько секунд уходит на один батч."
   ]
  },
  {
   "cell_type": "code",
   "execution_count": null,
   "metadata": {
    "execution": {
     "iopub.execute_input": "2021-12-20T16:12:36.320630Z",
     "iopub.status.busy": "2021-12-20T16:12:36.320180Z",
     "iopub.status.idle": "2021-12-20T16:13:12.035834Z",
     "shell.execute_reply": "2021-12-20T16:13:12.034934Z",
     "shell.execute_reply.started": "2021-12-20T16:12:36.320594Z"
    },
    "id": "OHh3vuKC06zb"
   },
   "outputs": [],
   "source": [
    "device = torch.device(\"cuda:0\") if torch.cuda.is_available() else torch.device(\"cpu\")\n",
    "training = Trainer(model, train_dataset, test_dataset, device)\n",
    "training.train(2)"
   ]
  },
  {
   "cell_type": "markdown",
   "metadata": {
    "id": "uxW9Yr6h06zb"
   },
   "source": [
    "## Задание 9 (1 балл)\n",
    "Итак, давайте попробуем погенерировать текст нашей сеткой. Закончите функцию по генерации текста. Попробуйте сгенерировать какой-нибудь текст. Помните, что если вы хотите генерировать текст с нуля, то вы должны передать в качестве текста только токен start.\n",
    "Прекратите генерировать текст, если модель выдала токен end или длинна текста больше 150."
   ]
  },
  {
   "cell_type": "code",
   "execution_count": null,
   "metadata": {
    "id": "GYUeAzHz06zc"
   },
   "outputs": [],
   "source": [
    "def generate_text(text):\n",
    "    x = []\n",
    "    \n",
    "    for letter in text:\n",
    "        x.append(preproc.token2ind[letter])\n",
    "    x = torch.from_numpy(np.array(x))\n",
    "    \n",
    "    pred = ...\n",
    "    ind = ... \n",
    "    \n",
    "    text += ... \n",
    "    \n",
    "    if ...:\n",
    "        return text\n",
    "    else:\n",
    "        return generate_text(text)"
   ]
  },
  {
   "cell_type": "markdown",
   "metadata": {
    "id": "IQ0WHQde06zc"
   },
   "source": [
    "## Задание 10* (Задание - бонус, 5 баллов за реализацию при условии, что сделаны прошлые задания)\n",
    "Давайте вспомним, что такое transfer learning. Мы хотим использовать уже предобученные эмбединги для нашей сети, чтобы наша сеть обучалась быстрее. Давайте попробуем обучить новую модель на уровне слов, а не символов, но для упрощения задачи используем предобученный слой из библиотеки Natasha, а вернее, ее блок Navec."
   ]
  },
  {
   "cell_type": "markdown",
   "metadata": {
    "id": "rfXuKFlH06zd"
   },
   "source": [
    "[Изучите](https://github.com/natasha/navec) то, как вставить слой в вашу нейронную сеть."
   ]
  },
  {
   "cell_type": "markdown",
   "metadata": {
    "id": "rAXRPry806zd"
   },
   "source": [
    "Теперь мы хотим, чтобы на вход модели подавались слова, модифицируйте ваш датасет. Возвращайте теперь номер слова в словаре navec."
   ]
  },
  {
   "cell_type": "code",
   "execution_count": null,
   "metadata": {
    "id": "Pbrv-Rp_06zd"
   },
   "outputs": [],
   "source": [
    "class TextDataset_Navec(torch.utils.data.Dataset):\n",
    "    \n",
    "    def __init__(self, x, win_size = 128):\n",
    "        # YOUR CODE HERE\n",
    "        self.navec = ...\n",
    "        ################\n",
    "    \n",
    "    def __len__(self):\n",
    "        # YOUR CODE HERE\n",
    "        ################\n",
    "    \n",
    "    def __getitem__(self, idx):\n",
    "        # YOUR CODE HERE\n",
    "        ################"
   ]
  },
  {
   "cell_type": "markdown",
   "metadata": {
    "id": "pgn4JUaL06ze"
   },
   "source": [
    "Немного модифицируем модель. Теперь нам не нужны слои с трансформером, так как весь механизм внимания уже заложен в ембедингах. Давайте попробуем просто пройтись линейной головой над эмбедингами. Выберите параметры самостоятельно."
   ]
  },
  {
   "cell_type": "code",
   "execution_count": null,
   "metadata": {
    "id": "GvIKrlkS06ze"
   },
   "outputs": [],
   "source": [
    "class LanguageModel(nn.Module):\n",
    "    def __init__(self):\n",
    "        super(LanguageModel, self).__init__()\n",
    "        self.emb_navec = ...\n",
    "        self.head = ...\n",
    "    \n",
    "    def forward(self, x):\n",
    "        x = ... # emb\n",
    "        x = ... # head\n",
    "        return x"
   ]
  },
  {
   "cell_type": "markdown",
   "metadata": {
    "id": "LDGe2dSp06ze"
   },
   "source": [
    "Теперь дело за малым! Надо немного модифицировать класс обучения, так как мы не используем маскирование, после чего можно приступить к тесту!"
   ]
  },
  {
   "cell_type": "code",
   "execution_count": null,
   "metadata": {
    "id": "iY2F1J8R06zf"
   },
   "outputs": [],
   "source": [
    "class Trainer:\n",
    "    \n",
    "    def __init__(self, model, train_dataset, test_dataset):\n",
    "        \n",
    "        self.model = model\n",
    "        \n",
    "        self.train_batch_size = 64\n",
    "        self.test_batch_size = 64\n",
    "        \n",
    "        self.train_dataloader = ...\n",
    "        self.test_dataloader = ...\n",
    "        self.train_dataloader_size = ...\n",
    "        self.test_dataloader_size = ...\n",
    "        \n",
    "        self.device = 'cuda:0'\n",
    "        self.criterion = ... \n",
    "        \n",
    "        self.optimizer = ...\n",
    "        \n",
    "        self.steps_to_print = 1000\n",
    "        \n",
    "    def train_one_epoch(self, epoch_number):\n",
    "        step = 0\n",
    "        counted_loss = 0\n",
    "        current_time = time.time()\n",
    "        it = 0\n",
    "        \n",
    "        for batch in self.train_dataloader:\n",
    "            x, y = batch\n",
    "            # YOUR CODE HERE\n",
    "            \n",
    "            # реализуйте шаги обучения модели\n",
    "            # сохраняйте значение ошибки в переменную counted_loss\n",
    "            \n",
    "            ################\n",
    "            \n",
    "            \n",
    "            if step%self.steps_to_print == 0:\n",
    "                result = 'Train epoch '+str(epoch_number)+' | '\n",
    "                result += 'Step '+str(step)+'/'+str(self.train_dataloader_size)+' | '\n",
    "                result += 'Counted loss '+str(counted_loss)+' | '\n",
    "                result += 'ppl '+str(math.exp(counted_loss/it))+' | '\n",
    "                result += 'time '+str(time.time() - current_time) + ' | '\n",
    "                print(result)\n",
    "                current_time = time.time()\n",
    "                counted_loss = 0\n",
    "                it = 0\n",
    "    \n",
    "    def validate_one_epoch(self, epoch_number):\n",
    "        step = 0\n",
    "        counted_loss = 0\n",
    "        current_time = time.time()\n",
    "        it = 0\n",
    "        for batch in self.test_dataloader:\n",
    "            x, y = batch\n",
    "            \n",
    "            # YOUR CODE HERE\n",
    "            \n",
    "            # реализуйте шаги для теста модели\n",
    "            # помните, что данный метод уже запускается из \n",
    "            # блока with torch.no_grad(), а потому \n",
    "            # повторно его использовать не нужно\n",
    "            \n",
    "            ################\n",
    "            \n",
    "            if step%(self.steps_to_print//2) == 0:\n",
    "                result = 'Validate epoch '+str(epoch_number)+' | '\n",
    "                result += 'Step '+str(step)+'/'+str(self.test_dataloader_size)+' | '\n",
    "                result += 'Counted loss '+str(counted_loss)+' | '\n",
    "                result += 'ppl '+str(math.exp(counted_loss/it))+' | '\n",
    "                result += 'time '+str(time.time() - current_time) + ' | '\n",
    "                print(result)\n",
    "                current_time = time.time()\n",
    "                counted_loss = 0\n",
    "                it = 0\n",
    "        \n",
    "    def train(self, number_of_epochs):\n",
    "        model.to(self.device)\n",
    "        for epoch in range(1, number_of_epochs+1):\n",
    "            model.train()\n",
    "            self.train_one_epoch(epoch)\n",
    "            with torch.no_grad():\n",
    "                model.eval()\n",
    "                self.validate_one_epoch(epoch)\n",
    "            print()"
   ]
  },
  {
   "cell_type": "markdown",
   "metadata": {
    "id": "ejuFzdcH06zg"
   },
   "source": [
    "Запустите обучение. "
   ]
  },
  {
   "cell_type": "code",
   "execution_count": null,
   "metadata": {
    "id": "PajSYIoh06zg"
   },
   "outputs": [],
   "source": [
    "# YOUR CODE HERE\n",
    "###############"
   ]
  }
 ],
 "metadata": {
  "colab": {
   "collapsed_sections": [],
   "name": "hw2_transformer_chechenina.ipynb",
   "provenance": []
  },
  "kernelspec": {
   "display_name": "Python 3 (ipykernel)",
   "language": "python",
   "name": "python3"
  },
  "language_info": {
   "codemirror_mode": {
    "name": "ipython",
    "version": 3
   },
   "file_extension": ".py",
   "mimetype": "text/x-python",
   "name": "python",
   "nbconvert_exporter": "python",
   "pygments_lexer": "ipython3",
   "version": "3.11.5"
  }
 },
 "nbformat": 4,
 "nbformat_minor": 4
}
