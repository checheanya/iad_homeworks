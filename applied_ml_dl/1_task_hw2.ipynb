{
  "nbformat": 4,
  "nbformat_minor": 0,
  "metadata": {
    "colab": {
      "name": "1_task_hw2.ipynb",
      "provenance": [],
      "collapsed_sections": []
    },
    "kernelspec": {
      "display_name": "Python 3",
      "language": "python",
      "name": "python3"
    },
    "language_info": {
      "codemirror_mode": {
        "name": "ipython",
        "version": 3
      },
      "file_extension": ".py",
      "mimetype": "text/x-python",
      "name": "python",
      "nbconvert_exporter": "python",
      "pygments_lexer": "ipython3",
      "version": "3.8.5"
    },
    "max_cell_id": 35,
    "widgets": {
      "application/vnd.jupyter.widget-state+json": {
        "3dbacbb37640468c8d90c02428dc537e": {
          "model_module": "@jupyter-widgets/controls",
          "model_name": "VBoxModel",
          "model_module_version": "1.5.0",
          "state": {
            "_view_name": "VBoxView",
            "_dom_classes": [],
            "_model_name": "VBoxModel",
            "_view_module": "@jupyter-widgets/controls",
            "_model_module_version": "1.5.0",
            "_view_count": null,
            "_view_module_version": "1.5.0",
            "box_style": "",
            "layout": "IPY_MODEL_f6b880f70be64ac99e5e6a707f5b72dd",
            "_model_module": "@jupyter-widgets/controls",
            "children": [
              "IPY_MODEL_cac5efb75bf347e6b3289a2528e13b23",
              "IPY_MODEL_e2ec9438c0c74406bcde81d24e5ff585"
            ]
          }
        },
        "f6b880f70be64ac99e5e6a707f5b72dd": {
          "model_module": "@jupyter-widgets/base",
          "model_name": "LayoutModel",
          "model_module_version": "1.2.0",
          "state": {
            "_view_name": "LayoutView",
            "grid_template_rows": null,
            "right": null,
            "justify_content": null,
            "_view_module": "@jupyter-widgets/base",
            "overflow": null,
            "_model_module_version": "1.2.0",
            "_view_count": null,
            "flex_flow": null,
            "width": null,
            "min_width": null,
            "border": null,
            "align_items": null,
            "bottom": null,
            "_model_module": "@jupyter-widgets/base",
            "top": null,
            "grid_column": null,
            "overflow_y": null,
            "overflow_x": null,
            "grid_auto_flow": null,
            "grid_area": null,
            "grid_template_columns": null,
            "flex": null,
            "_model_name": "LayoutModel",
            "justify_items": null,
            "grid_row": null,
            "max_height": null,
            "align_content": null,
            "visibility": null,
            "align_self": null,
            "height": null,
            "min_height": null,
            "padding": null,
            "grid_auto_rows": null,
            "grid_gap": null,
            "max_width": null,
            "order": null,
            "_view_module_version": "1.2.0",
            "grid_template_areas": null,
            "object_position": null,
            "object_fit": null,
            "grid_auto_columns": null,
            "margin": null,
            "display": null,
            "left": null
          }
        },
        "cac5efb75bf347e6b3289a2528e13b23": {
          "model_module": "@jupyter-widgets/controls",
          "model_name": "LabelModel",
          "model_module_version": "1.5.0",
          "state": {
            "_view_name": "LabelView",
            "style": "IPY_MODEL_dad79f4948154e588767552fb420eb91",
            "_dom_classes": [],
            "description": "",
            "_model_name": "LabelModel",
            "placeholder": "​",
            "_view_module": "@jupyter-widgets/controls",
            "_model_module_version": "1.5.0",
            "value": " 0.01MB of 0.01MB uploaded (0.00MB deduped)\r",
            "_view_count": null,
            "_view_module_version": "1.5.0",
            "description_tooltip": null,
            "_model_module": "@jupyter-widgets/controls",
            "layout": "IPY_MODEL_880126e7d31b46d48002d8037dc7bc9b"
          }
        },
        "e2ec9438c0c74406bcde81d24e5ff585": {
          "model_module": "@jupyter-widgets/controls",
          "model_name": "FloatProgressModel",
          "model_module_version": "1.5.0",
          "state": {
            "_view_name": "ProgressView",
            "style": "IPY_MODEL_1e1dd18645294fd4884b5f303e220faa",
            "_dom_classes": [],
            "description": "",
            "_model_name": "FloatProgressModel",
            "bar_style": "",
            "max": 1,
            "_view_module": "@jupyter-widgets/controls",
            "_model_module_version": "1.5.0",
            "value": 1,
            "_view_count": null,
            "_view_module_version": "1.5.0",
            "orientation": "horizontal",
            "min": 0,
            "description_tooltip": null,
            "_model_module": "@jupyter-widgets/controls",
            "layout": "IPY_MODEL_cab199c844394a9cb328d69d2241f9c6"
          }
        },
        "dad79f4948154e588767552fb420eb91": {
          "model_module": "@jupyter-widgets/controls",
          "model_name": "DescriptionStyleModel",
          "model_module_version": "1.5.0",
          "state": {
            "_view_name": "StyleView",
            "_model_name": "DescriptionStyleModel",
            "description_width": "",
            "_view_module": "@jupyter-widgets/base",
            "_model_module_version": "1.5.0",
            "_view_count": null,
            "_view_module_version": "1.2.0",
            "_model_module": "@jupyter-widgets/controls"
          }
        },
        "880126e7d31b46d48002d8037dc7bc9b": {
          "model_module": "@jupyter-widgets/base",
          "model_name": "LayoutModel",
          "model_module_version": "1.2.0",
          "state": {
            "_view_name": "LayoutView",
            "grid_template_rows": null,
            "right": null,
            "justify_content": null,
            "_view_module": "@jupyter-widgets/base",
            "overflow": null,
            "_model_module_version": "1.2.0",
            "_view_count": null,
            "flex_flow": null,
            "width": null,
            "min_width": null,
            "border": null,
            "align_items": null,
            "bottom": null,
            "_model_module": "@jupyter-widgets/base",
            "top": null,
            "grid_column": null,
            "overflow_y": null,
            "overflow_x": null,
            "grid_auto_flow": null,
            "grid_area": null,
            "grid_template_columns": null,
            "flex": null,
            "_model_name": "LayoutModel",
            "justify_items": null,
            "grid_row": null,
            "max_height": null,
            "align_content": null,
            "visibility": null,
            "align_self": null,
            "height": null,
            "min_height": null,
            "padding": null,
            "grid_auto_rows": null,
            "grid_gap": null,
            "max_width": null,
            "order": null,
            "_view_module_version": "1.2.0",
            "grid_template_areas": null,
            "object_position": null,
            "object_fit": null,
            "grid_auto_columns": null,
            "margin": null,
            "display": null,
            "left": null
          }
        },
        "1e1dd18645294fd4884b5f303e220faa": {
          "model_module": "@jupyter-widgets/controls",
          "model_name": "ProgressStyleModel",
          "model_module_version": "1.5.0",
          "state": {
            "_view_name": "StyleView",
            "_model_name": "ProgressStyleModel",
            "description_width": "",
            "_view_module": "@jupyter-widgets/base",
            "_model_module_version": "1.5.0",
            "_view_count": null,
            "_view_module_version": "1.2.0",
            "bar_color": null,
            "_model_module": "@jupyter-widgets/controls"
          }
        },
        "cab199c844394a9cb328d69d2241f9c6": {
          "model_module": "@jupyter-widgets/base",
          "model_name": "LayoutModel",
          "model_module_version": "1.2.0",
          "state": {
            "_view_name": "LayoutView",
            "grid_template_rows": null,
            "right": null,
            "justify_content": null,
            "_view_module": "@jupyter-widgets/base",
            "overflow": null,
            "_model_module_version": "1.2.0",
            "_view_count": null,
            "flex_flow": null,
            "width": null,
            "min_width": null,
            "border": null,
            "align_items": null,
            "bottom": null,
            "_model_module": "@jupyter-widgets/base",
            "top": null,
            "grid_column": null,
            "overflow_y": null,
            "overflow_x": null,
            "grid_auto_flow": null,
            "grid_area": null,
            "grid_template_columns": null,
            "flex": null,
            "_model_name": "LayoutModel",
            "justify_items": null,
            "grid_row": null,
            "max_height": null,
            "align_content": null,
            "visibility": null,
            "align_self": null,
            "height": null,
            "min_height": null,
            "padding": null,
            "grid_auto_rows": null,
            "grid_gap": null,
            "max_width": null,
            "order": null,
            "_view_module_version": "1.2.0",
            "grid_template_areas": null,
            "object_position": null,
            "object_fit": null,
            "grid_auto_columns": null,
            "margin": null,
            "display": null,
            "left": null
          }
        },
        "29bb76a2735a490ca3c7288aeebe7ec5": {
          "model_module": "@jupyter-widgets/controls",
          "model_name": "HBoxModel",
          "model_module_version": "1.5.0",
          "state": {
            "_view_name": "HBoxView",
            "_dom_classes": [],
            "_model_name": "HBoxModel",
            "_view_module": "@jupyter-widgets/controls",
            "_model_module_version": "1.5.0",
            "_view_count": null,
            "_view_module_version": "1.5.0",
            "box_style": "",
            "layout": "IPY_MODEL_5f6edb2e87944e5895b14e1601780d13",
            "_model_module": "@jupyter-widgets/controls",
            "children": [
              "IPY_MODEL_4ed91a55c4d341abadef627c693ea5a4",
              "IPY_MODEL_452888b217a64f67af2322a570e93aba",
              "IPY_MODEL_733a8dde699e4b04ac0bc4d56baf3ccd"
            ]
          }
        },
        "5f6edb2e87944e5895b14e1601780d13": {
          "model_module": "@jupyter-widgets/base",
          "model_name": "LayoutModel",
          "model_module_version": "1.2.0",
          "state": {
            "_view_name": "LayoutView",
            "grid_template_rows": null,
            "right": null,
            "justify_content": null,
            "_view_module": "@jupyter-widgets/base",
            "overflow": null,
            "_model_module_version": "1.2.0",
            "_view_count": null,
            "flex_flow": null,
            "width": null,
            "min_width": null,
            "border": null,
            "align_items": null,
            "bottom": null,
            "_model_module": "@jupyter-widgets/base",
            "top": null,
            "grid_column": null,
            "overflow_y": null,
            "overflow_x": null,
            "grid_auto_flow": null,
            "grid_area": null,
            "grid_template_columns": null,
            "flex": null,
            "_model_name": "LayoutModel",
            "justify_items": null,
            "grid_row": null,
            "max_height": null,
            "align_content": null,
            "visibility": null,
            "align_self": null,
            "height": null,
            "min_height": null,
            "padding": null,
            "grid_auto_rows": null,
            "grid_gap": null,
            "max_width": null,
            "order": null,
            "_view_module_version": "1.2.0",
            "grid_template_areas": null,
            "object_position": null,
            "object_fit": null,
            "grid_auto_columns": null,
            "margin": null,
            "display": null,
            "left": null
          }
        },
        "4ed91a55c4d341abadef627c693ea5a4": {
          "model_module": "@jupyter-widgets/controls",
          "model_name": "HTMLModel",
          "model_module_version": "1.5.0",
          "state": {
            "_view_name": "HTMLView",
            "style": "IPY_MODEL_56fc606f9bd244f6bdd4b57020657624",
            "_dom_classes": [],
            "description": "",
            "_model_name": "HTMLModel",
            "placeholder": "​",
            "_view_module": "@jupyter-widgets/controls",
            "_model_module_version": "1.5.0",
            "value": "Loss: 4.2091 Accuracy: 15.625:   4%",
            "_view_count": null,
            "_view_module_version": "1.5.0",
            "description_tooltip": null,
            "_model_module": "@jupyter-widgets/controls",
            "layout": "IPY_MODEL_f9c0d445520f4c7a9713278a9515af38"
          }
        },
        "452888b217a64f67af2322a570e93aba": {
          "model_module": "@jupyter-widgets/controls",
          "model_name": "FloatProgressModel",
          "model_module_version": "1.5.0",
          "state": {
            "_view_name": "ProgressView",
            "style": "IPY_MODEL_e9f2fa7f3eff418d9bd65c0d1585a859",
            "_dom_classes": [],
            "description": "",
            "_model_name": "FloatProgressModel",
            "bar_style": "",
            "max": 1563,
            "_view_module": "@jupyter-widgets/controls",
            "_model_module_version": "1.5.0",
            "value": 55,
            "_view_count": null,
            "_view_module_version": "1.5.0",
            "orientation": "horizontal",
            "min": 0,
            "description_tooltip": null,
            "_model_module": "@jupyter-widgets/controls",
            "layout": "IPY_MODEL_4dca431478e9483ead86a48c98b6a9cf"
          }
        },
        "733a8dde699e4b04ac0bc4d56baf3ccd": {
          "model_module": "@jupyter-widgets/controls",
          "model_name": "HTMLModel",
          "model_module_version": "1.5.0",
          "state": {
            "_view_name": "HTMLView",
            "style": "IPY_MODEL_36e60f43bd7b44538925c5bcca0b46b9",
            "_dom_classes": [],
            "description": "",
            "_model_name": "HTMLModel",
            "placeholder": "​",
            "_view_module": "@jupyter-widgets/controls",
            "_model_module_version": "1.5.0",
            "value": " 55/1563 [13:50&lt;6:09:37, 14.71s/it]",
            "_view_count": null,
            "_view_module_version": "1.5.0",
            "description_tooltip": null,
            "_model_module": "@jupyter-widgets/controls",
            "layout": "IPY_MODEL_fe05df1e3a32485590d68be752f73a84"
          }
        },
        "56fc606f9bd244f6bdd4b57020657624": {
          "model_module": "@jupyter-widgets/controls",
          "model_name": "DescriptionStyleModel",
          "model_module_version": "1.5.0",
          "state": {
            "_view_name": "StyleView",
            "_model_name": "DescriptionStyleModel",
            "description_width": "",
            "_view_module": "@jupyter-widgets/base",
            "_model_module_version": "1.5.0",
            "_view_count": null,
            "_view_module_version": "1.2.0",
            "_model_module": "@jupyter-widgets/controls"
          }
        },
        "f9c0d445520f4c7a9713278a9515af38": {
          "model_module": "@jupyter-widgets/base",
          "model_name": "LayoutModel",
          "model_module_version": "1.2.0",
          "state": {
            "_view_name": "LayoutView",
            "grid_template_rows": null,
            "right": null,
            "justify_content": null,
            "_view_module": "@jupyter-widgets/base",
            "overflow": null,
            "_model_module_version": "1.2.0",
            "_view_count": null,
            "flex_flow": null,
            "width": null,
            "min_width": null,
            "border": null,
            "align_items": null,
            "bottom": null,
            "_model_module": "@jupyter-widgets/base",
            "top": null,
            "grid_column": null,
            "overflow_y": null,
            "overflow_x": null,
            "grid_auto_flow": null,
            "grid_area": null,
            "grid_template_columns": null,
            "flex": null,
            "_model_name": "LayoutModel",
            "justify_items": null,
            "grid_row": null,
            "max_height": null,
            "align_content": null,
            "visibility": null,
            "align_self": null,
            "height": null,
            "min_height": null,
            "padding": null,
            "grid_auto_rows": null,
            "grid_gap": null,
            "max_width": null,
            "order": null,
            "_view_module_version": "1.2.0",
            "grid_template_areas": null,
            "object_position": null,
            "object_fit": null,
            "grid_auto_columns": null,
            "margin": null,
            "display": null,
            "left": null
          }
        },
        "e9f2fa7f3eff418d9bd65c0d1585a859": {
          "model_module": "@jupyter-widgets/controls",
          "model_name": "ProgressStyleModel",
          "model_module_version": "1.5.0",
          "state": {
            "_view_name": "StyleView",
            "_model_name": "ProgressStyleModel",
            "description_width": "",
            "_view_module": "@jupyter-widgets/base",
            "_model_module_version": "1.5.0",
            "_view_count": null,
            "_view_module_version": "1.2.0",
            "bar_color": null,
            "_model_module": "@jupyter-widgets/controls"
          }
        },
        "4dca431478e9483ead86a48c98b6a9cf": {
          "model_module": "@jupyter-widgets/base",
          "model_name": "LayoutModel",
          "model_module_version": "1.2.0",
          "state": {
            "_view_name": "LayoutView",
            "grid_template_rows": null,
            "right": null,
            "justify_content": null,
            "_view_module": "@jupyter-widgets/base",
            "overflow": null,
            "_model_module_version": "1.2.0",
            "_view_count": null,
            "flex_flow": null,
            "width": null,
            "min_width": null,
            "border": null,
            "align_items": null,
            "bottom": null,
            "_model_module": "@jupyter-widgets/base",
            "top": null,
            "grid_column": null,
            "overflow_y": null,
            "overflow_x": null,
            "grid_auto_flow": null,
            "grid_area": null,
            "grid_template_columns": null,
            "flex": null,
            "_model_name": "LayoutModel",
            "justify_items": null,
            "grid_row": null,
            "max_height": null,
            "align_content": null,
            "visibility": null,
            "align_self": null,
            "height": null,
            "min_height": null,
            "padding": null,
            "grid_auto_rows": null,
            "grid_gap": null,
            "max_width": null,
            "order": null,
            "_view_module_version": "1.2.0",
            "grid_template_areas": null,
            "object_position": null,
            "object_fit": null,
            "grid_auto_columns": null,
            "margin": null,
            "display": null,
            "left": null
          }
        },
        "36e60f43bd7b44538925c5bcca0b46b9": {
          "model_module": "@jupyter-widgets/controls",
          "model_name": "DescriptionStyleModel",
          "model_module_version": "1.5.0",
          "state": {
            "_view_name": "StyleView",
            "_model_name": "DescriptionStyleModel",
            "description_width": "",
            "_view_module": "@jupyter-widgets/base",
            "_model_module_version": "1.5.0",
            "_view_count": null,
            "_view_module_version": "1.2.0",
            "_model_module": "@jupyter-widgets/controls"
          }
        },
        "fe05df1e3a32485590d68be752f73a84": {
          "model_module": "@jupyter-widgets/base",
          "model_name": "LayoutModel",
          "model_module_version": "1.2.0",
          "state": {
            "_view_name": "LayoutView",
            "grid_template_rows": null,
            "right": null,
            "justify_content": null,
            "_view_module": "@jupyter-widgets/base",
            "overflow": null,
            "_model_module_version": "1.2.0",
            "_view_count": null,
            "flex_flow": null,
            "width": null,
            "min_width": null,
            "border": null,
            "align_items": null,
            "bottom": null,
            "_model_module": "@jupyter-widgets/base",
            "top": null,
            "grid_column": null,
            "overflow_y": null,
            "overflow_x": null,
            "grid_auto_flow": null,
            "grid_area": null,
            "grid_template_columns": null,
            "flex": null,
            "_model_name": "LayoutModel",
            "justify_items": null,
            "grid_row": null,
            "max_height": null,
            "align_content": null,
            "visibility": null,
            "align_self": null,
            "height": null,
            "min_height": null,
            "padding": null,
            "grid_auto_rows": null,
            "grid_gap": null,
            "max_width": null,
            "order": null,
            "_view_module_version": "1.2.0",
            "grid_template_areas": null,
            "object_position": null,
            "object_fit": null,
            "grid_auto_columns": null,
            "margin": null,
            "display": null,
            "left": null
          }
        },
        "afc88162a183463bb3bab600add869cb": {
          "model_module": "@jupyter-widgets/controls",
          "model_name": "HBoxModel",
          "model_module_version": "1.5.0",
          "state": {
            "_view_name": "HBoxView",
            "_dom_classes": [],
            "_model_name": "HBoxModel",
            "_view_module": "@jupyter-widgets/controls",
            "_model_module_version": "1.5.0",
            "_view_count": null,
            "_view_module_version": "1.5.0",
            "box_style": "",
            "layout": "IPY_MODEL_89734e2e2c0442518c73671d24392f8d",
            "_model_module": "@jupyter-widgets/controls",
            "children": [
              "IPY_MODEL_00643df69afc49618ba1a493f60ad074",
              "IPY_MODEL_a0d8c47320aa4fbf960c69d483c5a58b",
              "IPY_MODEL_c10c8fd24bdb4976bfa0834300d1583d"
            ]
          }
        },
        "89734e2e2c0442518c73671d24392f8d": {
          "model_module": "@jupyter-widgets/base",
          "model_name": "LayoutModel",
          "model_module_version": "1.2.0",
          "state": {
            "_view_name": "LayoutView",
            "grid_template_rows": null,
            "right": null,
            "justify_content": null,
            "_view_module": "@jupyter-widgets/base",
            "overflow": null,
            "_model_module_version": "1.2.0",
            "_view_count": null,
            "flex_flow": null,
            "width": null,
            "min_width": null,
            "border": null,
            "align_items": null,
            "bottom": null,
            "_model_module": "@jupyter-widgets/base",
            "top": null,
            "grid_column": null,
            "overflow_y": null,
            "overflow_x": null,
            "grid_auto_flow": null,
            "grid_area": null,
            "grid_template_columns": null,
            "flex": null,
            "_model_name": "LayoutModel",
            "justify_items": null,
            "grid_row": null,
            "max_height": null,
            "align_content": null,
            "visibility": null,
            "align_self": null,
            "height": null,
            "min_height": null,
            "padding": null,
            "grid_auto_rows": null,
            "grid_gap": null,
            "max_width": null,
            "order": null,
            "_view_module_version": "1.2.0",
            "grid_template_areas": null,
            "object_position": null,
            "object_fit": null,
            "grid_auto_columns": null,
            "margin": null,
            "display": null,
            "left": null
          }
        },
        "00643df69afc49618ba1a493f60ad074": {
          "model_module": "@jupyter-widgets/controls",
          "model_name": "HTMLModel",
          "model_module_version": "1.5.0",
          "state": {
            "_view_name": "HTMLView",
            "style": "IPY_MODEL_2b699de03b9141acb479cfb065234a02",
            "_dom_classes": [],
            "description": "",
            "_model_name": "HTMLModel",
            "placeholder": "​",
            "_view_module": "@jupyter-widgets/controls",
            "_model_module_version": "1.5.0",
            "value": "Loss: 5.2623 Accuracy: 0.0:   3%",
            "_view_count": null,
            "_view_module_version": "1.5.0",
            "description_tooltip": null,
            "_model_module": "@jupyter-widgets/controls",
            "layout": "IPY_MODEL_4014767a2eb64b7882102da097956c56"
          }
        },
        "a0d8c47320aa4fbf960c69d483c5a58b": {
          "model_module": "@jupyter-widgets/controls",
          "model_name": "FloatProgressModel",
          "model_module_version": "1.5.0",
          "state": {
            "_view_name": "ProgressView",
            "style": "IPY_MODEL_caadfb56e02f4ae287667f292a3df7da",
            "_dom_classes": [],
            "description": "",
            "_model_name": "FloatProgressModel",
            "bar_style": "danger",
            "max": 313,
            "_view_module": "@jupyter-widgets/controls",
            "_model_module_version": "1.5.0",
            "value": 8,
            "_view_count": null,
            "_view_module_version": "1.5.0",
            "orientation": "horizontal",
            "min": 0,
            "description_tooltip": null,
            "_model_module": "@jupyter-widgets/controls",
            "layout": "IPY_MODEL_93135ebf52da49bdab9289465baf0100"
          }
        },
        "c10c8fd24bdb4976bfa0834300d1583d": {
          "model_module": "@jupyter-widgets/controls",
          "model_name": "HTMLModel",
          "model_module_version": "1.5.0",
          "state": {
            "_view_name": "HTMLView",
            "style": "IPY_MODEL_4163c3d7df4343059fa096a509390ccb",
            "_dom_classes": [],
            "description": "",
            "_model_name": "HTMLModel",
            "placeholder": "​",
            "_view_module": "@jupyter-widgets/controls",
            "_model_module_version": "1.5.0",
            "value": " 8/313 [00:57&lt;27:48,  5.47s/it]",
            "_view_count": null,
            "_view_module_version": "1.5.0",
            "description_tooltip": null,
            "_model_module": "@jupyter-widgets/controls",
            "layout": "IPY_MODEL_107b714de2814dec9b5902117d12fd13"
          }
        },
        "2b699de03b9141acb479cfb065234a02": {
          "model_module": "@jupyter-widgets/controls",
          "model_name": "DescriptionStyleModel",
          "model_module_version": "1.5.0",
          "state": {
            "_view_name": "StyleView",
            "_model_name": "DescriptionStyleModel",
            "description_width": "",
            "_view_module": "@jupyter-widgets/base",
            "_model_module_version": "1.5.0",
            "_view_count": null,
            "_view_module_version": "1.2.0",
            "_model_module": "@jupyter-widgets/controls"
          }
        },
        "4014767a2eb64b7882102da097956c56": {
          "model_module": "@jupyter-widgets/base",
          "model_name": "LayoutModel",
          "model_module_version": "1.2.0",
          "state": {
            "_view_name": "LayoutView",
            "grid_template_rows": null,
            "right": null,
            "justify_content": null,
            "_view_module": "@jupyter-widgets/base",
            "overflow": null,
            "_model_module_version": "1.2.0",
            "_view_count": null,
            "flex_flow": null,
            "width": null,
            "min_width": null,
            "border": null,
            "align_items": null,
            "bottom": null,
            "_model_module": "@jupyter-widgets/base",
            "top": null,
            "grid_column": null,
            "overflow_y": null,
            "overflow_x": null,
            "grid_auto_flow": null,
            "grid_area": null,
            "grid_template_columns": null,
            "flex": null,
            "_model_name": "LayoutModel",
            "justify_items": null,
            "grid_row": null,
            "max_height": null,
            "align_content": null,
            "visibility": null,
            "align_self": null,
            "height": null,
            "min_height": null,
            "padding": null,
            "grid_auto_rows": null,
            "grid_gap": null,
            "max_width": null,
            "order": null,
            "_view_module_version": "1.2.0",
            "grid_template_areas": null,
            "object_position": null,
            "object_fit": null,
            "grid_auto_columns": null,
            "margin": null,
            "display": null,
            "left": null
          }
        },
        "caadfb56e02f4ae287667f292a3df7da": {
          "model_module": "@jupyter-widgets/controls",
          "model_name": "ProgressStyleModel",
          "model_module_version": "1.5.0",
          "state": {
            "_view_name": "StyleView",
            "_model_name": "ProgressStyleModel",
            "description_width": "",
            "_view_module": "@jupyter-widgets/base",
            "_model_module_version": "1.5.0",
            "_view_count": null,
            "_view_module_version": "1.2.0",
            "bar_color": null,
            "_model_module": "@jupyter-widgets/controls"
          }
        },
        "93135ebf52da49bdab9289465baf0100": {
          "model_module": "@jupyter-widgets/base",
          "model_name": "LayoutModel",
          "model_module_version": "1.2.0",
          "state": {
            "_view_name": "LayoutView",
            "grid_template_rows": null,
            "right": null,
            "justify_content": null,
            "_view_module": "@jupyter-widgets/base",
            "overflow": null,
            "_model_module_version": "1.2.0",
            "_view_count": null,
            "flex_flow": null,
            "width": null,
            "min_width": null,
            "border": null,
            "align_items": null,
            "bottom": null,
            "_model_module": "@jupyter-widgets/base",
            "top": null,
            "grid_column": null,
            "overflow_y": null,
            "overflow_x": null,
            "grid_auto_flow": null,
            "grid_area": null,
            "grid_template_columns": null,
            "flex": null,
            "_model_name": "LayoutModel",
            "justify_items": null,
            "grid_row": null,
            "max_height": null,
            "align_content": null,
            "visibility": null,
            "align_self": null,
            "height": null,
            "min_height": null,
            "padding": null,
            "grid_auto_rows": null,
            "grid_gap": null,
            "max_width": null,
            "order": null,
            "_view_module_version": "1.2.0",
            "grid_template_areas": null,
            "object_position": null,
            "object_fit": null,
            "grid_auto_columns": null,
            "margin": null,
            "display": null,
            "left": null
          }
        },
        "4163c3d7df4343059fa096a509390ccb": {
          "model_module": "@jupyter-widgets/controls",
          "model_name": "DescriptionStyleModel",
          "model_module_version": "1.5.0",
          "state": {
            "_view_name": "StyleView",
            "_model_name": "DescriptionStyleModel",
            "description_width": "",
            "_view_module": "@jupyter-widgets/base",
            "_model_module_version": "1.5.0",
            "_view_count": null,
            "_view_module_version": "1.2.0",
            "_model_module": "@jupyter-widgets/controls"
          }
        },
        "107b714de2814dec9b5902117d12fd13": {
          "model_module": "@jupyter-widgets/base",
          "model_name": "LayoutModel",
          "model_module_version": "1.2.0",
          "state": {
            "_view_name": "LayoutView",
            "grid_template_rows": null,
            "right": null,
            "justify_content": null,
            "_view_module": "@jupyter-widgets/base",
            "overflow": null,
            "_model_module_version": "1.2.0",
            "_view_count": null,
            "flex_flow": null,
            "width": null,
            "min_width": null,
            "border": null,
            "align_items": null,
            "bottom": null,
            "_model_module": "@jupyter-widgets/base",
            "top": null,
            "grid_column": null,
            "overflow_y": null,
            "overflow_x": null,
            "grid_auto_flow": null,
            "grid_area": null,
            "grid_template_columns": null,
            "flex": null,
            "_model_name": "LayoutModel",
            "justify_items": null,
            "grid_row": null,
            "max_height": null,
            "align_content": null,
            "visibility": null,
            "align_self": null,
            "height": null,
            "min_height": null,
            "padding": null,
            "grid_auto_rows": null,
            "grid_gap": null,
            "max_width": null,
            "order": null,
            "_view_module_version": "1.2.0",
            "grid_template_areas": null,
            "object_position": null,
            "object_fit": null,
            "grid_auto_columns": null,
            "margin": null,
            "display": null,
            "left": null
          }
        }
      }
    }
  },
  "cells": [
    {
      "cell_type": "markdown",
      "metadata": {
        "id": "kr9vAeEQlRVG"
      },
      "source": [
        "# Домашнее задание 2. Классификация изображений."
      ]
    },
    {
      "cell_type": "markdown",
      "metadata": {
        "id": "BxX49gLclRVJ"
      },
      "source": [
        "В этом задании потребуется обучить классификатор изображений. Будем работать с датасетом, название которого раскрывать не будем. Можете посмотреть самостоятельно на картинки, которые в есть датасете. В нём 200 классов и около 5 тысяч картинок на каждый класс. Классы пронумерованы, как нетрудно догадаться, от 0 до 199. Скачать датасет можно вот [тут](https://yadi.sk/d/BNR41Vu3y0c7qA).\n",
        "\n",
        "Структура датасета простая -- есть директории train/ и val/, в которых лежат обучающие и валидационные данные. В train/ и val/ лежат директориии, соответствующие классам изображений, в которых лежат, собственно, сами изображения.\n",
        " \n",
        "__Задание__. Необходимо выполнить любое из двух заданий\n",
        "\n",
        "1) Добейтесь accuracy **на валидации не менее 0.44**. В этом задании **запрещено** пользоваться предобученными моделями и ресайзом картинок. \n",
        "\n",
        "2) Добейтесь accuracy **на валидации не менее 0.84**. В этом задании делать ресайз и использовать претрейн можно. \n",
        "\n",
        "Напишите краткий отчёт о проделанных экспериментах. Что сработало и что не сработало? Почему вы решили, сделать так, а не иначе? Обязательно указывайте ссылки на чужой код, если вы его используете. Обязательно ссылайтесь на статьи / блогпосты / вопросы на stackoverflow / видосы от ютуберов-машинлернеров / курсы / подсказки от Дяди Васи и прочие дополнительные материалы, если вы их используете. \n",
        "\n",
        "Ваш код обязательно должен проходить все `assert`'ы ниже.\n",
        "\n",
        "Необходимо написать функции `train_one_epoch`, `train` и `predict` по шаблонам ниже (во многом повторяют примеры с семинаров).Обратите особое внимание на функцию `predict`: она должна возвращать список лоссов по всем объектам даталоадера, список предсказанных классов для каждого объекта из даталоалера и список настоящих классов для каждого объекта в даталоадере (и именно в таком порядке).\n",
        "\n",
        "__Использовать внешние данные для обучения строго запрещено в обоих заданиях. Также запрещено обучаться на валидационной выборке__.\n",
        "\n",
        "\n",
        "__Критерии оценки__: Оценка вычисляется по простой формуле: `min(10, 10 * Ваша accuracy / 0.44)` для первого задания и `min(10, 10 * (Ваша accuracy - 0.5) / 0.34)` для второго. Оценка округляется до десятых по арифметическим правилам. Если вы выполнили оба задания, то берется максимум из двух оценок.\n",
        "\n",
        "__Бонус__. Вы получаете 5 бонусных баллов если справляетесь с обоими заданиями на 10 баллов (итого 15 баллов). В противном случае выставляется максимальная из двух оценок и ваш бонус равен нулю.\n",
        "\n",
        "__Советы и указания__:\n",
        " - Наверняка вам потребуется много гуглить о классификации и о том, как заставить её работать. Это нормально, все гуглят. Но не забывайте, что нужно быть готовым за скатанный код отвечать :)\n",
        " - Используйте аугментации. Для этого пользуйтесь модулем `torchvision.transforms` или библиотекой [albumentations](https://github.com/albumentations-team/albumentations)\n",
        " - Можно обучать с нуля или файнтюнить (в зависимости от задания) модели из `torchvision`.\n",
        " - Рекомендуем написать вам сначала класс-датасет (или воспользоваться классом `ImageFolder`), который возвращает картинки и соответствующие им классы, а затем функции для трейна по шаблонам ниже. Однако делать это мы не заставляем. Если вам так неудобно, то можете писать код в удобном стиле. Однако учтите, что чрезмерное изменение нижеперечисленных шаблонов увеличит количество вопросов к вашему коду и повысит вероятность вызова на защиту :)\n",
        " - Валидируйте. Трекайте ошибки как можно раньше, чтобы не тратить время впустую.\n",
        " - Чтобы быстро отладить код, пробуйте обучаться на маленькой части датасета (скажем, 5-10 картинок просто чтобы убедиться что код запускается). Когда вы поняли, что смогли всё отдебажить, переходите обучению по всему датасету\n",
        " - На каждый запуск делайте ровно одно изменение в модели/аугментации/оптимайзере, чтобы понять, что и как влияет на результат.\n",
        " - Фиксируйте random seed.\n",
        " - Начинайте с простых моделей и постепенно переходите к сложным. Обучение лёгких моделей экономит много времени.\n",
        " - Ставьте расписание на learning rate. Уменьшайте его, когда лосс на валидации перестаёт убывать.\n",
        " - Советуем использовать GPU. Если у вас его нет, используйте google colab. Если вам неудобно его использовать на постоянной основе, напишите и отладьте весь код локально на CPU, а затем запустите уже написанный ноутбук в колабе. Авторское решение задания достигает требуемой точности в колабе за 15 минут обучения.\n",
        " \n",
        "Good luck & have fun! :)"
      ]
    },
    {
      "cell_type": "code",
      "metadata": {
        "colab": {
          "base_uri": "https://localhost:8080/"
        },
        "id": "X6LQ50LkLMZi",
        "outputId": "4b96b895-aa10-4b41-f402-66165e995df1"
      },
      "source": [
        "!pip install wandb --upgrade"
      ],
      "execution_count": null,
      "outputs": [
        {
          "output_type": "stream",
          "name": "stdout",
          "text": [
            "Collecting wandb\n",
            "  Downloading wandb-0.12.7-py2.py3-none-any.whl (1.7 MB)\n",
            "\u001b[?25l\r\u001b[K     |▏                               | 10 kB 35.4 MB/s eta 0:00:01\r\u001b[K     |▍                               | 20 kB 19.5 MB/s eta 0:00:01\r\u001b[K     |▋                               | 30 kB 15.2 MB/s eta 0:00:01\r\u001b[K     |▊                               | 40 kB 13.7 MB/s eta 0:00:01\r\u001b[K     |█                               | 51 kB 6.3 MB/s eta 0:00:01\r\u001b[K     |█▏                              | 61 kB 6.8 MB/s eta 0:00:01\r\u001b[K     |█▍                              | 71 kB 7.2 MB/s eta 0:00:01\r\u001b[K     |█▌                              | 81 kB 8.1 MB/s eta 0:00:01\r\u001b[K     |█▊                              | 92 kB 8.4 MB/s eta 0:00:01\r\u001b[K     |██                              | 102 kB 6.4 MB/s eta 0:00:01\r\u001b[K     |██▏                             | 112 kB 6.4 MB/s eta 0:00:01\r\u001b[K     |██▎                             | 122 kB 6.4 MB/s eta 0:00:01\r\u001b[K     |██▌                             | 133 kB 6.4 MB/s eta 0:00:01\r\u001b[K     |██▊                             | 143 kB 6.4 MB/s eta 0:00:01\r\u001b[K     |███                             | 153 kB 6.4 MB/s eta 0:00:01\r\u001b[K     |███                             | 163 kB 6.4 MB/s eta 0:00:01\r\u001b[K     |███▎                            | 174 kB 6.4 MB/s eta 0:00:01\r\u001b[K     |███▌                            | 184 kB 6.4 MB/s eta 0:00:01\r\u001b[K     |███▊                            | 194 kB 6.4 MB/s eta 0:00:01\r\u001b[K     |███▉                            | 204 kB 6.4 MB/s eta 0:00:01\r\u001b[K     |████                            | 215 kB 6.4 MB/s eta 0:00:01\r\u001b[K     |████▎                           | 225 kB 6.4 MB/s eta 0:00:01\r\u001b[K     |████▌                           | 235 kB 6.4 MB/s eta 0:00:01\r\u001b[K     |████▋                           | 245 kB 6.4 MB/s eta 0:00:01\r\u001b[K     |████▉                           | 256 kB 6.4 MB/s eta 0:00:01\r\u001b[K     |█████                           | 266 kB 6.4 MB/s eta 0:00:01\r\u001b[K     |█████▎                          | 276 kB 6.4 MB/s eta 0:00:01\r\u001b[K     |█████▍                          | 286 kB 6.4 MB/s eta 0:00:01\r\u001b[K     |█████▋                          | 296 kB 6.4 MB/s eta 0:00:01\r\u001b[K     |█████▉                          | 307 kB 6.4 MB/s eta 0:00:01\r\u001b[K     |██████                          | 317 kB 6.4 MB/s eta 0:00:01\r\u001b[K     |██████▏                         | 327 kB 6.4 MB/s eta 0:00:01\r\u001b[K     |██████▍                         | 337 kB 6.4 MB/s eta 0:00:01\r\u001b[K     |██████▋                         | 348 kB 6.4 MB/s eta 0:00:01\r\u001b[K     |██████▉                         | 358 kB 6.4 MB/s eta 0:00:01\r\u001b[K     |███████                         | 368 kB 6.4 MB/s eta 0:00:01\r\u001b[K     |███████▏                        | 378 kB 6.4 MB/s eta 0:00:01\r\u001b[K     |███████▍                        | 389 kB 6.4 MB/s eta 0:00:01\r\u001b[K     |███████▋                        | 399 kB 6.4 MB/s eta 0:00:01\r\u001b[K     |███████▊                        | 409 kB 6.4 MB/s eta 0:00:01\r\u001b[K     |████████                        | 419 kB 6.4 MB/s eta 0:00:01\r\u001b[K     |████████▏                       | 430 kB 6.4 MB/s eta 0:00:01\r\u001b[K     |████████▍                       | 440 kB 6.4 MB/s eta 0:00:01\r\u001b[K     |████████▌                       | 450 kB 6.4 MB/s eta 0:00:01\r\u001b[K     |████████▊                       | 460 kB 6.4 MB/s eta 0:00:01\r\u001b[K     |█████████                       | 471 kB 6.4 MB/s eta 0:00:01\r\u001b[K     |█████████                       | 481 kB 6.4 MB/s eta 0:00:01\r\u001b[K     |█████████▎                      | 491 kB 6.4 MB/s eta 0:00:01\r\u001b[K     |█████████▌                      | 501 kB 6.4 MB/s eta 0:00:01\r\u001b[K     |█████████▊                      | 512 kB 6.4 MB/s eta 0:00:01\r\u001b[K     |█████████▉                      | 522 kB 6.4 MB/s eta 0:00:01\r\u001b[K     |██████████                      | 532 kB 6.4 MB/s eta 0:00:01\r\u001b[K     |██████████▎                     | 542 kB 6.4 MB/s eta 0:00:01\r\u001b[K     |██████████▌                     | 552 kB 6.4 MB/s eta 0:00:01\r\u001b[K     |██████████▋                     | 563 kB 6.4 MB/s eta 0:00:01\r\u001b[K     |██████████▉                     | 573 kB 6.4 MB/s eta 0:00:01\r\u001b[K     |███████████                     | 583 kB 6.4 MB/s eta 0:00:01\r\u001b[K     |███████████▎                    | 593 kB 6.4 MB/s eta 0:00:01\r\u001b[K     |███████████▍                    | 604 kB 6.4 MB/s eta 0:00:01\r\u001b[K     |███████████▋                    | 614 kB 6.4 MB/s eta 0:00:01\r\u001b[K     |███████████▉                    | 624 kB 6.4 MB/s eta 0:00:01\r\u001b[K     |████████████                    | 634 kB 6.4 MB/s eta 0:00:01\r\u001b[K     |████████████▏                   | 645 kB 6.4 MB/s eta 0:00:01\r\u001b[K     |████████████▍                   | 655 kB 6.4 MB/s eta 0:00:01\r\u001b[K     |████████████▋                   | 665 kB 6.4 MB/s eta 0:00:01\r\u001b[K     |████████████▉                   | 675 kB 6.4 MB/s eta 0:00:01\r\u001b[K     |█████████████                   | 686 kB 6.4 MB/s eta 0:00:01\r\u001b[K     |█████████████▏                  | 696 kB 6.4 MB/s eta 0:00:01\r\u001b[K     |█████████████▍                  | 706 kB 6.4 MB/s eta 0:00:01\r\u001b[K     |█████████████▋                  | 716 kB 6.4 MB/s eta 0:00:01\r\u001b[K     |█████████████▊                  | 727 kB 6.4 MB/s eta 0:00:01\r\u001b[K     |██████████████                  | 737 kB 6.4 MB/s eta 0:00:01\r\u001b[K     |██████████████▏                 | 747 kB 6.4 MB/s eta 0:00:01\r\u001b[K     |██████████████▍                 | 757 kB 6.4 MB/s eta 0:00:01\r\u001b[K     |██████████████▌                 | 768 kB 6.4 MB/s eta 0:00:01\r\u001b[K     |██████████████▊                 | 778 kB 6.4 MB/s eta 0:00:01\r\u001b[K     |███████████████                 | 788 kB 6.4 MB/s eta 0:00:01\r\u001b[K     |███████████████▏                | 798 kB 6.4 MB/s eta 0:00:01\r\u001b[K     |███████████████▎                | 808 kB 6.4 MB/s eta 0:00:01\r\u001b[K     |███████████████▌                | 819 kB 6.4 MB/s eta 0:00:01\r\u001b[K     |███████████████▊                | 829 kB 6.4 MB/s eta 0:00:01\r\u001b[K     |████████████████                | 839 kB 6.4 MB/s eta 0:00:01\r\u001b[K     |████████████████                | 849 kB 6.4 MB/s eta 0:00:01\r\u001b[K     |████████████████▎               | 860 kB 6.4 MB/s eta 0:00:01\r\u001b[K     |████████████████▌               | 870 kB 6.4 MB/s eta 0:00:01\r\u001b[K     |████████████████▊               | 880 kB 6.4 MB/s eta 0:00:01\r\u001b[K     |████████████████▉               | 890 kB 6.4 MB/s eta 0:00:01\r\u001b[K     |█████████████████               | 901 kB 6.4 MB/s eta 0:00:01\r\u001b[K     |█████████████████▎              | 911 kB 6.4 MB/s eta 0:00:01\r\u001b[K     |█████████████████▍              | 921 kB 6.4 MB/s eta 0:00:01\r\u001b[K     |█████████████████▋              | 931 kB 6.4 MB/s eta 0:00:01\r\u001b[K     |█████████████████▉              | 942 kB 6.4 MB/s eta 0:00:01\r\u001b[K     |██████████████████              | 952 kB 6.4 MB/s eta 0:00:01\r\u001b[K     |██████████████████▏             | 962 kB 6.4 MB/s eta 0:00:01\r\u001b[K     |██████████████████▍             | 972 kB 6.4 MB/s eta 0:00:01\r\u001b[K     |██████████████████▋             | 983 kB 6.4 MB/s eta 0:00:01\r\u001b[K     |██████████████████▉             | 993 kB 6.4 MB/s eta 0:00:01\r\u001b[K     |███████████████████             | 1.0 MB 6.4 MB/s eta 0:00:01\r\u001b[K     |███████████████████▏            | 1.0 MB 6.4 MB/s eta 0:00:01\r\u001b[K     |███████████████████▍            | 1.0 MB 6.4 MB/s eta 0:00:01\r\u001b[K     |███████████████████▋            | 1.0 MB 6.4 MB/s eta 0:00:01\r\u001b[K     |███████████████████▊            | 1.0 MB 6.4 MB/s eta 0:00:01\r\u001b[K     |████████████████████            | 1.1 MB 6.4 MB/s eta 0:00:01\r\u001b[K     |████████████████████▏           | 1.1 MB 6.4 MB/s eta 0:00:01\r\u001b[K     |████████████████████▍           | 1.1 MB 6.4 MB/s eta 0:00:01\r\u001b[K     |████████████████████▌           | 1.1 MB 6.4 MB/s eta 0:00:01\r\u001b[K     |████████████████████▊           | 1.1 MB 6.4 MB/s eta 0:00:01\r\u001b[K     |█████████████████████           | 1.1 MB 6.4 MB/s eta 0:00:01\r\u001b[K     |█████████████████████▏          | 1.1 MB 6.4 MB/s eta 0:00:01\r\u001b[K     |█████████████████████▎          | 1.1 MB 6.4 MB/s eta 0:00:01\r\u001b[K     |█████████████████████▌          | 1.1 MB 6.4 MB/s eta 0:00:01\r\u001b[K     |█████████████████████▊          | 1.1 MB 6.4 MB/s eta 0:00:01\r\u001b[K     |██████████████████████          | 1.2 MB 6.4 MB/s eta 0:00:01\r\u001b[K     |██████████████████████          | 1.2 MB 6.4 MB/s eta 0:00:01\r\u001b[K     |██████████████████████▎         | 1.2 MB 6.4 MB/s eta 0:00:01\r\u001b[K     |██████████████████████▌         | 1.2 MB 6.4 MB/s eta 0:00:01\r\u001b[K     |██████████████████████▊         | 1.2 MB 6.4 MB/s eta 0:00:01\r\u001b[K     |██████████████████████▉         | 1.2 MB 6.4 MB/s eta 0:00:01\r\u001b[K     |███████████████████████         | 1.2 MB 6.4 MB/s eta 0:00:01\r\u001b[K     |███████████████████████▎        | 1.2 MB 6.4 MB/s eta 0:00:01\r\u001b[K     |███████████████████████▌        | 1.2 MB 6.4 MB/s eta 0:00:01\r\u001b[K     |███████████████████████▋        | 1.2 MB 6.4 MB/s eta 0:00:01\r\u001b[K     |███████████████████████▉        | 1.3 MB 6.4 MB/s eta 0:00:01\r\u001b[K     |████████████████████████        | 1.3 MB 6.4 MB/s eta 0:00:01\r\u001b[K     |████████████████████████▎       | 1.3 MB 6.4 MB/s eta 0:00:01\r\u001b[K     |████████████████████████▍       | 1.3 MB 6.4 MB/s eta 0:00:01\r\u001b[K     |████████████████████████▋       | 1.3 MB 6.4 MB/s eta 0:00:01\r\u001b[K     |████████████████████████▉       | 1.3 MB 6.4 MB/s eta 0:00:01\r\u001b[K     |█████████████████████████       | 1.3 MB 6.4 MB/s eta 0:00:01\r\u001b[K     |█████████████████████████▏      | 1.3 MB 6.4 MB/s eta 0:00:01\r\u001b[K     |█████████████████████████▍      | 1.3 MB 6.4 MB/s eta 0:00:01\r\u001b[K     |█████████████████████████▋      | 1.4 MB 6.4 MB/s eta 0:00:01\r\u001b[K     |█████████████████████████▊      | 1.4 MB 6.4 MB/s eta 0:00:01\r\u001b[K     |██████████████████████████      | 1.4 MB 6.4 MB/s eta 0:00:01\r\u001b[K     |██████████████████████████▏     | 1.4 MB 6.4 MB/s eta 0:00:01\r\u001b[K     |██████████████████████████▍     | 1.4 MB 6.4 MB/s eta 0:00:01\r\u001b[K     |██████████████████████████▌     | 1.4 MB 6.4 MB/s eta 0:00:01\r\u001b[K     |██████████████████████████▊     | 1.4 MB 6.4 MB/s eta 0:00:01\r\u001b[K     |███████████████████████████     | 1.4 MB 6.4 MB/s eta 0:00:01\r\u001b[K     |███████████████████████████▏    | 1.4 MB 6.4 MB/s eta 0:00:01\r\u001b[K     |███████████████████████████▎    | 1.4 MB 6.4 MB/s eta 0:00:01\r\u001b[K     |███████████████████████████▌    | 1.5 MB 6.4 MB/s eta 0:00:01\r\u001b[K     |███████████████████████████▊    | 1.5 MB 6.4 MB/s eta 0:00:01\r\u001b[K     |████████████████████████████    | 1.5 MB 6.4 MB/s eta 0:00:01\r\u001b[K     |████████████████████████████    | 1.5 MB 6.4 MB/s eta 0:00:01\r\u001b[K     |████████████████████████████▎   | 1.5 MB 6.4 MB/s eta 0:00:01\r\u001b[K     |████████████████████████████▌   | 1.5 MB 6.4 MB/s eta 0:00:01\r\u001b[K     |████████████████████████████▊   | 1.5 MB 6.4 MB/s eta 0:00:01\r\u001b[K     |████████████████████████████▉   | 1.5 MB 6.4 MB/s eta 0:00:01\r\u001b[K     |█████████████████████████████   | 1.5 MB 6.4 MB/s eta 0:00:01\r\u001b[K     |█████████████████████████████▎  | 1.5 MB 6.4 MB/s eta 0:00:01\r\u001b[K     |█████████████████████████████▌  | 1.6 MB 6.4 MB/s eta 0:00:01\r\u001b[K     |█████████████████████████████▋  | 1.6 MB 6.4 MB/s eta 0:00:01\r\u001b[K     |█████████████████████████████▉  | 1.6 MB 6.4 MB/s eta 0:00:01\r\u001b[K     |██████████████████████████████  | 1.6 MB 6.4 MB/s eta 0:00:01\r\u001b[K     |██████████████████████████████▎ | 1.6 MB 6.4 MB/s eta 0:00:01\r\u001b[K     |██████████████████████████████▍ | 1.6 MB 6.4 MB/s eta 0:00:01\r\u001b[K     |██████████████████████████████▋ | 1.6 MB 6.4 MB/s eta 0:00:01\r\u001b[K     |██████████████████████████████▉ | 1.6 MB 6.4 MB/s eta 0:00:01\r\u001b[K     |███████████████████████████████ | 1.6 MB 6.4 MB/s eta 0:00:01\r\u001b[K     |███████████████████████████████▏| 1.6 MB 6.4 MB/s eta 0:00:01\r\u001b[K     |███████████████████████████████▍| 1.7 MB 6.4 MB/s eta 0:00:01\r\u001b[K     |███████████████████████████████▋| 1.7 MB 6.4 MB/s eta 0:00:01\r\u001b[K     |███████████████████████████████▉| 1.7 MB 6.4 MB/s eta 0:00:01\r\u001b[K     |████████████████████████████████| 1.7 MB 6.4 MB/s eta 0:00:01\r\u001b[K     |████████████████████████████████| 1.7 MB 6.4 MB/s \n",
            "\u001b[?25hCollecting yaspin>=1.0.0\n",
            "  Downloading yaspin-2.1.0-py3-none-any.whl (18 kB)\n",
            "Requirement already satisfied: Click!=8.0.0,>=7.0 in /usr/local/lib/python3.7/dist-packages (from wandb) (7.1.2)\n",
            "Requirement already satisfied: six>=1.13.0 in /usr/local/lib/python3.7/dist-packages (from wandb) (1.15.0)\n",
            "Collecting docker-pycreds>=0.4.0\n",
            "  Downloading docker_pycreds-0.4.0-py2.py3-none-any.whl (9.0 kB)\n",
            "Collecting configparser>=3.8.1\n",
            "  Downloading configparser-5.1.0-py3-none-any.whl (19 kB)\n",
            "Requirement already satisfied: PyYAML in /usr/local/lib/python3.7/dist-packages (from wandb) (3.13)\n",
            "Collecting pathtools\n",
            "  Downloading pathtools-0.1.2.tar.gz (11 kB)\n",
            "Requirement already satisfied: requests<3,>=2.0.0 in /usr/local/lib/python3.7/dist-packages (from wandb) (2.23.0)\n",
            "Collecting sentry-sdk>=1.0.0\n",
            "  Downloading sentry_sdk-1.5.0-py2.py3-none-any.whl (140 kB)\n",
            "\u001b[K     |████████████████████████████████| 140 kB 65.1 MB/s \n",
            "\u001b[?25hCollecting GitPython>=1.0.0\n",
            "  Downloading GitPython-3.1.24-py3-none-any.whl (180 kB)\n",
            "\u001b[K     |████████████████████████████████| 180 kB 76.1 MB/s \n",
            "\u001b[?25hRequirement already satisfied: promise<3,>=2.0 in /usr/local/lib/python3.7/dist-packages (from wandb) (2.3)\n",
            "Collecting shortuuid>=0.5.0\n",
            "  Downloading shortuuid-1.0.8-py3-none-any.whl (9.5 kB)\n",
            "Collecting subprocess32>=3.5.3\n",
            "  Downloading subprocess32-3.5.4.tar.gz (97 kB)\n",
            "\u001b[K     |████████████████████████████████| 97 kB 9.2 MB/s \n",
            "\u001b[?25hRequirement already satisfied: psutil>=5.0.0 in /usr/local/lib/python3.7/dist-packages (from wandb) (5.4.8)\n",
            "Requirement already satisfied: protobuf>=3.12.0 in /usr/local/lib/python3.7/dist-packages (from wandb) (3.17.3)\n",
            "Requirement already satisfied: python-dateutil>=2.6.1 in /usr/local/lib/python3.7/dist-packages (from wandb) (2.8.2)\n",
            "Requirement already satisfied: typing-extensions>=3.7.4.3 in /usr/local/lib/python3.7/dist-packages (from GitPython>=1.0.0->wandb) (3.10.0.2)\n",
            "Collecting gitdb<5,>=4.0.1\n",
            "  Downloading gitdb-4.0.9-py3-none-any.whl (63 kB)\n",
            "\u001b[K     |████████████████████████████████| 63 kB 2.4 MB/s \n",
            "\u001b[?25hCollecting smmap<6,>=3.0.1\n",
            "  Downloading smmap-5.0.0-py3-none-any.whl (24 kB)\n",
            "Requirement already satisfied: chardet<4,>=3.0.2 in /usr/local/lib/python3.7/dist-packages (from requests<3,>=2.0.0->wandb) (3.0.4)\n",
            "Requirement already satisfied: idna<3,>=2.5 in /usr/local/lib/python3.7/dist-packages (from requests<3,>=2.0.0->wandb) (2.10)\n",
            "Requirement already satisfied: urllib3!=1.25.0,!=1.25.1,<1.26,>=1.21.1 in /usr/local/lib/python3.7/dist-packages (from requests<3,>=2.0.0->wandb) (1.24.3)\n",
            "Requirement already satisfied: certifi>=2017.4.17 in /usr/local/lib/python3.7/dist-packages (from requests<3,>=2.0.0->wandb) (2021.10.8)\n",
            "Requirement already satisfied: termcolor<2.0.0,>=1.1.0 in /usr/local/lib/python3.7/dist-packages (from yaspin>=1.0.0->wandb) (1.1.0)\n",
            "Building wheels for collected packages: subprocess32, pathtools\n",
            "  Building wheel for subprocess32 (setup.py) ... \u001b[?25l\u001b[?25hdone\n",
            "  Created wheel for subprocess32: filename=subprocess32-3.5.4-py3-none-any.whl size=6502 sha256=65a186ea2571904b7d04a8a8fd86635f0256c96f51ca57f652c624f2d551ae66\n",
            "  Stored in directory: /root/.cache/pip/wheels/50/ca/fa/8fca8d246e64f19488d07567547ddec8eb084e8c0d7a59226a\n",
            "  Building wheel for pathtools (setup.py) ... \u001b[?25l\u001b[?25hdone\n",
            "  Created wheel for pathtools: filename=pathtools-0.1.2-py3-none-any.whl size=8807 sha256=c92cbed646a6adbc32bf87bfc9fb64a1fb8bf4b1fcbc05f5c6760b18e5a0d63c\n",
            "  Stored in directory: /root/.cache/pip/wheels/3e/31/09/fa59cef12cdcfecc627b3d24273699f390e71828921b2cbba2\n",
            "Successfully built subprocess32 pathtools\n",
            "Installing collected packages: smmap, gitdb, yaspin, subprocess32, shortuuid, sentry-sdk, pathtools, GitPython, docker-pycreds, configparser, wandb\n",
            "Successfully installed GitPython-3.1.24 configparser-5.1.0 docker-pycreds-0.4.0 gitdb-4.0.9 pathtools-0.1.2 sentry-sdk-1.5.0 shortuuid-1.0.8 smmap-5.0.0 subprocess32-3.5.4 wandb-0.12.7 yaspin-2.1.0\n"
          ]
        }
      ]
    },
    {
      "cell_type": "code",
      "metadata": {
        "id": "LKcSNj4tlRVK"
      },
      "source": [
        "import numpy as np\n",
        "import matplotlib.pyplot as plt\n",
        "import seaborn as sns\n",
        "\n",
        "import tqdm\n",
        "from tqdm.auto import tqdm\n",
        "import wandb\n",
        "\n",
        "import torch\n",
        "import torchvision\n",
        "import torchvision.transforms as transforms\n",
        "from torch import nn\n",
        "from torch.nn import functional as F\n",
        "import torch.optim as optim\n",
        "from sklearn.metrics import accuracy_score\n",
        "\n",
        "import os\n",
        "from os.path import isfile, join\n",
        "import sys\n",
        "import glob\n",
        "import copy\n",
        "import random\n",
        "import pprint\n",
        "\n",
        "import PIL\n",
        "from PIL import Image"
      ],
      "execution_count": null,
      "outputs": []
    },
    {
      "cell_type": "markdown",
      "metadata": {
        "id": "RytEDW0ylRVN"
      },
      "source": [
        "### Подготовка данных"
      ]
    },
    {
      "cell_type": "code",
      "metadata": {
        "colab": {
          "base_uri": "https://localhost:8080/"
        },
        "id": "mr6AInU4TZwy",
        "outputId": "200968e3-0456-4aba-f242-7b5d313d2a0b"
      },
      "source": [
        "from google.colab import drive\n",
        "drive.mount('/content/gdrive')"
      ],
      "execution_count": null,
      "outputs": [
        {
          "output_type": "stream",
          "name": "stdout",
          "text": [
            "Drive already mounted at /content/gdrive; to attempt to forcibly remount, call drive.mount(\"/content/gdrive\", force_remount=True).\n"
          ]
        }
      ]
    },
    {
      "cell_type": "code",
      "metadata": {
        "colab": {
          "base_uri": "https://localhost:8080/"
        },
        "id": "GKPnNKPSEigC",
        "outputId": "40e2144c-7a63-4ea4-a837-3ae310e66d4a"
      },
      "source": [
        "wandb.login()\n",
        "wandb.init(project=\"pytorch-demo\")"
      ],
      "execution_count": null,
      "outputs": [
        {
          "output_type": "stream",
          "name": "stderr",
          "text": [
            "\u001b[34m\u001b[1mwandb\u001b[0m: Currently logged in as: \u001b[33mchecheanya\u001b[0m (use `wandb login --relogin` to force relogin)\n"
          ]
        },
        {
          "output_type": "execute_result",
          "data": {
            "text/plain": [
              "True"
            ]
          },
          "metadata": {},
          "execution_count": 3
        }
      ]
    },
    {
      "cell_type": "code",
      "metadata": {
        "id": "sC0rSI65qN2O"
      },
      "source": [
        "# Tnx to https://medium.com/analytics-vidhya/creating-a-custom-dataset-and-dataloader-in-pytorch-76f210a1df5d  for deeper understanding\n",
        "\n",
        "class MyDataset(torch.utils.data.Dataset):\n",
        "    def __init__(self, data_dir, transform):\n",
        "        self.imgs_path = os.path.expanduser(data_dir)\n",
        "        self.transform = transform\n",
        "\n",
        "        file_list = glob.glob(self.imgs_path + \"*\")\n",
        "\n",
        "        self.data = []\n",
        "        for class_path in file_list:\n",
        "            class_name = int(class_path.split(\"/\")[-1][-3:])\n",
        "            for img_path in glob.glob(class_path + \"/*.jpg\"):\n",
        "                self.data.append([img_path, class_name])\n",
        "        self.img_dim = (416, 416)\n",
        "\n",
        "    def __len__(self):\n",
        "        return len(self.data)\n",
        "\n",
        "    def __getitem__(self, idx):\n",
        "        img_path, class_name = self.data[idx]\n",
        "        \n",
        "        img = Image.open(img_path)\n",
        "        img = img.convert('RGB')\n",
        "        \n",
        "        if self.transform is not None:\n",
        "          img = self.transform(img)\n",
        "          \n",
        "        return img, class_name\n"
      ],
      "execution_count": null,
      "outputs": []
    },
    {
      "cell_type": "code",
      "metadata": {
        "id": "w3EeLdCBXivm"
      },
      "source": [
        "def seed_everything(seed):\n",
        "    random.seed(seed)\n",
        "    os.environ[\"PYTHONHASHSEED\"] = str(seed)\n",
        "    np.random.seed(seed)\n",
        "    torch.manual_seed(seed)\n",
        "    torch.cuda.manual_seed(seed)\n",
        "    torch.backends.cudnn.deterministic = True"
      ],
      "execution_count": null,
      "outputs": []
    },
    {
      "cell_type": "code",
      "metadata": {
        "colab": {
          "base_uri": "https://localhost:8080/"
        },
        "id": "QEdDQtHdlRVO",
        "outputId": "e936669b-302f-4c3d-d630-c8987048ad8f"
      },
      "source": [
        "#train_transform = None\n",
        "#val_transform = None\n",
        "\n",
        "'''\n",
        "# Normalisaion parameters for efficientnet version1:\n",
        "mean = torch.tensor([0.05438065, 0.05291743, 0.07920227])\n",
        "std = torch.tensor([0.39414383, 0.33547948, 0.38544176])\n",
        "\n",
        "size = 300\n",
        "\n",
        "\n",
        "# Normalisaion parameters for resnet:\n",
        "mean = torch.tensor([0.485, 0.456, 0.406])\n",
        "std = torch.tensor([0.229, 0.224, 0.225])\n",
        "\n",
        "size = 224\n",
        "'''\n",
        "\n",
        "train_transform_basic = transforms.Compose(\n",
        "    [transforms.RandomCrop(32),\n",
        "     transforms.Resize((64,64))\n",
        "     transforms.ColorJitter(hue=.05, saturation=.05),\n",
        "     transforms.RandomHorizontalFlip(),\n",
        "     transforms.RandomRotation(20, resample=PIL.Image.BILINEAR),\n",
        "     transforms.ToTensor(),\n",
        "     transforms.Normalize((0.5, 0.5, 0.5), (0.5, 0.5, 0.5))])\n",
        "\n",
        "'''\n",
        "# If we want to use pretrained models we have to normalize data as following\n",
        "# source: https://towardsdatascience.com/pytorch-ignite-classifying-tiny-imagenet-with-efficientnet-e5b1768e5e8f)\n",
        "\n",
        "train_transform_for_pretrained = transforms.Compose([\n",
        "                transforms.Resize((size + 4, size + 4)),\n",
        "                transforms.CenterCrop(size), # Center crop image\n",
        "                #transforms.RandomRotation(40),\n",
        "                #transforms.RandomAffine(\n",
        "                #    degrees=10,\n",
        "                #    translate=(0.01, 0.12),\n",
        "                #    shear=(0.01, 0.03)),\n",
        "                transforms.RandomHorizontalFlip(),\n",
        "                transforms.ToTensor(),  # Converting cropped images to tensors\n",
        "                transforms.Normalize(mean, std)\n",
        "])\n",
        "\n",
        "val_transform_for_pretrained = transforms.Compose([\n",
        "                transforms.Resize((size, size)),\n",
        "                transforms.ToTensor(),  # Converting cropped images to tensors\n",
        "                transforms.Normalize(mean, std)\n",
        "])\n",
        "\n",
        "'''\n",
        "\n",
        "train_dataset = MyDataset(data_dir = \"/content/gdrive/MyDrive/ColabNotebooks/dataset/dataset/train/\", transform = train_transform_basic)\n",
        "val_dataset = MyDataset(data_dir = \"/content/gdrive/MyDrive/ColabNotebooks/dataset/dataset/val/\", transform = train_transform_basic)\n"
      ],
      "execution_count": null,
      "outputs": [
        {
          "output_type": "stream",
          "name": "stderr",
          "text": [
            "/usr/local/lib/python3.7/dist-packages/torchvision/transforms/transforms.py:1249: UserWarning: Argument resample is deprecated and will be removed since v0.10.0. Please, use interpolation instead\n",
            "  \"Argument resample is deprecated and will be removed since v0.10.0. Please, use interpolation instead\"\n"
          ]
        }
      ]
    },
    {
      "cell_type": "code",
      "metadata": {
        "id": "H3VHPM6Qs37E"
      },
      "source": [
        "def data_loaders(bs):\n",
        "  \n",
        "  train_dataloader = torch.utils.data.DataLoader(train_dataset, batch_size=bs, shuffle=True, num_workers=8)\n",
        "  test_dataloader = torch.utils.data.DataLoader(val_dataset, batch_size=bs, shuffle=False, num_workers=8)\n",
        "\n",
        "  return train_dataloader, test_dataloader"
      ],
      "execution_count": null,
      "outputs": []
    },
    {
      "cell_type": "code",
      "metadata": {
        "colab": {
          "base_uri": "https://localhost:8080/"
        },
        "id": "mrg4Yj0VlRVP",
        "outputId": "d7563a61-6be8-4654-8dc3-718eda01c822"
      },
      "source": [
        "# Just very simple sanity checks\n",
        "assert isinstance(train_dataset[0], tuple)\n",
        "assert len(train_dataset[0]) == 2\n",
        "assert isinstance(train_dataset[1][1], int)\n",
        "print(\"tests passed\")"
      ],
      "execution_count": null,
      "outputs": [
        {
          "output_type": "stream",
          "name": "stdout",
          "text": [
            "tests passed\n"
          ]
        }
      ]
    },
    {
      "cell_type": "markdown",
      "metadata": {
        "id": "8RlSlmyjlRVP"
      },
      "source": [
        "### Вспомогательные функции, реализация модели"
      ]
    },
    {
      "cell_type": "code",
      "metadata": {
        "id": "pnHu6w1FnmgN"
      },
      "source": [
        "# LR scheduler class - to adjust lr if loss doesn't change for a few epochs\n",
        "# Early stopping class - to stop training if loss doesn't change for a long time\n",
        "\n",
        "# Source: https://debuggercafe.com/using-learning-rate-scheduler-and-early-stopping-with-pytorch/ \n",
        "\n",
        "class LRScheduler():\n",
        "    \"\"\"\n",
        "    Learning rate scheduler. If the validation loss does not decrease for the \n",
        "    given number of `patience` epochs, then the learning rate will decrease by\n",
        "    by given `factor`.\n",
        "    \"\"\"\n",
        "    def __init__(\n",
        "        self, optimizer, patience=5, min_lr=1e-6, factor=0.5\n",
        "    ):\n",
        "        \"\"\"\n",
        "        new_lr = old_lr * factor\n",
        "\n",
        "        :param optimizer: the optimizer we are using\n",
        "        :param patience: how many epochs to wait before updating the lr\n",
        "        :param min_lr: least lr value to reduce to while updating\n",
        "        :param factor: factor by which the lr should be updated\n",
        "        \"\"\"\n",
        "        self.optimizer = optimizer\n",
        "        self.patience = patience\n",
        "        self.min_lr = min_lr\n",
        "        self.factor = factor\n",
        "\n",
        "        self.lr_scheduler = torch.optim.lr_scheduler.ReduceLROnPlateau( \n",
        "                self.optimizer,\n",
        "                mode='min',\n",
        "                patience=self.patience,\n",
        "                factor=self.factor,\n",
        "                min_lr=self.min_lr,\n",
        "                verbose=True\n",
        "            )\n",
        "\n",
        "    def __call__(self, val_loss):\n",
        "        self.lr_scheduler.step(val_loss)\n",
        "\n",
        "class EarlyStopping():\n",
        "    \"\"\"\n",
        "    Early stopping to stop the training when the loss does not improve after\n",
        "    certain epochs.\n",
        "    \"\"\"\n",
        "    def __init__(self, patience=10, min_delta=0):\n",
        "        \"\"\"\n",
        "        :param patience: how many epochs to wait before stopping when loss is\n",
        "               not improving\n",
        "        :param min_delta: minimum difference between new loss and old loss for\n",
        "               new loss to be considered as an improvement\n",
        "        \"\"\"\n",
        "        self.patience = patience\n",
        "        self.min_delta = min_delta\n",
        "        self.counter = 0\n",
        "        self.best_loss = None\n",
        "        self.early_stop = False\n",
        "\n",
        "    def __call__(self, val_loss):\n",
        "        if self.best_loss == None:\n",
        "            self.best_loss = val_loss\n",
        "        elif self.best_loss - val_loss > self.min_delta:\n",
        "            self.best_loss = val_loss\n",
        "\n",
        "            # Reset counter if validation loss improves\n",
        "            self.counter = 0\n",
        "        elif self.best_loss - val_loss < self.min_delta:\n",
        "            self.counter += 1\n",
        "            print(f\"INFO: Early stopping counter {self.counter} of {self.patience}\")\n",
        "\n",
        "            if self.counter >= self.patience:\n",
        "                print('INFO: Early stopping')\n",
        "                self.early_stop = True\n"
      ],
      "execution_count": null,
      "outputs": []
    },
    {
      "cell_type": "code",
      "metadata": {
        "id": "P89WqaEqFw48"
      },
      "source": [
        "# Functions from seminar #6\n",
        "\n",
        "def train_one_epoch(\n",
        "    model,\n",
        "    train_dataloader,\n",
        "    optimizer,\n",
        "    criterion,\n",
        "    return_losses=False,\n",
        "    device=\"cuda:0\",\n",
        "):\n",
        "    seed_everything(13)\n",
        "    model = model.to(device).train()\n",
        "    total_loss = 0\n",
        "    num_batches = 0\n",
        "    all_losses = []\n",
        "    total_predictions = np.array([])#.reshape((0, ))\n",
        "    total_labels = np.array([])#.reshape((0, ))\n",
        "    with tqdm(total=len(train_dataloader), file=sys.stdout) as prbar:\n",
        "        for images, labels in train_dataloader:\n",
        "          \n",
        "            # Move Batch to GPU\n",
        "            images = images.to(device)\n",
        "            labels = labels.to(device)\n",
        "            predicted = model(images)\n",
        "            loss = criterion(predicted, labels)\n",
        "\n",
        "            # Update weights\n",
        "            loss.backward()\n",
        "            optimizer.step()\n",
        "            optimizer.zero_grad()\n",
        "\n",
        "            # Update descirption for tqdm\n",
        "            accuracy = (predicted.argmax(1) == labels).float().mean()\n",
        "            wandb.log({\"batch loss\": loss.item()})\n",
        "            wandb.log({\"batch accuracy\": accuracy.item() * 100})\n",
        "            prbar.set_description(\n",
        "                f\"Loss: {round(loss.item(), 4)} \"\n",
        "                f\"Accuracy: {round(accuracy.item() * 100, 4)}\"\n",
        "            )\n",
        "            prbar.update(1)\n",
        "\n",
        "            total_loss += loss.item()\n",
        "            total_predictions = np.append(total_predictions, predicted.argmax(1).cpu().detach().numpy())\n",
        "            total_labels = np.append(total_labels, labels.cpu().detach().numpy())\n",
        "            num_batches += 1\n",
        "            all_losses.append(loss.detach().item())\n",
        "\n",
        "    metrics = {\"loss\": total_loss / num_batches}\n",
        "    metrics.update({\"accuracy\": (total_predictions == total_labels).mean()})\n",
        "\n",
        "    if return_losses:\n",
        "        return metrics, all_losses\n",
        "    else:\n",
        "        return metrics\n",
        "\n",
        "\n",
        "def predict(model, val_dataloder, criterion, device=\"cuda:0\"):\n",
        "\n",
        "    seed_everything(13)\n",
        "    model = model.eval()\n",
        "    total_loss = []\n",
        "    num_batches = 0\n",
        "    total_predictions = np.array([])\n",
        "    total_labels = np.array([])\n",
        "\n",
        "    # New tqdm run\n",
        "    with tqdm(total=len(val_dataloder), file=sys.stdout) as prbar:\n",
        "        for images, labels in val_dataloder:\n",
        "            images = images.to(device)\n",
        "            labels = labels.to(device)\n",
        "            predicted = model(images)\n",
        "            loss = criterion(predicted, labels)\n",
        "            accuracy = (predicted.argmax(1) == labels).float().mean()\n",
        "            prbar.set_description(\n",
        "                f\"Loss: {round(loss.item(), 4)} \"\n",
        "                f\"Accuracy: {round(accuracy.item() * 100, 4)}\"\n",
        "            )\n",
        "            prbar.update(1)\n",
        "            total_loss.append(loss.item())\n",
        "            total_predictions = np.append(total_predictions, predicted.argmax(1).cpu().detach().numpy())\n",
        "            total_labels = np.append(total_labels, labels.cpu().detach().numpy())\n",
        "            num_batches += 1\n",
        "\n",
        "    metrics = {\"loss_avg\": sum(total_loss) / num_batches}\n",
        "    metrics.update({\"accuracy_avg\": (total_predictions == total_labels).mean()})\n",
        "\n",
        "    all_losses = total_loss\n",
        "    predicted_classes = total_predictions\n",
        "    true_classes = total_labels\n",
        "    \n",
        "    return metrics, all_losses, predicted_classes, true_classes"
      ],
      "execution_count": null,
      "outputs": []
    },
    {
      "cell_type": "code",
      "metadata": {
        "id": "K7r4P5YWLYn6"
      },
      "source": [
        "def train(config=None):\n",
        "\n",
        "    # Initialize a new wandb run\n",
        "    with wandb.init(config=config):\n",
        "      \n",
        "      config = wandb.config\n",
        "\n",
        "      device = torch.device(\"cuda:0\") if torch.cuda.is_available() else torch.device(\"cpu\")\n",
        "      criterion = nn.CrossEntropyLoss()\n",
        "      model = get_model(config.dropout_value, config.dropout_2, config.dropout_4,\n",
        "                        config.dropout_6, config.batchnorm_3, config.batchnorm_5,\n",
        "                        config.n_features1, config.n_features2)\n",
        "\n",
        "      # Initializing out parameters from config, constructing model\n",
        "      train_dataloader, val_dataloader = data_loaders(bs = config.batch_size)\n",
        "      optimizer = build_optimizer(model, config.optimizer, config.learning_rate)\n",
        "      lr_scheduler = LRScheduler(optimizer)\n",
        "      \n",
        "      seed_everything(13)\n",
        "      all_train_losses = []\n",
        "      epoch_train_losses = []\n",
        "      epoch_eval_losses = []\n",
        "\n",
        "      for epoch in range(config.epochs):\n",
        "          # Train step\n",
        "          print(f\"Train Epoch: {epoch}\")\n",
        "          train_metrics, one_epoch_train_losses = train_one_epoch(\n",
        "              model=model,\n",
        "              train_dataloader=train_dataloader,\n",
        "              optimizer=optimizer,\n",
        "              return_losses=True,\n",
        "              criterion=criterion,\n",
        "              device=device\n",
        "          )\n",
        "          # Save Train losses\n",
        "          all_train_losses.extend(one_epoch_train_losses)\n",
        "          epoch_train_losses.append(train_metrics[\"loss\"])\n",
        "\n",
        "          # Eval step\n",
        "          print(f\"Validation Epoch: {epoch}\")\n",
        "\n",
        "          with torch.no_grad():\n",
        "              validation_metrics = predict(\n",
        "                  model=model,\n",
        "                  data_loader=val_dataloader,\n",
        "                  criterion=criterion\n",
        "              )\n",
        "\n",
        "          # Unproductivity check \n",
        "          lr_scheduler(val_epoch_loss)\n",
        "          EarlyStopping(val_epoch_loss)\n",
        "          if EarlyStopping.early_stop:\n",
        "            break\n",
        "\n",
        "          # Add metrics to wandb\n",
        "          wandb.log({\"mean val loss\": validation_metrics[0][\"loss_avg\"],\n",
        "                    \"mean val accuracy\": validation_metrics[0][\"accuracy_avg\"],\n",
        "                    \"mean train accuracy\": train_metrics[\"accuracy\"],\n",
        "                    \"mean train loss\": train_metrics[\"loss\"],\n",
        "                    \"epoch\" : epoch})\n",
        "\n",
        "          # Save eval losses\n",
        "          epoch_eval_losses.append(validation_metrics[0][\"loss_avg\"])\n",
        "          print(f\"Validation loss (mean per batch): {validation_metrics[0]['loss_avg']}\")"
      ],
      "execution_count": null,
      "outputs": []
    },
    {
      "cell_type": "code",
      "metadata": {
        "id": "gmN4RdRg5fdN"
      },
      "source": [
        "def build_optimizer(network, optimizer, learning_rate):\n",
        "    if optimizer == \"sgd\":\n",
        "        optimizer = optim.SGD(network.parameters(),\n",
        "                              lr=learning_rate, momentum=0.9)\n",
        "    elif optimizer == \"adam\":\n",
        "        optimizer = optim.Adam(network.parameters(),\n",
        "                               lr=learning_rate)\n",
        "    return optimizer"
      ],
      "execution_count": null,
      "outputs": []
    },
    {
      "cell_type": "markdown",
      "metadata": {
        "id": "l7rNpb395sce"
      },
      "source": [
        "### Mодели"
      ]
    },
    {
      "cell_type": "code",
      "metadata": {
        "id": "UTkMptjZ-8yc"
      },
      "source": [
        "class Net(torch.nn.Module):\n",
        "    def __init__(self, dropout_value, dropout_2, dropout_4, dropout_6, batchnorm_3,\n",
        "                 batchnorm_5, n_features1, n_features2):\n",
        "\n",
        "        super().__init__()\n",
        "        seed_everything(13)\n",
        "\n",
        "        self.batch_norm1 = torch.nn.BatchNorm2d(3)\n",
        "        # First conv layer\n",
        "        self.conv1 = torch.nn.Sequential(\n",
        "            torch.nn.Conv2d(in_channels=3, out_channels=16, kernel_size=3, padding=1),\n",
        "            torch.nn.ReLU())\n",
        "\n",
        "        # Second conv layer\n",
        "        self.conv2 = torch.nn.Sequential(\n",
        "            torch.nn.Conv2d(in_channels=16, out_channels=16, kernel_size=3),\n",
        "            torch.nn.ReLU(),\n",
        "            torch.nn.MaxPool2d(kernel_size=2),\n",
        "        )\n",
        "        if dropout_2:\n",
        "          self.dropout2 = torch.nn.Dropout(p=0.2)\n",
        "\n",
        "        # Third conv layer\n",
        "        if batchnorm_3:\n",
        "          self.conv3 = torch.nn.Sequential(\n",
        "            torch.nn.Conv2d(in_channels=16, out_channels=32, kernel_size=3),\n",
        "            torch.nn.BatchNorm2d(32),\n",
        "            torch.nn.ReLU())\n",
        "        \n",
        "        else:\n",
        "          self.conv3 = torch.nn.Sequential(\n",
        "            torch.nn.Conv2d(in_channels=16, out_channels=32, kernel_size=3),\n",
        "            torch.nn.ReLU())\n",
        "        \n",
        "        # Fourth conv layer\n",
        "        self.conv4 = torch.nn.Sequential(\n",
        "            torch.nn.Conv2d(in_channels=32, out_channels=32, kernel_size=3),\n",
        "            torch.nn.ReLU(),\n",
        "            torch.nn.MaxPool2d(kernel_size=2),\n",
        "        )\n",
        "          \n",
        "        if dropout_4:\n",
        "          self.dropout4 = torch.nn.Dropout(p=max(0.2, dropout_value - 0.2)\n",
        "\n",
        "        # Fifth conv layer\n",
        "        if batchnorm_5:\n",
        "          self.conv5 = torch.nn.Sequential(\n",
        "              torch.nn.Conv2d(in_channels=32, out_channels=64, kernel_size=3),\n",
        "              torch.nn.BatchNorm2d(64),\n",
        "              torch.nn.ReLU())\n",
        "        else:\n",
        "          self.conv5 = torch.nn.Sequential(\n",
        "              torch.nn.Conv2d(in_channels=32, out_channels=64, kernel_size=3),\n",
        "              torch.nn.ReLU())\n",
        "\n",
        "        \n",
        "        # Sixth conv layer\n",
        "        self.conv6 = torch.nn.Sequential(\n",
        "            torch.nn.Conv2d(in_channels=64, out_channels=64, kernel_size=3),\n",
        "            torch.nn.ReLU(),\n",
        "            torch.nn.MaxPool2d(kernel_size=2),\n",
        "        )\n",
        "\n",
        "        if dropout_6:\n",
        "          self.dropout6 = torch.nn.Dropout(p=dropout_value)\n",
        "\n",
        "        # Linear layers\n",
        "        self.linear1 = torch.nn.Linear(in_features=64 * 8 * 8, out_features=n_features1)\n",
        "        self.linear2 = torch.nn.Linear(in_features=n_features1, out_features=n_features2)\n",
        "        self.output = torch.nn.Linear(in_features=n_features2, out_features=200)\n",
        "        self.dropout_l = torch.nn.Dropout(p=dropout_value)\n",
        "\n",
        "\n",
        "    def forward(self, x):\n",
        "\n",
        "        x = self.batch_norm1(x)\n",
        "        x = self.conv1(x)\n",
        "        x = self.conv2(x)\n",
        "        if dropout_2:\n",
        "          x = self.dropout2(x)\n",
        "        x = self.conv3(x)\n",
        "        x = self.conv4(x)\n",
        "        if dropout_4:\n",
        "          x = self.dropout4(x)\n",
        "        x = self.conv5(x)\n",
        "        x = self.conv6(x)\n",
        "        if dropout_6:\n",
        "          x = self.dropout6(x)\n",
        "        x = x.view(x.size(0), -1)\n",
        "        x = F.relu(self.linear1(x))\n",
        "        x = self.dropout_l(x)\n",
        "        x = F.relu(self.linear2(x))\n",
        "        x = self.output(x)\n",
        "        \n",
        "        return x\n"
      ],
      "execution_count": null,
      "outputs": []
    },
    {
      "cell_type": "code",
      "metadata": {
        "id": "c08WAH2UoKzz"
      },
      "source": [
        "def get_model(device, dropout_value, dropout_2, dropout_4, dropout_6, batchnorm_3,\n",
        "              batchnorm_5, n_features1, n_features2):\n",
        "  seed_everything(13)\n",
        "  model = Net(dropout_value, dropout_2, dropout_4, dropout_6, batchnorm_3, batchnorm_5, n_features1, n_features2)\n",
        "  model = model.to(device)\n",
        "  \n",
        "  return model"
      ],
      "execution_count": null,
      "outputs": []
    },
    {
      "cell_type": "markdown",
      "metadata": {
        "id": "kQYIYd4Ux68r"
      },
      "source": [
        "### Параметры и тд"
      ]
    },
    {
      "cell_type": "code",
      "metadata": {
        "colab": {
          "base_uri": "https://localhost:8080/"
        },
        "id": "MJ9MbWHqyCfB",
        "outputId": "f0e20f79-046d-4734-85d6-97831537b91f"
      },
      "source": [
        "criterion = nn.CrossEntropyLoss()\n",
        "device = torch.device(\"cuda:0\") if torch.cuda.is_available() else torch.device(\"cpu\")\n",
        "\n",
        "metric = {\n",
        "    'name': 'mean train loss',\n",
        "    'goal': 'minimize'   \n",
        "    }\n",
        "\n",
        "parameters_dict = {\n",
        "    'optimizer': {\n",
        "        'values': ['adam', 'sgd']\n",
        "        },\n",
        "    'n_features1': {\n",
        "        'values': [128, 256, 512]\n",
        "        },\n",
        "    'n_features2': {\n",
        "        'values': [128, 256, 512]\n",
        "        },\n",
        "    'dropout_value': {\n",
        "          'values': [0.3, 0.4, 0.5, 0.6]\n",
        "        },\n",
        "    'dropout_2': {\n",
        "          'values': [True, False]\n",
        "        },\n",
        "    'dropout_4': {\n",
        "          'values': [True, False]\n",
        "        },\n",
        "    'dropout_6': {\n",
        "          'values': [True, False]\n",
        "        },\n",
        "    'batchnorm_3': {\n",
        "          'values': [True, False]\n",
        "        },\n",
        "    'batchnorm_5': {\n",
        "          'values': [True, False]\n",
        "        },\n",
        "    'epochs': {\n",
        "        'value': 10\n",
        "        },\n",
        "    'learning_rate': {\n",
        "        'values': [0.0001, 0.0005, 0.001, 0.005, 0.01, 0.05]\n",
        "      },\n",
        "    'batch_size': {\n",
        "        'values': [16, 32, 64, 128, 256],\n",
        "      }\n",
        "    }\n",
        "\n",
        "sweep_config = {\n",
        "    'method': 'random',\n",
        "    'metric': metric,\n",
        "    'parameters': parameters_dict,\n",
        "    }\n",
        "\n",
        "pprint.pprint(sweep_config)\n",
        "\n",
        "sweep_id = wandb.sweep(sweep_config, project=\"hw2\")"
      ],
      "execution_count": null,
      "outputs": [
        {
          "output_type": "stream",
          "name": "stdout",
          "text": [
            "{'method': 'random',\n",
            " 'metric': {'goal': 'minimize', 'name': 'mean train loss'},\n",
            " 'parameters': {'batch_size': {'values': [16, 32, 64, 128, 256]},\n",
            "                'criterion': {'value': CrossEntropyLoss()},\n",
            "                'device': {'value': device(type='cpu')},\n",
            "                'dropout': {'values': [0.3, 0.4, 0.5, 0.6]},\n",
            "                'epochs': {'value': 10},\n",
            "                'fc_layer_size': {'values': [128, 256, 512]},\n",
            "                'learning_rate': {'values': [0.0001,\n",
            "                                             0.0005,\n",
            "                                             0.001,\n",
            "                                             0.005,\n",
            "                                             0.01,\n",
            "                                             0.05]},\n",
            "                'model': {'value': <function resnet50 at 0x7f26d3453c20>},\n",
            "                'optimizer': {'values': ['adam', 'sgd']}}}\n",
            "Create sweep with ID: c0j8u4mx\n",
            "Sweep URL: https://wandb.ai/checheanya/hw2/sweeps/c0j8u4mx\n"
          ]
        }
      ]
    },
    {
      "cell_type": "markdown",
      "metadata": {
        "id": "MxR3gfcilRVW"
      },
      "source": [
        "### Обучение модели, запуски экспериментов"
      ]
    },
    {
      "cell_type": "markdown",
      "metadata": {
        "id": "CesoOl6BlRVY"
      },
      "source": [
        "Простой тест на проверку правильности написанного кода"
      ]
    },
    {
      "cell_type": "code",
      "metadata": {
        "id": "B_LB2jn6lRVY"
      },
      "source": [
        "'''\n",
        "metrics, all_losses, predicted_labels, true_labels = predict(model, test_dataloader, criterion, device)\n",
        "assert len(predicted_labels) == len(val_dataset)\n",
        "accuracy = accuracy_score(predicted_labels, true_labels)\n",
        "print(\"tests passed\")\n",
        "'''"
      ],
      "execution_count": null,
      "outputs": []
    },
    {
      "cell_type": "markdown",
      "metadata": {
        "id": "tS-LLiXUlRVY"
      },
      "source": [
        "Запустить обучение можно в ячейке ниже."
      ]
    },
    {
      "cell_type": "code",
      "metadata": {
        "colab": {
          "base_uri": "https://localhost:8080/",
          "height": 621,
          "referenced_widgets": [
            "3dbacbb37640468c8d90c02428dc537e",
            "f6b880f70be64ac99e5e6a707f5b72dd",
            "cac5efb75bf347e6b3289a2528e13b23",
            "e2ec9438c0c74406bcde81d24e5ff585",
            "dad79f4948154e588767552fb420eb91",
            "880126e7d31b46d48002d8037dc7bc9b",
            "1e1dd18645294fd4884b5f303e220faa",
            "cab199c844394a9cb328d69d2241f9c6"
          ]
        },
        "id": "uN94C8I6ELPW",
        "outputId": "6694d0e9-feb8-4c41-e3e6-4f34784f9b44"
      },
      "source": [
        "wandb.agent(sweep_id, train, count=5)"
      ],
      "execution_count": null,
      "outputs": [
        {
          "output_type": "stream",
          "name": "stderr",
          "text": [
            "\u001b[34m\u001b[1mwandb\u001b[0m: Agent Starting Run: uqsura8o with config:\n",
            "\u001b[34m\u001b[1mwandb\u001b[0m: \tbatch_size: 64\n",
            "\u001b[34m\u001b[1mwandb\u001b[0m: \tcriterion: {'_backward_hooks': [[]], '_buffers': [[['weight', None]]], '_forward_hooks': [[]], '_forward_pre_hooks': [[]], '_is_full_backward_hook': None, '_load_state_dict_pre_hooks': [[]], '_modules': [[]], '_non_persistent_buffers_set': {}, '_parameters': [[]], '_state_dict_hooks': [[]], 'ignore_index': -100, 'label_smoothing': 0, 'reduction': 'mean', 'training': True}\n",
            "\u001b[34m\u001b[1mwandb\u001b[0m: \tdevice: ['cpu']\n",
            "\u001b[34m\u001b[1mwandb\u001b[0m: \tdropout: 0.6\n",
            "\u001b[34m\u001b[1mwandb\u001b[0m: \tepochs: 10\n",
            "\u001b[34m\u001b[1mwandb\u001b[0m: \tfc_layer_size: 256\n",
            "\u001b[34m\u001b[1mwandb\u001b[0m: \tlearning_rate: 0.005\n",
            "\u001b[34m\u001b[1mwandb\u001b[0m: \tmodel: \n",
            "\u001b[34m\u001b[1mwandb\u001b[0m: \toptimizer: sgd\n"
          ]
        },
        {
          "output_type": "display_data",
          "data": {
            "text/html": [
              "\n",
              "                    Syncing run <strong><a href=\"https://wandb.ai/checheanya/hw2/runs/uqsura8o\" target=\"_blank\">volcanic-sweep-1</a></strong> to <a href=\"https://wandb.ai/checheanya/hw2\" target=\"_blank\">Weights & Biases</a> (<a href=\"https://docs.wandb.com/integrations/jupyter.html\" target=\"_blank\">docs</a>).<br/>\n",
              "Sweep page: <a href=\"https://wandb.ai/checheanya/hw2/sweeps/c0j8u4mx\" target=\"_blank\">https://wandb.ai/checheanya/hw2/sweeps/c0j8u4mx</a><br/>\n",
              "\n",
              "                "
            ],
            "text/plain": [
              "<IPython.core.display.HTML object>"
            ]
          },
          "metadata": {}
        },
        {
          "output_type": "stream",
          "name": "stderr",
          "text": [
            "/usr/local/lib/python3.7/dist-packages/torch/utils/data/dataloader.py:481: UserWarning: This DataLoader will create 8 worker processes in total. Our suggested max number of worker in current system is 2, which is smaller than what this DataLoader is going to create. Please be aware that excessive worker creation might get DataLoader running slow or even freeze, lower the worker number to avoid potential slowness/freeze if necessary.\n",
            "  cpuset_checked))\n"
          ]
        },
        {
          "output_type": "display_data",
          "data": {
            "text/html": [
              "<br/>Waiting for W&B process to finish, PID 3026... <strong style=\"color:red\">(failed 1).</strong> Press ctrl-c to abort syncing."
            ],
            "text/plain": [
              "<IPython.core.display.HTML object>"
            ]
          },
          "metadata": {}
        },
        {
          "output_type": "display_data",
          "data": {
            "application/vnd.jupyter.widget-view+json": {
              "model_id": "3dbacbb37640468c8d90c02428dc537e",
              "version_minor": 0,
              "version_major": 2
            },
            "text/plain": [
              "VBox(children=(Label(value=' 0.00MB of 0.00MB uploaded (0.00MB deduped)\\r'), FloatProgress(value=1.0, max=1.0)…"
            ]
          },
          "metadata": {}
        },
        {
          "output_type": "display_data",
          "data": {
            "text/html": [
              "<style>\n",
              "    table.wandb td:nth-child(1) { padding: 0 10px; text-align: right }\n",
              "    .wandb-row { display: flex; flex-direction: row; flex-wrap: wrap; width: 100% }\n",
              "    .wandb-col { display: flex; flex-direction: column; flex-basis: 100%; flex: 1; padding: 10px; }\n",
              "    </style>\n",
              "<div class=\"wandb-row\"><div class=\"wandb-col\">\n",
              "</div><div class=\"wandb-col\">\n",
              "</div></div>\n",
              "Synced 5 W&B file(s), 0 media file(s), 0 artifact file(s) and 0 other file(s)\n",
              "<br/>Synced <strong style=\"color:#cdcd00\">volcanic-sweep-1</strong>: <a href=\"https://wandb.ai/checheanya/hw2/runs/uqsura8o\" target=\"_blank\">https://wandb.ai/checheanya/hw2/runs/uqsura8o</a><br/>\n",
              "Find logs at: <code>./wandb/run-20211120_001330-uqsura8o/logs</code><br/>\n"
            ],
            "text/plain": [
              "<IPython.core.display.HTML object>"
            ]
          },
          "metadata": {}
        },
        {
          "output_type": "stream",
          "name": "stderr",
          "text": [
            "Run uqsura8o errored: TypeError(\"'str' object is not callable\")\n",
            "\u001b[34m\u001b[1mwandb\u001b[0m: \u001b[32m\u001b[41mERROR\u001b[0m Run uqsura8o errored: TypeError(\"'str' object is not callable\")\n",
            "\u001b[34m\u001b[1mwandb\u001b[0m: Agent Starting Run: n4b1kpsa with config:\n",
            "\u001b[34m\u001b[1mwandb\u001b[0m: \tbatch_size: 64\n",
            "\u001b[34m\u001b[1mwandb\u001b[0m: \tcriterion: {'_backward_hooks': [[]], '_buffers': [[['weight', None]]], '_forward_hooks': [[]], '_forward_pre_hooks': [[]], '_is_full_backward_hook': None, '_load_state_dict_pre_hooks': [[]], '_modules': [[]], '_non_persistent_buffers_set': {}, '_parameters': [[]], '_state_dict_hooks': [[]], 'ignore_index': -100, 'label_smoothing': 0, 'reduction': 'mean', 'training': True}\n",
            "\u001b[34m\u001b[1mwandb\u001b[0m: \tdevice: ['cpu']\n",
            "\u001b[34m\u001b[1mwandb\u001b[0m: \tdropout: 0.5\n",
            "\u001b[34m\u001b[1mwandb\u001b[0m: \tepochs: 10\n",
            "\u001b[34m\u001b[1mwandb\u001b[0m: \tfc_layer_size: 512\n",
            "\u001b[34m\u001b[1mwandb\u001b[0m: \tlearning_rate: 0.01\n",
            "\u001b[34m\u001b[1mwandb\u001b[0m: \tmodel: \n",
            "\u001b[34m\u001b[1mwandb\u001b[0m: \toptimizer: sgd\n",
            "\u001b[34m\u001b[1mwandb\u001b[0m: Ctrl + C detected. Stopping sweep.\n"
          ]
        }
      ]
    },
    {
      "cell_type": "code",
      "metadata": {
        "colab": {
          "base_uri": "https://localhost:8080/",
          "height": 122,
          "referenced_widgets": [
            "29bb76a2735a490ca3c7288aeebe7ec5",
            "5f6edb2e87944e5895b14e1601780d13",
            "4ed91a55c4d341abadef627c693ea5a4",
            "452888b217a64f67af2322a570e93aba",
            "733a8dde699e4b04ac0bc4d56baf3ccd",
            "56fc606f9bd244f6bdd4b57020657624",
            "f9c0d445520f4c7a9713278a9515af38",
            "e9f2fa7f3eff418d9bd65c0d1585a859",
            "4dca431478e9483ead86a48c98b6a9cf",
            "36e60f43bd7b44538925c5bcca0b46b9",
            "fe05df1e3a32485590d68be752f73a84"
          ]
        },
        "id": "ECIzZ_RYlRVZ",
        "outputId": "f43b8778-5561-4e16-8585-f322768dbbd1"
      },
      "source": [
        "'''\n",
        "def train(\n",
        "    model,\n",
        "    epochs,\n",
        "    train_dataloader,\n",
        "    val_dataloader,\n",
        "    optimizer,\n",
        "    criterion,\n",
        "    device=\"cuda:0\"\n",
        "):\n",
        "'''"
      ],
      "execution_count": null,
      "outputs": [
        {
          "metadata": {
            "tags": null
          },
          "name": "stdout",
          "output_type": "stream",
          "text": [
            "Train Epoch: 0\n"
          ]
        },
        {
          "data": {
            "application/vnd.jupyter.widget-view+json": {
              "model_id": "29bb76a2735a490ca3c7288aeebe7ec5",
              "version_major": 2,
              "version_minor": 0
            },
            "text/plain": [
              "  0%|          | 0/1563 [00:00<?, ?it/s]"
            ]
          },
          "metadata": {},
          "output_type": "display_data"
        },
        {
          "metadata": {
            "tags": null
          },
          "name": "stderr",
          "output_type": "stream",
          "text": [
            "/usr/local/lib/python3.7/dist-packages/torch/utils/data/dataloader.py:481: UserWarning: This DataLoader will create 8 worker processes in total. Our suggested max number of worker in current system is 2, which is smaller than what this DataLoader is going to create. Please be aware that excessive worker creation might get DataLoader running slow or even freeze, lower the worker number to avoid potential slowness/freeze if necessary.\n",
            "  cpuset_checked))\n"
          ]
        }
      ]
    },
    {
      "cell_type": "markdown",
      "metadata": {
        "id": "ImVW8_EXlRVZ"
      },
      "source": [
        "### Проверка полученной accuracy"
      ]
    },
    {
      "cell_type": "markdown",
      "metadata": {
        "id": "FmR-elhJlRVZ"
      },
      "source": [
        "После всех экспериментов которые вы проделали, выберите лучшую из своих моделей, реализуйте и запустите функцию `evaluate`. Эта функция должна брать на вход модель и даталоадер с валидационными данными и возврашать accuracy, посчитанную на этом датасете."
      ]
    },
    {
      "cell_type": "code",
      "metadata": {
        "id": "3TGH0EFalRVb",
        "colab": {
          "base_uri": "https://localhost:8080/",
          "height": 475,
          "referenced_widgets": [
            "afc88162a183463bb3bab600add869cb",
            "89734e2e2c0442518c73671d24392f8d",
            "00643df69afc49618ba1a493f60ad074",
            "a0d8c47320aa4fbf960c69d483c5a58b",
            "c10c8fd24bdb4976bfa0834300d1583d",
            "2b699de03b9141acb479cfb065234a02",
            "4014767a2eb64b7882102da097956c56",
            "caadfb56e02f4ae287667f292a3df7da",
            "93135ebf52da49bdab9289465baf0100",
            "4163c3d7df4343059fa096a509390ccb",
            "107b714de2814dec9b5902117d12fd13"
          ]
        },
        "outputId": "fb850f3f-479c-40b4-b34d-f461299a7803"
      },
      "source": [
        "model = resnet50(128, 0.5)\n",
        "val_dataloader = data_loaders(32)[1]\n",
        "\n",
        "metrics, all_losses, predicted_labels, true_labels = predict(model, val_dataloader, criterion, device)\n",
        "assert len(predicted_labels) == len(val_dataset)\n",
        "accuracy = accuracy_score(true_labels, predicted_labels)\n",
        "print(\"Оценка за это задание составит {} баллов\".format(min(5, 5 * accuracy / 0.44)))"
      ],
      "execution_count": null,
      "outputs": [
        {
          "output_type": "stream",
          "name": "stderr",
          "text": [
            "/usr/local/lib/python3.7/dist-packages/torch/utils/data/dataloader.py:481: UserWarning: This DataLoader will create 8 worker processes in total. Our suggested max number of worker in current system is 2, which is smaller than what this DataLoader is going to create. Please be aware that excessive worker creation might get DataLoader running slow or even freeze, lower the worker number to avoid potential slowness/freeze if necessary.\n",
            "  cpuset_checked))\n"
          ]
        },
        {
          "output_type": "display_data",
          "data": {
            "application/vnd.jupyter.widget-view+json": {
              "model_id": "afc88162a183463bb3bab600add869cb",
              "version_minor": 0,
              "version_major": 2
            },
            "text/plain": [
              "  0%|          | 0/313 [00:00<?, ?it/s]"
            ]
          },
          "metadata": {}
        },
        {
          "output_type": "error",
          "ename": "KeyboardInterrupt",
          "evalue": "ignored",
          "traceback": [
            "\u001b[0;31m---------------------------------------------------------------------------\u001b[0m",
            "\u001b[0;31mKeyboardInterrupt\u001b[0m                         Traceback (most recent call last)",
            "\u001b[0;32m<ipython-input-30-009e19a41092>\u001b[0m in \u001b[0;36m<module>\u001b[0;34m()\u001b[0m\n\u001b[1;32m      2\u001b[0m \u001b[0mval_dataloader\u001b[0m \u001b[0;34m=\u001b[0m \u001b[0mdata_loaders\u001b[0m\u001b[0;34m(\u001b[0m\u001b[0;36m32\u001b[0m\u001b[0;34m)\u001b[0m\u001b[0;34m[\u001b[0m\u001b[0;36m1\u001b[0m\u001b[0;34m]\u001b[0m\u001b[0;34m\u001b[0m\u001b[0;34m\u001b[0m\u001b[0m\n\u001b[1;32m      3\u001b[0m \u001b[0;34m\u001b[0m\u001b[0m\n\u001b[0;32m----> 4\u001b[0;31m \u001b[0mmetrics\u001b[0m\u001b[0;34m,\u001b[0m \u001b[0mall_losses\u001b[0m\u001b[0;34m,\u001b[0m \u001b[0mpredicted_labels\u001b[0m\u001b[0;34m,\u001b[0m \u001b[0mtrue_labels\u001b[0m \u001b[0;34m=\u001b[0m \u001b[0mpredict\u001b[0m\u001b[0;34m(\u001b[0m\u001b[0mmodel\u001b[0m\u001b[0;34m,\u001b[0m \u001b[0mval_dataloader\u001b[0m\u001b[0;34m,\u001b[0m \u001b[0mcriterion\u001b[0m\u001b[0;34m,\u001b[0m \u001b[0mdevice\u001b[0m\u001b[0;34m)\u001b[0m\u001b[0;34m\u001b[0m\u001b[0;34m\u001b[0m\u001b[0m\n\u001b[0m\u001b[1;32m      5\u001b[0m \u001b[0;32massert\u001b[0m \u001b[0mlen\u001b[0m\u001b[0;34m(\u001b[0m\u001b[0mpredicted_labels\u001b[0m\u001b[0;34m)\u001b[0m \u001b[0;34m==\u001b[0m \u001b[0mlen\u001b[0m\u001b[0;34m(\u001b[0m\u001b[0mval_dataset\u001b[0m\u001b[0;34m)\u001b[0m\u001b[0;34m\u001b[0m\u001b[0;34m\u001b[0m\u001b[0m\n\u001b[1;32m      6\u001b[0m \u001b[0maccuracy\u001b[0m \u001b[0;34m=\u001b[0m \u001b[0maccuracy_score\u001b[0m\u001b[0;34m(\u001b[0m\u001b[0mtrue_labels\u001b[0m\u001b[0;34m,\u001b[0m \u001b[0mpredicted_labels\u001b[0m\u001b[0;34m)\u001b[0m\u001b[0;34m\u001b[0m\u001b[0;34m\u001b[0m\u001b[0m\n",
            "\u001b[0;32m<ipython-input-19-824b171b2709>\u001b[0m in \u001b[0;36mpredict\u001b[0;34m(model, val_dataloder, criterion, device)\u001b[0m\n\u001b[1;32m     68\u001b[0m             \u001b[0mimages\u001b[0m \u001b[0;34m=\u001b[0m \u001b[0mimages\u001b[0m\u001b[0;34m.\u001b[0m\u001b[0mto\u001b[0m\u001b[0;34m(\u001b[0m\u001b[0mdevice\u001b[0m\u001b[0;34m)\u001b[0m\u001b[0;34m\u001b[0m\u001b[0;34m\u001b[0m\u001b[0m\n\u001b[1;32m     69\u001b[0m             \u001b[0mlabels\u001b[0m \u001b[0;34m=\u001b[0m \u001b[0mlabels\u001b[0m\u001b[0;34m.\u001b[0m\u001b[0mto\u001b[0m\u001b[0;34m(\u001b[0m\u001b[0mdevice\u001b[0m\u001b[0;34m)\u001b[0m\u001b[0;34m\u001b[0m\u001b[0;34m\u001b[0m\u001b[0m\n\u001b[0;32m---> 70\u001b[0;31m             \u001b[0mpredicted\u001b[0m \u001b[0;34m=\u001b[0m \u001b[0mmodel\u001b[0m\u001b[0;34m(\u001b[0m\u001b[0mimages\u001b[0m\u001b[0;34m)\u001b[0m\u001b[0;34m\u001b[0m\u001b[0;34m\u001b[0m\u001b[0m\n\u001b[0m\u001b[1;32m     71\u001b[0m             \u001b[0mloss\u001b[0m \u001b[0;34m=\u001b[0m \u001b[0mcriterion\u001b[0m\u001b[0;34m(\u001b[0m\u001b[0mpredicted\u001b[0m\u001b[0;34m,\u001b[0m \u001b[0mlabels\u001b[0m\u001b[0;34m)\u001b[0m\u001b[0;34m\u001b[0m\u001b[0;34m\u001b[0m\u001b[0m\n\u001b[1;32m     72\u001b[0m             \u001b[0maccuracy\u001b[0m \u001b[0;34m=\u001b[0m \u001b[0;34m(\u001b[0m\u001b[0mpredicted\u001b[0m\u001b[0;34m.\u001b[0m\u001b[0margmax\u001b[0m\u001b[0;34m(\u001b[0m\u001b[0;36m1\u001b[0m\u001b[0;34m)\u001b[0m \u001b[0;34m==\u001b[0m \u001b[0mlabels\u001b[0m\u001b[0;34m)\u001b[0m\u001b[0;34m.\u001b[0m\u001b[0mfloat\u001b[0m\u001b[0;34m(\u001b[0m\u001b[0;34m)\u001b[0m\u001b[0;34m.\u001b[0m\u001b[0mmean\u001b[0m\u001b[0;34m(\u001b[0m\u001b[0;34m)\u001b[0m\u001b[0;34m\u001b[0m\u001b[0;34m\u001b[0m\u001b[0m\n",
            "\u001b[0;32m/usr/local/lib/python3.7/dist-packages/torch/nn/modules/module.py\u001b[0m in \u001b[0;36m_call_impl\u001b[0;34m(self, *input, **kwargs)\u001b[0m\n\u001b[1;32m   1100\u001b[0m         if not (self._backward_hooks or self._forward_hooks or self._forward_pre_hooks or _global_backward_hooks\n\u001b[1;32m   1101\u001b[0m                 or _global_forward_hooks or _global_forward_pre_hooks):\n\u001b[0;32m-> 1102\u001b[0;31m             \u001b[0;32mreturn\u001b[0m \u001b[0mforward_call\u001b[0m\u001b[0;34m(\u001b[0m\u001b[0;34m*\u001b[0m\u001b[0minput\u001b[0m\u001b[0;34m,\u001b[0m \u001b[0;34m**\u001b[0m\u001b[0mkwargs\u001b[0m\u001b[0;34m)\u001b[0m\u001b[0;34m\u001b[0m\u001b[0;34m\u001b[0m\u001b[0m\n\u001b[0m\u001b[1;32m   1103\u001b[0m         \u001b[0;31m# Do not call functions when jit is used\u001b[0m\u001b[0;34m\u001b[0m\u001b[0;34m\u001b[0m\u001b[0;34m\u001b[0m\u001b[0m\n\u001b[1;32m   1104\u001b[0m         \u001b[0mfull_backward_hooks\u001b[0m\u001b[0;34m,\u001b[0m \u001b[0mnon_full_backward_hooks\u001b[0m \u001b[0;34m=\u001b[0m \u001b[0;34m[\u001b[0m\u001b[0;34m]\u001b[0m\u001b[0;34m,\u001b[0m \u001b[0;34m[\u001b[0m\u001b[0;34m]\u001b[0m\u001b[0;34m\u001b[0m\u001b[0;34m\u001b[0m\u001b[0m\n",
            "\u001b[0;32m/usr/local/lib/python3.7/dist-packages/torchvision/models/resnet.py\u001b[0m in \u001b[0;36mforward\u001b[0;34m(self, x)\u001b[0m\n\u001b[1;32m    247\u001b[0m \u001b[0;34m\u001b[0m\u001b[0m\n\u001b[1;32m    248\u001b[0m     \u001b[0;32mdef\u001b[0m \u001b[0mforward\u001b[0m\u001b[0;34m(\u001b[0m\u001b[0mself\u001b[0m\u001b[0;34m,\u001b[0m \u001b[0mx\u001b[0m\u001b[0;34m:\u001b[0m \u001b[0mTensor\u001b[0m\u001b[0;34m)\u001b[0m \u001b[0;34m->\u001b[0m \u001b[0mTensor\u001b[0m\u001b[0;34m:\u001b[0m\u001b[0;34m\u001b[0m\u001b[0;34m\u001b[0m\u001b[0m\n\u001b[0;32m--> 249\u001b[0;31m         \u001b[0;32mreturn\u001b[0m \u001b[0mself\u001b[0m\u001b[0;34m.\u001b[0m\u001b[0m_forward_impl\u001b[0m\u001b[0;34m(\u001b[0m\u001b[0mx\u001b[0m\u001b[0;34m)\u001b[0m\u001b[0;34m\u001b[0m\u001b[0;34m\u001b[0m\u001b[0m\n\u001b[0m\u001b[1;32m    250\u001b[0m \u001b[0;34m\u001b[0m\u001b[0m\n\u001b[1;32m    251\u001b[0m \u001b[0;34m\u001b[0m\u001b[0m\n",
            "\u001b[0;32m/usr/local/lib/python3.7/dist-packages/torchvision/models/resnet.py\u001b[0m in \u001b[0;36m_forward_impl\u001b[0;34m(self, x)\u001b[0m\n\u001b[1;32m    237\u001b[0m         \u001b[0mx\u001b[0m \u001b[0;34m=\u001b[0m \u001b[0mself\u001b[0m\u001b[0;34m.\u001b[0m\u001b[0mlayer1\u001b[0m\u001b[0;34m(\u001b[0m\u001b[0mx\u001b[0m\u001b[0;34m)\u001b[0m\u001b[0;34m\u001b[0m\u001b[0;34m\u001b[0m\u001b[0m\n\u001b[1;32m    238\u001b[0m         \u001b[0mx\u001b[0m \u001b[0;34m=\u001b[0m \u001b[0mself\u001b[0m\u001b[0;34m.\u001b[0m\u001b[0mlayer2\u001b[0m\u001b[0;34m(\u001b[0m\u001b[0mx\u001b[0m\u001b[0;34m)\u001b[0m\u001b[0;34m\u001b[0m\u001b[0;34m\u001b[0m\u001b[0m\n\u001b[0;32m--> 239\u001b[0;31m         \u001b[0mx\u001b[0m \u001b[0;34m=\u001b[0m \u001b[0mself\u001b[0m\u001b[0;34m.\u001b[0m\u001b[0mlayer3\u001b[0m\u001b[0;34m(\u001b[0m\u001b[0mx\u001b[0m\u001b[0;34m)\u001b[0m\u001b[0;34m\u001b[0m\u001b[0;34m\u001b[0m\u001b[0m\n\u001b[0m\u001b[1;32m    240\u001b[0m         \u001b[0mx\u001b[0m \u001b[0;34m=\u001b[0m \u001b[0mself\u001b[0m\u001b[0;34m.\u001b[0m\u001b[0mlayer4\u001b[0m\u001b[0;34m(\u001b[0m\u001b[0mx\u001b[0m\u001b[0;34m)\u001b[0m\u001b[0;34m\u001b[0m\u001b[0;34m\u001b[0m\u001b[0m\n\u001b[1;32m    241\u001b[0m \u001b[0;34m\u001b[0m\u001b[0m\n",
            "\u001b[0;32m/usr/local/lib/python3.7/dist-packages/torch/nn/modules/module.py\u001b[0m in \u001b[0;36m_call_impl\u001b[0;34m(self, *input, **kwargs)\u001b[0m\n\u001b[1;32m   1100\u001b[0m         if not (self._backward_hooks or self._forward_hooks or self._forward_pre_hooks or _global_backward_hooks\n\u001b[1;32m   1101\u001b[0m                 or _global_forward_hooks or _global_forward_pre_hooks):\n\u001b[0;32m-> 1102\u001b[0;31m             \u001b[0;32mreturn\u001b[0m \u001b[0mforward_call\u001b[0m\u001b[0;34m(\u001b[0m\u001b[0;34m*\u001b[0m\u001b[0minput\u001b[0m\u001b[0;34m,\u001b[0m \u001b[0;34m**\u001b[0m\u001b[0mkwargs\u001b[0m\u001b[0;34m)\u001b[0m\u001b[0;34m\u001b[0m\u001b[0;34m\u001b[0m\u001b[0m\n\u001b[0m\u001b[1;32m   1103\u001b[0m         \u001b[0;31m# Do not call functions when jit is used\u001b[0m\u001b[0;34m\u001b[0m\u001b[0;34m\u001b[0m\u001b[0;34m\u001b[0m\u001b[0m\n\u001b[1;32m   1104\u001b[0m         \u001b[0mfull_backward_hooks\u001b[0m\u001b[0;34m,\u001b[0m \u001b[0mnon_full_backward_hooks\u001b[0m \u001b[0;34m=\u001b[0m \u001b[0;34m[\u001b[0m\u001b[0;34m]\u001b[0m\u001b[0;34m,\u001b[0m \u001b[0;34m[\u001b[0m\u001b[0;34m]\u001b[0m\u001b[0;34m\u001b[0m\u001b[0;34m\u001b[0m\u001b[0m\n",
            "\u001b[0;32m/usr/local/lib/python3.7/dist-packages/torch/nn/modules/container.py\u001b[0m in \u001b[0;36mforward\u001b[0;34m(self, input)\u001b[0m\n\u001b[1;32m    139\u001b[0m     \u001b[0;32mdef\u001b[0m \u001b[0mforward\u001b[0m\u001b[0;34m(\u001b[0m\u001b[0mself\u001b[0m\u001b[0;34m,\u001b[0m \u001b[0minput\u001b[0m\u001b[0;34m)\u001b[0m\u001b[0;34m:\u001b[0m\u001b[0;34m\u001b[0m\u001b[0;34m\u001b[0m\u001b[0m\n\u001b[1;32m    140\u001b[0m         \u001b[0;32mfor\u001b[0m \u001b[0mmodule\u001b[0m \u001b[0;32min\u001b[0m \u001b[0mself\u001b[0m\u001b[0;34m:\u001b[0m\u001b[0;34m\u001b[0m\u001b[0;34m\u001b[0m\u001b[0m\n\u001b[0;32m--> 141\u001b[0;31m             \u001b[0minput\u001b[0m \u001b[0;34m=\u001b[0m \u001b[0mmodule\u001b[0m\u001b[0;34m(\u001b[0m\u001b[0minput\u001b[0m\u001b[0;34m)\u001b[0m\u001b[0;34m\u001b[0m\u001b[0;34m\u001b[0m\u001b[0m\n\u001b[0m\u001b[1;32m    142\u001b[0m         \u001b[0;32mreturn\u001b[0m \u001b[0minput\u001b[0m\u001b[0;34m\u001b[0m\u001b[0;34m\u001b[0m\u001b[0m\n\u001b[1;32m    143\u001b[0m \u001b[0;34m\u001b[0m\u001b[0m\n",
            "\u001b[0;32m/usr/local/lib/python3.7/dist-packages/torch/nn/modules/module.py\u001b[0m in \u001b[0;36m_call_impl\u001b[0;34m(self, *input, **kwargs)\u001b[0m\n\u001b[1;32m   1100\u001b[0m         if not (self._backward_hooks or self._forward_hooks or self._forward_pre_hooks or _global_backward_hooks\n\u001b[1;32m   1101\u001b[0m                 or _global_forward_hooks or _global_forward_pre_hooks):\n\u001b[0;32m-> 1102\u001b[0;31m             \u001b[0;32mreturn\u001b[0m \u001b[0mforward_call\u001b[0m\u001b[0;34m(\u001b[0m\u001b[0;34m*\u001b[0m\u001b[0minput\u001b[0m\u001b[0;34m,\u001b[0m \u001b[0;34m**\u001b[0m\u001b[0mkwargs\u001b[0m\u001b[0;34m)\u001b[0m\u001b[0;34m\u001b[0m\u001b[0;34m\u001b[0m\u001b[0m\n\u001b[0m\u001b[1;32m   1103\u001b[0m         \u001b[0;31m# Do not call functions when jit is used\u001b[0m\u001b[0;34m\u001b[0m\u001b[0;34m\u001b[0m\u001b[0;34m\u001b[0m\u001b[0m\n\u001b[1;32m   1104\u001b[0m         \u001b[0mfull_backward_hooks\u001b[0m\u001b[0;34m,\u001b[0m \u001b[0mnon_full_backward_hooks\u001b[0m \u001b[0;34m=\u001b[0m \u001b[0;34m[\u001b[0m\u001b[0;34m]\u001b[0m\u001b[0;34m,\u001b[0m \u001b[0;34m[\u001b[0m\u001b[0;34m]\u001b[0m\u001b[0;34m\u001b[0m\u001b[0;34m\u001b[0m\u001b[0m\n",
            "\u001b[0;32m/usr/local/lib/python3.7/dist-packages/torchvision/models/resnet.py\u001b[0m in \u001b[0;36mforward\u001b[0;34m(self, x)\u001b[0m\n\u001b[1;32m    126\u001b[0m         \u001b[0mout\u001b[0m \u001b[0;34m=\u001b[0m \u001b[0mself\u001b[0m\u001b[0;34m.\u001b[0m\u001b[0mrelu\u001b[0m\u001b[0;34m(\u001b[0m\u001b[0mout\u001b[0m\u001b[0;34m)\u001b[0m\u001b[0;34m\u001b[0m\u001b[0;34m\u001b[0m\u001b[0m\n\u001b[1;32m    127\u001b[0m \u001b[0;34m\u001b[0m\u001b[0m\n\u001b[0;32m--> 128\u001b[0;31m         \u001b[0mout\u001b[0m \u001b[0;34m=\u001b[0m \u001b[0mself\u001b[0m\u001b[0;34m.\u001b[0m\u001b[0mconv2\u001b[0m\u001b[0;34m(\u001b[0m\u001b[0mout\u001b[0m\u001b[0;34m)\u001b[0m\u001b[0;34m\u001b[0m\u001b[0;34m\u001b[0m\u001b[0m\n\u001b[0m\u001b[1;32m    129\u001b[0m         \u001b[0mout\u001b[0m \u001b[0;34m=\u001b[0m \u001b[0mself\u001b[0m\u001b[0;34m.\u001b[0m\u001b[0mbn2\u001b[0m\u001b[0;34m(\u001b[0m\u001b[0mout\u001b[0m\u001b[0;34m)\u001b[0m\u001b[0;34m\u001b[0m\u001b[0;34m\u001b[0m\u001b[0m\n\u001b[1;32m    130\u001b[0m         \u001b[0mout\u001b[0m \u001b[0;34m=\u001b[0m \u001b[0mself\u001b[0m\u001b[0;34m.\u001b[0m\u001b[0mrelu\u001b[0m\u001b[0;34m(\u001b[0m\u001b[0mout\u001b[0m\u001b[0;34m)\u001b[0m\u001b[0;34m\u001b[0m\u001b[0;34m\u001b[0m\u001b[0m\n",
            "\u001b[0;32m/usr/local/lib/python3.7/dist-packages/torch/nn/modules/module.py\u001b[0m in \u001b[0;36m_call_impl\u001b[0;34m(self, *input, **kwargs)\u001b[0m\n\u001b[1;32m   1100\u001b[0m         if not (self._backward_hooks or self._forward_hooks or self._forward_pre_hooks or _global_backward_hooks\n\u001b[1;32m   1101\u001b[0m                 or _global_forward_hooks or _global_forward_pre_hooks):\n\u001b[0;32m-> 1102\u001b[0;31m             \u001b[0;32mreturn\u001b[0m \u001b[0mforward_call\u001b[0m\u001b[0;34m(\u001b[0m\u001b[0;34m*\u001b[0m\u001b[0minput\u001b[0m\u001b[0;34m,\u001b[0m \u001b[0;34m**\u001b[0m\u001b[0mkwargs\u001b[0m\u001b[0;34m)\u001b[0m\u001b[0;34m\u001b[0m\u001b[0;34m\u001b[0m\u001b[0m\n\u001b[0m\u001b[1;32m   1103\u001b[0m         \u001b[0;31m# Do not call functions when jit is used\u001b[0m\u001b[0;34m\u001b[0m\u001b[0;34m\u001b[0m\u001b[0;34m\u001b[0m\u001b[0m\n\u001b[1;32m   1104\u001b[0m         \u001b[0mfull_backward_hooks\u001b[0m\u001b[0;34m,\u001b[0m \u001b[0mnon_full_backward_hooks\u001b[0m \u001b[0;34m=\u001b[0m \u001b[0;34m[\u001b[0m\u001b[0;34m]\u001b[0m\u001b[0;34m,\u001b[0m \u001b[0;34m[\u001b[0m\u001b[0;34m]\u001b[0m\u001b[0;34m\u001b[0m\u001b[0;34m\u001b[0m\u001b[0m\n",
            "\u001b[0;32m/usr/local/lib/python3.7/dist-packages/torch/nn/modules/conv.py\u001b[0m in \u001b[0;36mforward\u001b[0;34m(self, input)\u001b[0m\n\u001b[1;32m    444\u001b[0m \u001b[0;34m\u001b[0m\u001b[0m\n\u001b[1;32m    445\u001b[0m     \u001b[0;32mdef\u001b[0m \u001b[0mforward\u001b[0m\u001b[0;34m(\u001b[0m\u001b[0mself\u001b[0m\u001b[0;34m,\u001b[0m \u001b[0minput\u001b[0m\u001b[0;34m:\u001b[0m \u001b[0mTensor\u001b[0m\u001b[0;34m)\u001b[0m \u001b[0;34m->\u001b[0m \u001b[0mTensor\u001b[0m\u001b[0;34m:\u001b[0m\u001b[0;34m\u001b[0m\u001b[0;34m\u001b[0m\u001b[0m\n\u001b[0;32m--> 446\u001b[0;31m         \u001b[0;32mreturn\u001b[0m \u001b[0mself\u001b[0m\u001b[0;34m.\u001b[0m\u001b[0m_conv_forward\u001b[0m\u001b[0;34m(\u001b[0m\u001b[0minput\u001b[0m\u001b[0;34m,\u001b[0m \u001b[0mself\u001b[0m\u001b[0;34m.\u001b[0m\u001b[0mweight\u001b[0m\u001b[0;34m,\u001b[0m \u001b[0mself\u001b[0m\u001b[0;34m.\u001b[0m\u001b[0mbias\u001b[0m\u001b[0;34m)\u001b[0m\u001b[0;34m\u001b[0m\u001b[0;34m\u001b[0m\u001b[0m\n\u001b[0m\u001b[1;32m    447\u001b[0m \u001b[0;34m\u001b[0m\u001b[0m\n\u001b[1;32m    448\u001b[0m \u001b[0;32mclass\u001b[0m \u001b[0mConv3d\u001b[0m\u001b[0;34m(\u001b[0m\u001b[0m_ConvNd\u001b[0m\u001b[0;34m)\u001b[0m\u001b[0;34m:\u001b[0m\u001b[0;34m\u001b[0m\u001b[0;34m\u001b[0m\u001b[0m\n",
            "\u001b[0;32m/usr/local/lib/python3.7/dist-packages/torch/nn/modules/conv.py\u001b[0m in \u001b[0;36m_conv_forward\u001b[0;34m(self, input, weight, bias)\u001b[0m\n\u001b[1;32m    441\u001b[0m                             _pair(0), self.dilation, self.groups)\n\u001b[1;32m    442\u001b[0m         return F.conv2d(input, weight, bias, self.stride,\n\u001b[0;32m--> 443\u001b[0;31m                         self.padding, self.dilation, self.groups)\n\u001b[0m\u001b[1;32m    444\u001b[0m \u001b[0;34m\u001b[0m\u001b[0m\n\u001b[1;32m    445\u001b[0m     \u001b[0;32mdef\u001b[0m \u001b[0mforward\u001b[0m\u001b[0;34m(\u001b[0m\u001b[0mself\u001b[0m\u001b[0;34m,\u001b[0m \u001b[0minput\u001b[0m\u001b[0;34m:\u001b[0m \u001b[0mTensor\u001b[0m\u001b[0;34m)\u001b[0m \u001b[0;34m->\u001b[0m \u001b[0mTensor\u001b[0m\u001b[0;34m:\u001b[0m\u001b[0;34m\u001b[0m\u001b[0;34m\u001b[0m\u001b[0m\n",
            "\u001b[0;31mKeyboardInterrupt\u001b[0m: "
          ]
        }
      ]
    },
    {
      "cell_type": "markdown",
      "metadata": {
        "id": "pT8vfPSolRVb"
      },
      "source": [
        "### Отчёт об экспериментах \n",
        "\n",
        "текст писать тут"
      ]
    }
  ]
}
