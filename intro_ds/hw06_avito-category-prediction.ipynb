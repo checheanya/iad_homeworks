{
 "cells": [
  {
   "cell_type": "markdown",
   "metadata": {},
   "source": [
    "# Домашнее задание 6: классификация текстов"
   ]
  },
  {
   "cell_type": "markdown",
   "metadata": {},
   "source": [
    "В этом домашнем задании вам предстоит построить классификатор текстов и поучаствовать в соревновании на Kaggle!\n",
    "Первым делом вам предстоит построить хороший бейзлайн, а дальше пытаться улучшать, соревнуясь с другими участниками.\n",
    "\n",
    "\n",
    "Ссылка на соревнование: https://www.kaggle.com/c/avito-category-prediction/overview\n",
    "Данные для домашнего задания можно скачать на странице соревнования.\n",
    "Чтобы ваше участие было засчитано, убедитесь, что имя в Leaderboard имеет вид: «Имя Фамилия номер_группы».\n",
    "\n",
    "Оценивание:\n",
    "\n",
    "Домашнее задание оценивается как обычно. Баллы указаны напротив заданий.\n",
    "\n",
    "За соревнование даются бонусные баллы следующим образом.\n",
    "Если вы пересекли baseline_2 на приватном лидерборде, ваша оценка равна \n",
    "\n",
    "10 - 10 * (i - 1) / M\n",
    "\n",
    "где M — количество студентов, принявших участие в соревновании;\n",
    "\n",
    "i — место (начиная с 1) студента в приватном лидерборде среди всех таких студентов.\n",
    "\n",
    "Правила:\n",
    "\n",
    "* Домашнее задание оценивается в 10 баллов.\n",
    "\n",
    "* Плагиат не допускается. При обнаружении случаев списывания, 0 за работу выставляется всем участникам нарушения, даже если можно установить, кто у кого списал.\n",
    "\n",
    "* Старайтесь сделать код как можно более оптимальным. В частности, будет штрафоваться использование циклов в тех случаях, когда операцию можно совершить при помощи инструментов библиотек, о которых рассказывалось в курсе.  \n",
    "\n",
    "* В течение 3 суток после окончания соревнования в соответствующее задание на anytask необходимо прислать код, воспроизводящий ответы для посылки, фигурирующей в приватном лидерборде. В случае отсутствия кода, воспроизводящего результат, в установленный срок студенту выставляется 0 в качестве оценки за соревнование. Если не оговорено иное, использовать любые внешние данные в соревнованиях '''запрещено'''. Под внешними данными понимаются размеченные данные, где разметка имеет прямое отношение к решаемой задаче. Грубо говоря, сборник текстов с википедии не считается внешними данными.\n"
   ]
  },
  {
   "cell_type": "markdown",
   "metadata": {},
   "source": [
    "Мы будем работать с датасетом объявлений Avito. Нам предстоит по заголовку и тексту объявления предсказывать категорию объявления."
   ]
  },
  {
   "cell_type": "code",
   "execution_count": 27,
   "metadata": {},
   "outputs": [],
   "source": [
    "import pandas as pd"
   ]
  },
  {
   "cell_type": "code",
   "execution_count": 28,
   "metadata": {},
   "outputs": [],
   "source": [
    "#from google.cloud import storage\n",
    "#storage_client = storage.Client(project = 'avito_category_prediction')"
   ]
  },
  {
   "cell_type": "code",
   "execution_count": 29,
   "metadata": {},
   "outputs": [],
   "source": [
    "train = pd.read_csv('train.csv')"
   ]
  },
  {
   "cell_type": "code",
   "execution_count": null,
   "metadata": {},
   "outputs": [],
   "source": [
    "test = pd.read_csv('../input/avito-category-prediction/test.csv')"
   ]
  },
  {
   "cell_type": "code",
   "execution_count": 30,
   "metadata": {},
   "outputs": [
    {
     "data": {
      "text/html": [
       "<div>\n",
       "<style scoped>\n",
       "    .dataframe tbody tr th:only-of-type {\n",
       "        vertical-align: middle;\n",
       "    }\n",
       "\n",
       "    .dataframe tbody tr th {\n",
       "        vertical-align: top;\n",
       "    }\n",
       "\n",
       "    .dataframe thead th {\n",
       "        text-align: right;\n",
       "    }\n",
       "</style>\n",
       "<table border=\"1\" class=\"dataframe\">\n",
       "  <thead>\n",
       "    <tr style=\"text-align: right;\">\n",
       "      <th></th>\n",
       "      <th>title</th>\n",
       "      <th>description</th>\n",
       "      <th>Category_name</th>\n",
       "      <th>Category</th>\n",
       "    </tr>\n",
       "  </thead>\n",
       "  <tbody>\n",
       "    <tr>\n",
       "      <th>0</th>\n",
       "      <td>Эбу Renault / Nissan 1,5 DCI Delphi 2001-2008 год</td>\n",
       "      <td>Комплект ЭБУ (мозги, компьютер мотора, двигате...</td>\n",
       "      <td>Запчасти и аксессуары</td>\n",
       "      <td>10</td>\n",
       "    </tr>\n",
       "    <tr>\n",
       "      <th>1</th>\n",
       "      <td>Утюг утп 1000 ватт СССР 1987 год</td>\n",
       "      <td>Продам/\\n Фото № 1-2 /\\n /\\nУтюг УТП 1000 ватт...</td>\n",
       "      <td>Бытовая техника</td>\n",
       "      <td>21</td>\n",
       "    </tr>\n",
       "    <tr>\n",
       "      <th>2</th>\n",
       "      <td>Возвму машину с выкупом</td>\n",
       "      <td>Возьму машину в аренду с последующим выкупом н...</td>\n",
       "      <td>Предложение услуг</td>\n",
       "      <td>114</td>\n",
       "    </tr>\n",
       "    <tr>\n",
       "      <th>3</th>\n",
       "      <td>Полусапожки</td>\n",
       "      <td>полусапожки в отличном состоянии, один раз оде...</td>\n",
       "      <td>Одежда, обувь, аксессуары</td>\n",
       "      <td>27</td>\n",
       "    </tr>\n",
       "    <tr>\n",
       "      <th>4</th>\n",
       "      <td>Босоножки кожаные</td>\n",
       "      <td>Кожаные(натур) босоножки Karlo Pasolini, 40 рр...</td>\n",
       "      <td>Одежда, обувь, аксессуары</td>\n",
       "      <td>27</td>\n",
       "    </tr>\n",
       "  </tbody>\n",
       "</table>\n",
       "</div>"
      ],
      "text/plain": [
       "                                               title  \\\n",
       "0  Эбу Renault / Nissan 1,5 DCI Delphi 2001-2008 год   \n",
       "1                   Утюг утп 1000 ватт СССР 1987 год   \n",
       "2                            Возвму машину с выкупом   \n",
       "3                                        Полусапожки   \n",
       "4                                  Босоножки кожаные   \n",
       "\n",
       "                                         description  \\\n",
       "0  Комплект ЭБУ (мозги, компьютер мотора, двигате...   \n",
       "1  Продам/\\n Фото № 1-2 /\\n /\\nУтюг УТП 1000 ватт...   \n",
       "2  Возьму машину в аренду с последующим выкупом н...   \n",
       "3  полусапожки в отличном состоянии, один раз оде...   \n",
       "4  Кожаные(натур) босоножки Karlo Pasolini, 40 рр...   \n",
       "\n",
       "               Category_name  Category  \n",
       "0      Запчасти и аксессуары        10  \n",
       "1            Бытовая техника        21  \n",
       "2          Предложение услуг       114  \n",
       "3  Одежда, обувь, аксессуары        27  \n",
       "4  Одежда, обувь, аксессуары        27  "
      ]
     },
     "execution_count": 30,
     "metadata": {},
     "output_type": "execute_result"
    }
   ],
   "source": [
    "train.head()"
   ]
  },
  {
   "cell_type": "code",
   "execution_count": null,
   "metadata": {},
   "outputs": [],
   "source": [
    "train.shape"
   ]
  },
  {
   "cell_type": "markdown",
   "metadata": {},
   "source": [
    "## Задание 1 (0.5 балла)\n",
    "\n",
    "Выведете на экран информацию о пропусках в данных. Если пропуски присутствуют заполните их пустой строкой."
   ]
  },
  {
   "cell_type": "code",
   "execution_count": 31,
   "metadata": {},
   "outputs": [
    {
     "data": {
      "text/plain": [
       "title            0\n",
       "description      2\n",
       "Category_name    0\n",
       "Category         0\n",
       "dtype: int64"
      ]
     },
     "execution_count": 31,
     "metadata": {},
     "output_type": "execute_result"
    }
   ],
   "source": [
    "train.isna().sum()"
   ]
  },
  {
   "cell_type": "code",
   "execution_count": null,
   "metadata": {},
   "outputs": [],
   "source": [
    "test.isna().sum()"
   ]
  },
  {
   "cell_type": "code",
   "execution_count": 32,
   "metadata": {},
   "outputs": [],
   "source": [
    "train['description'] = train['description'].fillna(str())"
   ]
  },
  {
   "cell_type": "code",
   "execution_count": null,
   "metadata": {},
   "outputs": [],
   "source": [
    "test['description'] = test['description'].fillna(str())"
   ]
  },
  {
   "cell_type": "code",
   "execution_count": 33,
   "metadata": {},
   "outputs": [
    {
     "data": {
      "text/plain": [
       "title            0\n",
       "description      0\n",
       "Category_name    0\n",
       "Category         0\n",
       "dtype: int64"
      ]
     },
     "execution_count": 33,
     "metadata": {},
     "output_type": "execute_result"
    }
   ],
   "source": [
    "train.isna().sum()"
   ]
  },
  {
   "cell_type": "code",
   "execution_count": null,
   "metadata": {},
   "outputs": [],
   "source": [
    "test.isna().sum()"
   ]
  },
  {
   "cell_type": "markdown",
   "metadata": {},
   "source": [
    "## Задание 2 (0.5 балла)\n",
    "Сконкатенируйте заголовок и описание в единую строку и поместите результат в отдельный столбец. Таким образом мы будет работать с одним текстом, а не с двумя."
   ]
  },
  {
   "cell_type": "code",
   "execution_count": 34,
   "metadata": {},
   "outputs": [],
   "source": [
    "df = pd.DataFrame({'a': [' ']*train.shape[0]})"
   ]
  },
  {
   "cell_type": "code",
   "execution_count": 35,
   "metadata": {},
   "outputs": [
    {
     "data": {
      "text/plain": [
       "(4234042, 1)"
      ]
     },
     "execution_count": 35,
     "metadata": {},
     "output_type": "execute_result"
    }
   ],
   "source": [
    "df.shape"
   ]
  },
  {
   "cell_type": "code",
   "execution_count": 36,
   "metadata": {},
   "outputs": [],
   "source": [
    "train['title&description'] = train['title'] + df['a'] + train['description']"
   ]
  },
  {
   "cell_type": "code",
   "execution_count": null,
   "metadata": {},
   "outputs": [],
   "source": [
    "test['title&description'] = test['title'] + df['a'] + test['description']"
   ]
  },
  {
   "cell_type": "code",
   "execution_count": null,
   "metadata": {},
   "outputs": [],
   "source": [
    "test.head(3)"
   ]
  },
  {
   "cell_type": "code",
   "execution_count": 37,
   "metadata": {},
   "outputs": [
    {
     "data": {
      "text/html": [
       "<div>\n",
       "<style scoped>\n",
       "    .dataframe tbody tr th:only-of-type {\n",
       "        vertical-align: middle;\n",
       "    }\n",
       "\n",
       "    .dataframe tbody tr th {\n",
       "        vertical-align: top;\n",
       "    }\n",
       "\n",
       "    .dataframe thead th {\n",
       "        text-align: right;\n",
       "    }\n",
       "</style>\n",
       "<table border=\"1\" class=\"dataframe\">\n",
       "  <thead>\n",
       "    <tr style=\"text-align: right;\">\n",
       "      <th></th>\n",
       "      <th>title</th>\n",
       "      <th>description</th>\n",
       "      <th>Category_name</th>\n",
       "      <th>Category</th>\n",
       "      <th>title&amp;description</th>\n",
       "    </tr>\n",
       "  </thead>\n",
       "  <tbody>\n",
       "    <tr>\n",
       "      <th>0</th>\n",
       "      <td>Эбу Renault / Nissan 1,5 DCI Delphi 2001-2008 год</td>\n",
       "      <td>Комплект ЭБУ (мозги, компьютер мотора, двигате...</td>\n",
       "      <td>Запчасти и аксессуары</td>\n",
       "      <td>10</td>\n",
       "      <td>Эбу Renault / Nissan 1,5 DCI Delphi 2001-2008 ...</td>\n",
       "    </tr>\n",
       "    <tr>\n",
       "      <th>1</th>\n",
       "      <td>Утюг утп 1000 ватт СССР 1987 год</td>\n",
       "      <td>Продам/\\n Фото № 1-2 /\\n /\\nУтюг УТП 1000 ватт...</td>\n",
       "      <td>Бытовая техника</td>\n",
       "      <td>21</td>\n",
       "      <td>Утюг утп 1000 ватт СССР 1987 год Продам/\\n Фот...</td>\n",
       "    </tr>\n",
       "    <tr>\n",
       "      <th>2</th>\n",
       "      <td>Возвму машину с выкупом</td>\n",
       "      <td>Возьму машину в аренду с последующим выкупом н...</td>\n",
       "      <td>Предложение услуг</td>\n",
       "      <td>114</td>\n",
       "      <td>Возвму машину с выкупом Возьму машину в аренду...</td>\n",
       "    </tr>\n",
       "  </tbody>\n",
       "</table>\n",
       "</div>"
      ],
      "text/plain": [
       "                                               title  \\\n",
       "0  Эбу Renault / Nissan 1,5 DCI Delphi 2001-2008 год   \n",
       "1                   Утюг утп 1000 ватт СССР 1987 год   \n",
       "2                            Возвму машину с выкупом   \n",
       "\n",
       "                                         description          Category_name  \\\n",
       "0  Комплект ЭБУ (мозги, компьютер мотора, двигате...  Запчасти и аксессуары   \n",
       "1  Продам/\\n Фото № 1-2 /\\n /\\nУтюг УТП 1000 ватт...        Бытовая техника   \n",
       "2  Возьму машину в аренду с последующим выкупом н...      Предложение услуг   \n",
       "\n",
       "   Category                                  title&description  \n",
       "0        10  Эбу Renault / Nissan 1,5 DCI Delphi 2001-2008 ...  \n",
       "1        21  Утюг утп 1000 ватт СССР 1987 год Продам/\\n Фот...  \n",
       "2       114  Возвму машину с выкупом Возьму машину в аренду...  "
      ]
     },
     "execution_count": 37,
     "metadata": {},
     "output_type": "execute_result"
    }
   ],
   "source": [
    "train.head(3)"
   ]
  },
  {
   "cell_type": "markdown",
   "metadata": {},
   "source": [
    "## Задание 3 (0.5 балла)\n",
    "Давайте немного посмотрим на наши данные. Визуализируйте (где явно просят) или выведете информацию о следующем:\n",
    "\n",
    "1. Сколько всего уникальных классов необходимо предсказать?\n",
    "2. Постройте столбчатую диаграмму распределения по классам. Нормализуйте график, чтобы видеть доли, а не абсолютные значения.\n",
    "3. На сколько большой дисбаланс? Какой класс имеет самую большую долю в выборке (укажите класс и долю), какой класс наименьшую (укажите класс и долю)."
   ]
  },
  {
   "cell_type": "code",
   "execution_count": 38,
   "metadata": {},
   "outputs": [
    {
     "name": "stdout",
     "output_type": "stream",
     "text": [
      "Unique categories, total:  50\n"
     ]
    }
   ],
   "source": [
    "print('Unique categories, total: ', len(train['Category'].unique().tolist()))"
   ]
  },
  {
   "cell_type": "code",
   "execution_count": 39,
   "metadata": {},
   "outputs": [
    {
     "name": "stderr",
     "output_type": "stream",
     "text": [
      "Matplotlib is building the font cache; this may take a moment.\n"
     ]
    }
   ],
   "source": [
    "import seaborn as sns\n",
    "import matplotlib.pyplot as plt"
   ]
  },
  {
   "cell_type": "code",
   "execution_count": 40,
   "metadata": {},
   "outputs": [
    {
     "data": {
      "text/plain": [
       "<AxesSubplot:xlabel='Category', ylabel='count'>"
      ]
     },
     "execution_count": 40,
     "metadata": {},
     "output_type": "execute_result"
    },
    {
     "data": {
      "image/png": "[encoded data removed]",
      "text/plain": [
       "<Figure size 1080x576 with 1 Axes>"
      ]
     },
     "metadata": {
      "needs_background": "light"
     },
     "output_type": "display_data"
    }
   ],
   "source": [
    "plt.figure(figsize=(15, 8))\n",
    "sns.countplot(data=train, x='Category')"
   ]
  },
  {
   "cell_type": "code",
   "execution_count": 41,
   "metadata": {},
   "outputs": [],
   "source": [
    "cat_counts = pd.DataFrame(train['Category'].value_counts()).reset_index()"
   ]
  },
  {
   "cell_type": "code",
   "execution_count": 42,
   "metadata": {},
   "outputs": [],
   "source": [
    "cat_counts['percent'] = cat_counts['Category'].apply(lambda x: x/cat_counts['Category'].sum())"
   ]
  },
  {
   "cell_type": "code",
   "execution_count": 43,
   "metadata": {},
   "outputs": [
    {
     "data": {
      "text/plain": [
       "1.0"
      ]
     },
     "execution_count": 43,
     "metadata": {},
     "output_type": "execute_result"
    }
   ],
   "source": [
    "cat_counts['percent'].sum()"
   ]
  },
  {
   "cell_type": "code",
   "execution_count": 44,
   "metadata": {},
   "outputs": [
    {
     "data": {
      "text/plain": [
       "<AxesSubplot:xlabel='index', ylabel='percent'>"
      ]
     },
     "execution_count": 44,
     "metadata": {},
     "output_type": "execute_result"
    },
    {
     "data": {
      "image/png": "[encoded data removed]",
      "text/plain": [
       "<Figure size 1080x576 with 1 Axes>"
      ]
     },
     "metadata": {
      "needs_background": "light"
     },
     "output_type": "display_data"
    }
   ],
   "source": [
    "plt.figure(figsize=(15, 8))\n",
    "sns.barplot(data=cat_counts, x='index', y='percent')"
   ]
  },
  {
   "cell_type": "code",
   "execution_count": 45,
   "metadata": {},
   "outputs": [
    {
     "name": "stdout",
     "output_type": "stream",
     "text": [
      "Категории, встречающиеся реже всех:  \n",
      "     category  category count  category percent\n",
      "49        86             165          0.000039\n",
      "48        33            2886          0.000682\n",
      "47        91            3614          0.000854\n",
      "\n",
      " Категории, встречающиеся чаще всех:  \n",
      "    category  category count  category percent\n",
      "2        29          577499          0.136394\n",
      "1        10          740701          0.174939\n",
      "0        27          765120          0.180707\n"
     ]
    }
   ],
   "source": [
    "cat_sorted = cat_counts.sort_values(by='percent')\n",
    "cat_sorted.columns = ['category', 'category count', 'category percent']\n",
    "print('Категории, встречающиеся реже всех: ', '\\n', cat_sorted.iloc[:3])\n",
    "print('\\n', 'Категории, встречающиеся чаще всех: ', '\\n', cat_sorted.iloc[-3:])"
   ]
  },
  {
   "cell_type": "markdown",
   "metadata": {},
   "source": [
    "Самую большую долю имеют три категории: 27, 10 и 29 в порядке убывания. 27 класс встречается в 13.6 процентах объявлений. Самую маленьку долю имеют три категории: 91, 33 и 86 в порядке убывания. 86 класс встречается лишь в 0.0039 процентах объявлений. "
   ]
  },
  {
   "cell_type": "markdown",
   "metadata": {},
   "source": [
    "## Задание 4 (0.5 балла)\n",
    "\n",
    "Далее мы будем пока работать только с train частью. Для test части нам неизвестны истинные значения, и они понадобятся только тогда, когда мы будем отправлять решение на Kaggle.\n",
    "\n",
    "1. Предобработайте данные (train часть) с помощью CountVectorizer.\n",
    "2. Какого размера получилась матрица?\n"
   ]
  },
  {
   "cell_type": "code",
   "execution_count": null,
   "metadata": {},
   "outputs": [],
   "source": [
    "X_train = train[['title&description']]\n",
    "y_train = train[['Category']]"
   ]
  },
  {
   "cell_type": "code",
   "execution_count": 46,
   "metadata": {},
   "outputs": [],
   "source": [
    "from sklearn.feature_extraction.text import CountVectorizer\n",
    "vec = CountVectorizer(ngram_range=(1, 1))\n",
    "bow = vec.fit_transform(train['title&description'])"
   ]
  },
  {
   "cell_type": "code",
   "execution_count": 47,
   "metadata": {},
   "outputs": [
    {
     "data": {
      "text/plain": [
       "<4234042x2125805 sparse matrix of type '<class 'numpy.int64'>'\n",
       "\twith 150918485 stored elements in Compressed Sparse Row format>"
      ]
     },
     "execution_count": 47,
     "metadata": {},
     "output_type": "execute_result"
    }
   ],
   "source": [
    "bow"
   ]
  },
  {
   "cell_type": "markdown",
   "metadata": {},
   "source": [
    "Получилась матрица размером 4234042x2125805"
   ]
  },
  {
   "cell_type": "markdown",
   "metadata": {},
   "source": [
    "## Задание 5 (0.5 балла)\n",
    "\n",
    "В предыдущем пункте у вас должная была получится очень большая матрица. Это не дело.\n",
    "Если вы взгляните на текст, то увидете, что там есть множество специальных символов.\n",
    "\n",
    "Давайте также посмотрим на словарь, который получился в результате построения CountVectorizer, его можно найти в поле _vocabulary инстанса этого класса.\n",
    "\n",
    "1. Найдите в этом словаре все слова, которые начинаются на цифру. Сколько таких слов нашлось?\n",
    "\n",
    "2. Найдите все слова, которые начинаются на символы пунктуации. Сколько таких слов нашлось? "
   ]
  },
  {
   "cell_type": "code",
   "execution_count": 48,
   "metadata": {},
   "outputs": [],
   "source": [
    "df = pd.DataFrame(list(vec.vocabulary_.items()), columns = ['word', 'counts'])"
   ]
  },
  {
   "cell_type": "code",
   "execution_count": 49,
   "metadata": {},
   "outputs": [],
   "source": [
    "df['is number'] = df['word'].apply(lambda x: x[0] in [str(i) for i in range(10)])"
   ]
  },
  {
   "cell_type": "code",
   "execution_count": 50,
   "metadata": {},
   "outputs": [
    {
     "data": {
      "text/html": [
       "<div>\n",
       "<style scoped>\n",
       "    .dataframe tbody tr th:only-of-type {\n",
       "        vertical-align: middle;\n",
       "    }\n",
       "\n",
       "    .dataframe tbody tr th {\n",
       "        vertical-align: top;\n",
       "    }\n",
       "\n",
       "    .dataframe thead th {\n",
       "        text-align: right;\n",
       "    }\n",
       "</style>\n",
       "<table border=\"1\" class=\"dataframe\">\n",
       "  <thead>\n",
       "    <tr style=\"text-align: right;\">\n",
       "      <th></th>\n",
       "      <th>word</th>\n",
       "      <th>counts</th>\n",
       "      <th>is number</th>\n",
       "    </tr>\n",
       "  </thead>\n",
       "  <tbody>\n",
       "    <tr>\n",
       "      <th>0</th>\n",
       "      <td>эбу</td>\n",
       "      <td>2102181</td>\n",
       "      <td>False</td>\n",
       "    </tr>\n",
       "    <tr>\n",
       "      <th>1</th>\n",
       "      <td>renault</td>\n",
       "      <td>983123</td>\n",
       "      <td>False</td>\n",
       "    </tr>\n",
       "    <tr>\n",
       "      <th>2</th>\n",
       "      <td>nissan</td>\n",
       "      <td>927024</td>\n",
       "      <td>False</td>\n",
       "    </tr>\n",
       "    <tr>\n",
       "      <th>3</th>\n",
       "      <td>dci</td>\n",
       "      <td>737115</td>\n",
       "      <td>False</td>\n",
       "    </tr>\n",
       "    <tr>\n",
       "      <th>4</th>\n",
       "      <td>delphi</td>\n",
       "      <td>739000</td>\n",
       "      <td>False</td>\n",
       "    </tr>\n",
       "  </tbody>\n",
       "</table>\n",
       "</div>"
      ],
      "text/plain": [
       "      word   counts  is number\n",
       "0      эбу  2102181      False\n",
       "1  renault   983123      False\n",
       "2   nissan   927024      False\n",
       "3      dci   737115      False\n",
       "4   delphi   739000      False"
      ]
     },
     "execution_count": 50,
     "metadata": {},
     "output_type": "execute_result"
    }
   ],
   "source": [
    "df.head(5)"
   ]
  },
  {
   "cell_type": "code",
   "execution_count": 51,
   "metadata": {},
   "outputs": [
    {
     "name": "stdout",
     "output_type": "stream",
     "text": [
      "Words in total:  2125805 \n",
      " Words, started from number:  610871\n"
     ]
    }
   ],
   "source": [
    "print('Words in total: ', df['is number'].shape[0], '\\n', 'Words, started from number: ', df['is number'].sum())"
   ]
  },
  {
   "cell_type": "code",
   "execution_count": 52,
   "metadata": {},
   "outputs": [],
   "source": [
    "import string\n",
    "\n",
    "df['is symbol'] = df['word'].apply(lambda x: x[0] in list(string.punctuation))"
   ]
  },
  {
   "cell_type": "code",
   "execution_count": 53,
   "metadata": {},
   "outputs": [
    {
     "name": "stdout",
     "output_type": "stream",
     "text": [
      "Words in total:  2125805 \n",
      " Words, started from symbol:  2043\n"
     ]
    }
   ],
   "source": [
    "print('Words in total: ', df['is number'].shape[0], '\\n', 'Words, started from symbol: ', df['is symbol'].sum())"
   ]
  },
  {
   "cell_type": "markdown",
   "metadata": {},
   "source": [
    "## Задание 6 (2.5 балла)\n",
    "\n",
    "В scikit-learn мы можем оценивать процесс подсчета матрицы через CountVectorizer. У CountVectorizer, как и у других наследников \\_VectorizerMixin, есть аргумент tokenizer и preprocessor. preprocessor применится в самом начале к каждой строке вашего датасета, tokenizer же должен принять строку и вернуть токены.\n",
    "Давайте напишем кастомный токенайзер, которые сделает все, что нам нужно: \n",
    "\n",
    "0. Приведет все буквы к нижнему регистру\n",
    "1. Разобьет текст на токены с помощью word_tokenizer из пакета nltk\n",
    "2. Удалит все токены содержащие числа и пунктуацию\n",
    "3. Удалит все токены, которые перечислены в nltk.corpus.stopwords('russian')\n",
    "4. Проведет стемминг с помощью SnowballStemmer\n",
    "\n",
    "Продемонстрируйте работу вашей функии на самом первом описании товара в датасете.\n",
    "\n",
    "Важно: так как функию будет необходимо запускать на большом корпусе, подумайте об эффективной реализации. Постарайтесь решить задачу в минимальное количество циклов и копирований.\n",
    "\n",
    "Референсная реализация на компьютере автора работала 230 секунд на 100к строчек."
   ]
  },
  {
   "cell_type": "code",
   "execution_count": 13,
   "metadata": {},
   "outputs": [],
   "source": [
    "from nltk.tokenize import word_tokenize\n",
    "from nltk.corpus import stopwords\n",
    "from nltk.stem.snowball import SnowballStemmer\n",
    "from sklearn.feature_extraction.text import CountVectorizer\n",
    "import string\n",
    "import re"
   ]
  },
  {
   "cell_type": "code",
   "execution_count": 14,
   "metadata": {},
   "outputs": [],
   "source": [
    "def my_tokenizer(s):\n",
    "    s = str(s).lower()\n",
    "    tokens = word_tokenize(s)\n",
    "    tokens = set(tokens).difference(stopwords.words('russian'))\n",
    "    tokens = list(filter(lambda x: re.match(\"^[a-zа-я]*$\", x), tokens))\n",
    "    \n",
    "    stemmer = SnowballStemmer('russian')\n",
    "    stemmed_tokens = [stemmer.stem(w) for w in tokens]\n",
    "\n",
    "    return stemmed_tokens"
   ]
  },
  {
   "cell_type": "code",
   "execution_count": 20,
   "metadata": {},
   "outputs": [
    {
     "name": "stderr",
     "output_type": "stream",
     "text": [
      "[nltk_data] Downloading package stopwords to\n",
      "[nltk_data]     C:\\Users\\Andrei\\AppData\\Roaming\\nltk_data...\n",
      "[nltk_data]   Unzipping corpora\\stopwords.zip.\n"
     ]
    },
    {
     "data": {
      "text/plain": [
       "True"
      ]
     },
     "execution_count": 20,
     "metadata": {},
     "output_type": "execute_result"
    }
   ],
   "source": [
    "import nltk\n",
    "nltk.download('stopwords')"
   ]
  },
  {
   "cell_type": "code",
   "execution_count": 15,
   "metadata": {},
   "outputs": [],
   "source": [
    "vec = CountVectorizer(ngram_range=(1, 1), tokenizer=my_tokenizer)"
   ]
  },
  {
   "cell_type": "code",
   "execution_count": 21,
   "metadata": {},
   "outputs": [
    {
     "data": {
      "text/plain": [
       "['clio',\n",
       " 'dci',\n",
       " 'delphi',\n",
       " 'kangoo',\n",
       " 'laguna',\n",
       " 'micra',\n",
       " 'nissan',\n",
       " 'renault',\n",
       " 'автомобил',\n",
       " 'аппаратур',\n",
       " 'блок',\n",
       " 'возможн',\n",
       " 'гарант',\n",
       " 'год',\n",
       " 'двигател',\n",
       " 'делф',\n",
       " 'дета',\n",
       " 'дизел',\n",
       " 'документ',\n",
       " 'дорож',\n",
       " 'друг',\n",
       " 'запчаст',\n",
       " 'канг',\n",
       " 'кли',\n",
       " 'коммутатор',\n",
       " 'компан',\n",
       " 'комплект',\n",
       " 'компьютер',\n",
       " 'контрактн',\n",
       " 'лагун',\n",
       " 'легальн',\n",
       " 'мега',\n",
       " 'микр',\n",
       " 'мозг',\n",
       " 'мотор',\n",
       " 'налич',\n",
       " 'наложн',\n",
       " 'нисса',\n",
       " 'оригина',\n",
       " 'отличн',\n",
       " 'отправля',\n",
       " 'платеж',\n",
       " 'подробн',\n",
       " 'предоставля',\n",
       " 'пробег',\n",
       " 'проверен',\n",
       " 'раздел',\n",
       " 'регион',\n",
       " 'рен',\n",
       " 'репутац',\n",
       " 'росс',\n",
       " 'сво',\n",
       " 'состоян',\n",
       " 'союз',\n",
       " 'сценик',\n",
       " 'таможен',\n",
       " 'топливн',\n",
       " 'торгу',\n",
       " 'транспортн',\n",
       " 'управлен',\n",
       " 'установк',\n",
       " 'эб',\n",
       " 'электрон']"
      ]
     },
     "execution_count": 21,
     "metadata": {},
     "output_type": "execute_result"
    }
   ],
   "source": [
    "bow = vec.fit_transform(train['title&description'].head(1))\n",
    "vec.get_feature_names()"
   ]
  },
  {
   "cell_type": "markdown",
   "metadata": {},
   "source": [
    "## Задание 7 (1 балл)\n",
    "\n",
    "1. Возьмите случайные 500к строк из датасета. Постройте по ним CountVectorizer с применением вашего токенизатора.\n",
    "2. Разбейте полученную матрицу на train, test в отношении 4 к 1. Не забудьте про target переменную.\n",
    "3. Обучите SGDClassifier на полученной выборке.\n",
    "4. Посчитайте метрику accuracy"
   ]
  },
  {
   "cell_type": "code",
   "execution_count": 22,
   "metadata": {},
   "outputs": [
    {
     "data": {
      "text/html": [
       "<div>\n",
       "<style scoped>\n",
       "    .dataframe tbody tr th:only-of-type {\n",
       "        vertical-align: middle;\n",
       "    }\n",
       "\n",
       "    .dataframe tbody tr th {\n",
       "        vertical-align: top;\n",
       "    }\n",
       "\n",
       "    .dataframe thead th {\n",
       "        text-align: right;\n",
       "    }\n",
       "</style>\n",
       "<table border=\"1\" class=\"dataframe\">\n",
       "  <thead>\n",
       "    <tr style=\"text-align: right;\">\n",
       "      <th></th>\n",
       "      <th>Category</th>\n",
       "      <th>title&amp;description</th>\n",
       "    </tr>\n",
       "  </thead>\n",
       "  <tbody>\n",
       "    <tr>\n",
       "      <th>3583822</th>\n",
       "      <td>10</td>\n",
       "      <td>Блок управления климатом (печкой) Toyota Yaris...</td>\n",
       "    </tr>\n",
       "    <tr>\n",
       "      <th>1241139</th>\n",
       "      <td>36</td>\n",
       "      <td>Кронциркуль Кронциркуль с набором игл 17 шт.</td>\n",
       "    </tr>\n",
       "    <tr>\n",
       "      <th>2066008</th>\n",
       "      <td>10</td>\n",
       "      <td>Крыло Nissan Note (E11) 2006-2013 переднее лев...</td>\n",
       "    </tr>\n",
       "    <tr>\n",
       "      <th>2846946</th>\n",
       "      <td>27</td>\n",
       "      <td>Туфли женские Предлагаю женские туфли бежевого...</td>\n",
       "    </tr>\n",
       "    <tr>\n",
       "      <th>845342</th>\n",
       "      <td>29</td>\n",
       "      <td>Ветровка и штаны Gusti Комплект ветровка и шта...</td>\n",
       "    </tr>\n",
       "  </tbody>\n",
       "</table>\n",
       "</div>"
      ],
      "text/plain": [
       "         Category                                  title&description\n",
       "3583822        10  Блок управления климатом (печкой) Toyota Yaris...\n",
       "1241139        36       Кронциркуль Кронциркуль с набором игл 17 шт.\n",
       "2066008        10  Крыло Nissan Note (E11) 2006-2013 переднее лев...\n",
       "2846946        27  Туфли женские Предлагаю женские туфли бежевого...\n",
       "845342         29  Ветровка и штаны Gusti Комплект ветровка и шта..."
      ]
     },
     "execution_count": 22,
     "metadata": {},
     "output_type": "execute_result"
    }
   ],
   "source": [
    "train = train[['Category', 'title&description']]\n",
    "r_data = train.sample(n = 100000)\n",
    "r_data.head(5)"
   ]
  },
  {
   "cell_type": "code",
   "execution_count": 23,
   "metadata": {},
   "outputs": [
    {
     "data": {
      "text/plain": [
       "208"
      ]
     },
     "execution_count": 23,
     "metadata": {},
     "output_type": "execute_result"
    }
   ],
   "source": [
    "import gc\n",
    "del train\n",
    "gc.collect()"
   ]
  },
  {
   "cell_type": "code",
   "execution_count": null,
   "metadata": {},
   "outputs": [],
   "source": [
    "#r_data.to_csv(index=False)"
   ]
  },
  {
   "cell_type": "code",
   "execution_count": 24,
   "metadata": {},
   "outputs": [
    {
     "data": {
      "text/plain": [
       "<100000x82368 sparse matrix of type '<class 'numpy.int64'>'\n",
       "\twith 2417527 stored elements in Compressed Sparse Row format>"
      ]
     },
     "execution_count": 24,
     "metadata": {},
     "output_type": "execute_result"
    }
   ],
   "source": [
    "bow = vec.fit_transform(r_data['title&description'])\n",
    "bow"
   ]
  },
  {
   "cell_type": "code",
   "execution_count": 25,
   "metadata": {},
   "outputs": [
    {
     "ename": "MemoryError",
     "evalue": "Unable to allocate 61.4 GiB for an array with shape (100000, 82368) and data type int64",
     "output_type": "error",
     "traceback": [
      "\u001b[1;31m---------------------------------------------------------------------------\u001b[0m",
      "\u001b[1;31mMemoryError\u001b[0m                               Traceback (most recent call last)",
      "\u001b[1;32m<ipython-input-25-577042608cdd>\u001b[0m in \u001b[0;36m<module>\u001b[1;34m\u001b[0m\n\u001b[1;32m----> 1\u001b[1;33m \u001b[0mmatrix\u001b[0m \u001b[1;33m=\u001b[0m \u001b[0mpd\u001b[0m\u001b[1;33m.\u001b[0m\u001b[0mDataFrame\u001b[0m\u001b[1;33m(\u001b[0m\u001b[0mbow\u001b[0m\u001b[1;33m.\u001b[0m\u001b[0mtoarray\u001b[0m\u001b[1;33m(\u001b[0m\u001b[1;33m)\u001b[0m\u001b[1;33m,\u001b[0m \u001b[0mcolumns\u001b[0m\u001b[1;33m=\u001b[0m\u001b[0mvec\u001b[0m\u001b[1;33m.\u001b[0m\u001b[0mget_feature_names\u001b[0m\u001b[1;33m(\u001b[0m\u001b[1;33m)\u001b[0m\u001b[1;33m)\u001b[0m\u001b[1;33m\u001b[0m\u001b[1;33m\u001b[0m\u001b[0m\n\u001b[0m\u001b[0;32m      2\u001b[0m \u001b[0my\u001b[0m \u001b[1;33m=\u001b[0m \u001b[0mr_data\u001b[0m\u001b[1;33m[\u001b[0m\u001b[1;34m'Category'\u001b[0m\u001b[1;33m]\u001b[0m\u001b[1;33m\u001b[0m\u001b[1;33m\u001b[0m\u001b[0m\n",
      "\u001b[1;32m~\\anaconda\\lib\\site-packages\\scipy\\sparse\\compressed.py\u001b[0m in \u001b[0;36mtoarray\u001b[1;34m(self, order, out)\u001b[0m\n\u001b[0;32m   1023\u001b[0m         \u001b[1;32mif\u001b[0m \u001b[0mout\u001b[0m \u001b[1;32mis\u001b[0m \u001b[1;32mNone\u001b[0m \u001b[1;32mand\u001b[0m \u001b[0morder\u001b[0m \u001b[1;32mis\u001b[0m \u001b[1;32mNone\u001b[0m\u001b[1;33m:\u001b[0m\u001b[1;33m\u001b[0m\u001b[1;33m\u001b[0m\u001b[0m\n\u001b[0;32m   1024\u001b[0m             \u001b[0morder\u001b[0m \u001b[1;33m=\u001b[0m \u001b[0mself\u001b[0m\u001b[1;33m.\u001b[0m\u001b[0m_swap\u001b[0m\u001b[1;33m(\u001b[0m\u001b[1;34m'cf'\u001b[0m\u001b[1;33m)\u001b[0m\u001b[1;33m[\u001b[0m\u001b[1;36m0\u001b[0m\u001b[1;33m]\u001b[0m\u001b[1;33m\u001b[0m\u001b[1;33m\u001b[0m\u001b[0m\n\u001b[1;32m-> 1025\u001b[1;33m         \u001b[0mout\u001b[0m \u001b[1;33m=\u001b[0m \u001b[0mself\u001b[0m\u001b[1;33m.\u001b[0m\u001b[0m_process_toarray_args\u001b[0m\u001b[1;33m(\u001b[0m\u001b[0morder\u001b[0m\u001b[1;33m,\u001b[0m \u001b[0mout\u001b[0m\u001b[1;33m)\u001b[0m\u001b[1;33m\u001b[0m\u001b[1;33m\u001b[0m\u001b[0m\n\u001b[0m\u001b[0;32m   1026\u001b[0m         \u001b[1;32mif\u001b[0m \u001b[1;32mnot\u001b[0m \u001b[1;33m(\u001b[0m\u001b[0mout\u001b[0m\u001b[1;33m.\u001b[0m\u001b[0mflags\u001b[0m\u001b[1;33m.\u001b[0m\u001b[0mc_contiguous\u001b[0m \u001b[1;32mor\u001b[0m \u001b[0mout\u001b[0m\u001b[1;33m.\u001b[0m\u001b[0mflags\u001b[0m\u001b[1;33m.\u001b[0m\u001b[0mf_contiguous\u001b[0m\u001b[1;33m)\u001b[0m\u001b[1;33m:\u001b[0m\u001b[1;33m\u001b[0m\u001b[1;33m\u001b[0m\u001b[0m\n\u001b[0;32m   1027\u001b[0m             \u001b[1;32mraise\u001b[0m \u001b[0mValueError\u001b[0m\u001b[1;33m(\u001b[0m\u001b[1;34m'Output array must be C or F contiguous'\u001b[0m\u001b[1;33m)\u001b[0m\u001b[1;33m\u001b[0m\u001b[1;33m\u001b[0m\u001b[0m\n",
      "\u001b[1;32m~\\anaconda\\lib\\site-packages\\scipy\\sparse\\base.py\u001b[0m in \u001b[0;36m_process_toarray_args\u001b[1;34m(self, order, out)\u001b[0m\n\u001b[0;32m   1183\u001b[0m             \u001b[1;32mreturn\u001b[0m \u001b[0mout\u001b[0m\u001b[1;33m\u001b[0m\u001b[1;33m\u001b[0m\u001b[0m\n\u001b[0;32m   1184\u001b[0m         \u001b[1;32melse\u001b[0m\u001b[1;33m:\u001b[0m\u001b[1;33m\u001b[0m\u001b[1;33m\u001b[0m\u001b[0m\n\u001b[1;32m-> 1185\u001b[1;33m             \u001b[1;32mreturn\u001b[0m \u001b[0mnp\u001b[0m\u001b[1;33m.\u001b[0m\u001b[0mzeros\u001b[0m\u001b[1;33m(\u001b[0m\u001b[0mself\u001b[0m\u001b[1;33m.\u001b[0m\u001b[0mshape\u001b[0m\u001b[1;33m,\u001b[0m \u001b[0mdtype\u001b[0m\u001b[1;33m=\u001b[0m\u001b[0mself\u001b[0m\u001b[1;33m.\u001b[0m\u001b[0mdtype\u001b[0m\u001b[1;33m,\u001b[0m \u001b[0morder\u001b[0m\u001b[1;33m=\u001b[0m\u001b[0morder\u001b[0m\u001b[1;33m)\u001b[0m\u001b[1;33m\u001b[0m\u001b[1;33m\u001b[0m\u001b[0m\n\u001b[0m\u001b[0;32m   1186\u001b[0m \u001b[1;33m\u001b[0m\u001b[0m\n\u001b[0;32m   1187\u001b[0m \u001b[1;33m\u001b[0m\u001b[0m\n",
      "\u001b[1;31mMemoryError\u001b[0m: Unable to allocate 61.4 GiB for an array with shape (100000, 82368) and data type int64"
     ]
    }
   ],
   "source": [
    "matrix = pd.DataFrame(bow.toarray(), columns=vec.get_feature_names())\n",
    "y = r_data['Category']"
   ]
  },
  {
   "cell_type": "code",
   "execution_count": null,
   "metadata": {},
   "outputs": [],
   "source": [
    "from sklearn.model_selection import train_test_split\n",
    "from sklearn.linear_model import SGDClassifier\n",
    "from sklearn.metrics import accuracy_score\n",
    "\n",
    "from sklearn.metrics import classification_report, roc_auc_score\n",
    "from sklearn.pipeline import Pipeline\n",
    "from sklearn.preprocessing import MaxAbsScaler"
   ]
  },
  {
   "cell_type": "code",
   "execution_count": null,
   "metadata": {},
   "outputs": [],
   "source": [
    "X_mtrain ,X_mtest, y_mtrain, y_mtest = train_test_split(matrix,\n",
    "                                                    y, test_size=0.2, \n",
    "                                                    random_state=42, shuffle=False)"
   ]
  },
  {
   "cell_type": "code",
   "execution_count": null,
   "metadata": {},
   "outputs": [],
   "source": [
    "scaler = MaxAbsScaler()\n",
    "X_mtrain = scaler.fit_transform(X_mtrain)\n",
    "X_mtest = scaler.transform(X_mtest)"
   ]
  },
  {
   "cell_type": "code",
   "execution_count": null,
   "metadata": {},
   "outputs": [],
   "source": [
    "clf = SGDClassifier()\n",
    "clf.fit(X_mtrain, y_mtrain)\n",
    "y_pred = clf.predict(X_mtest)\n",
    "print(accuracy_score(y_mtest, y_pred))"
   ]
  },
  {
   "cell_type": "markdown",
   "metadata": {},
   "source": [
    "## Задание 8 (1 балл)\n",
    "\n",
    "1. Повторите 7 задание, но с tf-idf векторизатором. Как изменилось качество.\n",
    "2. Мы можем еще сильнее уменьшите размер нашей матрицы, если отбросим значения df близкие к единице. Скорее всего такие слова не несут много информации о категории, так как встречаются достаточно часто. Ограничьте максимальный df в параметрах TfIdfVectorizer, поставьте верхнюю границу равную 0.9. Как изменился размер матрицы, как изменилось качество?\n"
   ]
  },
  {
   "cell_type": "code",
   "execution_count": null,
   "metadata": {},
   "outputs": [],
   "source": [
    "from sklearn.feature_extraction.text import TfidfVectorizer\n",
    "\n",
    "vec = TfidfVectorizer(ngram_range=(1, 1))\n",
    "bow = vec.fit_transform(r_data['title&description'])\n",
    "\n",
    "matrix = pd.DataFrame(bow.toarray(), columns=vec.get_feature_names())\n",
    "\n",
    "X_mtrain ,X_mtest, y_mtrain, y_mtest = train_test_split(matrix,\n",
    "                                                    y, test_size=0.2, \n",
    "                                                    random_state=42, shuffle=False)\n",
    "\n",
    "scaler = MaxAbsScaler()\n",
    "X_mtrain = scaler.fit_transform(X_mtrain)\n",
    "X_mtest = scaler.transform(X_mtest)\n",
    "\n",
    "clf = SGDClassifier()\n",
    "clf.fit(X_mtrain, y_mtrain)\n",
    "y_pred = clf.predict(X_mtest)\n",
    "print(accuracy_score(y_mtest, y_pred))"
   ]
  },
  {
   "cell_type": "code",
   "execution_count": null,
   "metadata": {},
   "outputs": [],
   "source": [
    "vec = TfidfVectorizer(ngram_range=(1, 1), max_df = 0.9)\n",
    "bow = vec.fit_transform(r_data['title&description'])\n",
    "\n",
    "matrix = pd.DataFrame(bow.toarray(), columns=vec.get_feature_names())\n",
    "\n",
    "X_mtrain ,X_mtest, y_mtrain, y_mtest = train_test_split(matrix,\n",
    "                                                    y, test_size=0.2, \n",
    "                                                    random_state=42, shuffle=False)\n",
    "\n",
    "scaler = MaxAbsScaler()\n",
    "X_mtrain = scaler.fit_transform(X_mtrain)\n",
    "X_mtest = scaler.transform(X_mtest)\n",
    "\n",
    "clf = SGDClassifier()\n",
    "clf.fit(X_mtrain, y_mtrain)\n",
    "y_pred = clf.predict(X_mtest)\n",
    "print(bow)\n",
    "print(accuracy_score(y_mtest, y_pred))"
   ]
  },
  {
   "cell_type": "markdown",
   "metadata": {},
   "source": [
    "## Задание 9 (1 балл)\n",
    "Еще один популяпный трюк, который позволит уменьшить количество признаков называется hashing trick. Его суть в том, то мы случайно группируем признаки ииии  ..... складываем их! А потом удаляем исходные признаки. В итоге все наши признаки это просто суммы исходных. Звучит странно, но это отлично работает. Давайте проверим этот трюк в нашем сеттинге.\n",
    "Также при таком подходе вам не нужно хранить словарь token->index, что тоже иногда полезно.\n",
    "\n",
    "1. Повторите задание 7 с HashingVectorizer, укажите количество фичей равное 30000.\n",
    "2. Какой из трех подходов показал самый высокий результат?"
   ]
  },
  {
   "cell_type": "code",
   "execution_count": 1,
   "metadata": {},
   "outputs": [
    {
     "ename": "NameError",
     "evalue": "name 'r_data' is not defined",
     "output_type": "error",
     "traceback": [
      "\u001b[1;31m---------------------------------------------------------------------------\u001b[0m",
      "\u001b[1;31mNameError\u001b[0m                                 Traceback (most recent call last)",
      "\u001b[1;32m<ipython-input-1-5862b432f50c>\u001b[0m in \u001b[0;36m<module>\u001b[1;34m\u001b[0m\n\u001b[0;32m      2\u001b[0m \u001b[1;33m\u001b[0m\u001b[0m\n\u001b[0;32m      3\u001b[0m \u001b[0mvec\u001b[0m \u001b[1;33m=\u001b[0m \u001b[0mHashingVectorizer\u001b[0m\u001b[1;33m(\u001b[0m\u001b[0mn_features\u001b[0m\u001b[1;33m=\u001b[0m\u001b[1;36m30000\u001b[0m\u001b[1;33m)\u001b[0m\u001b[1;33m\u001b[0m\u001b[1;33m\u001b[0m\u001b[0m\n\u001b[1;32m----> 4\u001b[1;33m \u001b[0mbow\u001b[0m \u001b[1;33m=\u001b[0m \u001b[0mvec\u001b[0m\u001b[1;33m.\u001b[0m\u001b[0mfit_transform\u001b[0m\u001b[1;33m(\u001b[0m\u001b[0mr_data\u001b[0m\u001b[1;33m[\u001b[0m\u001b[1;34m'title&description'\u001b[0m\u001b[1;33m]\u001b[0m\u001b[1;33m)\u001b[0m\u001b[1;33m\u001b[0m\u001b[1;33m\u001b[0m\u001b[0m\n\u001b[0m\u001b[0;32m      5\u001b[0m \u001b[1;33m\u001b[0m\u001b[0m\n\u001b[0;32m      6\u001b[0m \u001b[0mmatrix\u001b[0m \u001b[1;33m=\u001b[0m \u001b[0mpd\u001b[0m\u001b[1;33m.\u001b[0m\u001b[0mDataFrame\u001b[0m\u001b[1;33m(\u001b[0m\u001b[0mbow\u001b[0m\u001b[1;33m.\u001b[0m\u001b[0mtoarray\u001b[0m\u001b[1;33m(\u001b[0m\u001b[1;33m)\u001b[0m\u001b[1;33m,\u001b[0m \u001b[0mcolumns\u001b[0m\u001b[1;33m=\u001b[0m\u001b[0mvec\u001b[0m\u001b[1;33m.\u001b[0m\u001b[0mget_feature_names\u001b[0m\u001b[1;33m(\u001b[0m\u001b[1;33m)\u001b[0m\u001b[1;33m)\u001b[0m\u001b[1;33m\u001b[0m\u001b[1;33m\u001b[0m\u001b[0m\n",
      "\u001b[1;31mNameError\u001b[0m: name 'r_data' is not defined"
     ]
    }
   ],
   "source": [
    " from sklearn.feature_extraction.text import HashingVectorizer\n",
    "\n",
    "vec = HashingVectorizer(n_features=30000)\n",
    "bow = vec.fit_transform(r_data['title&description'])\n",
    "\n",
    "matrix = pd.DataFrame(bow.toarray(), columns=vec.get_feature_names())\n",
    "\n",
    "X_mtrain ,X_mtest, y_mtrain, y_mtest = train_test_split(matrix,\n",
    "                                                    y, test_size=0.2, \n",
    "                                                    random_state=42, shuffle=False)\n",
    "\n",
    "scaler = MaxAbsScaler()\n",
    "X_mtrain = scaler.fit_transform(X_mtrain)\n",
    "X_mtest = scaler.transform(X_mtest)\n",
    "\n",
    "clf = SGDClassifier()\n",
    "clf.fit(X_mtrain, y_mtrain)\n",
    "y_pred = clf.predict(X_mtest)\n",
    "print(accuracy_score(y_mtest, y_pred))"
   ]
  },
  {
   "cell_type": "markdown",
   "metadata": {},
   "source": [
    "## Задание 10 (1.5 балла)\n",
    "\n",
    "Пришло время выйти в мир. Отправляйтесь на Kaggle Inclass и сделайте первую посылку. Там вы найдете инструкцию как сформировать файл с предсказаниями и отправить его."
   ]
  },
  {
   "cell_type": "code",
   "execution_count": null,
   "metadata": {},
   "outputs": [],
   "source": []
  }
 ],
 "metadata": {
  "kernelspec": {
   "display_name": "Python 3",
   "language": "python",
   "name": "python3"
  },
  "language_info": {
   "codemirror_mode": {
    "name": "ipython",
    "version": 3
   },
   "file_extension": ".py",
   "mimetype": "text/x-python",
   "name": "python",
   "nbconvert_exporter": "python",
   "pygments_lexer": "ipython3",
   "version": "3.8.5"
  }
 },
 "nbformat": 4,
 "nbformat_minor": 4
}
